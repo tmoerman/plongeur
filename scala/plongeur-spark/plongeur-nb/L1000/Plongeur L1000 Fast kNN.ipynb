{
 "cells": [
  {
   "cell_type": "markdown",
   "metadata": {
    "nbpresent": {
     "id": "7de144a0-ff41-438e-b1a2-e1d36a34913a"
    }
   },
   "source": [
    "# Plongeur\n",
    "\n",
    "A *topological data analysis* library.\n",
    "\n",
    "> Core algorithm written in [Scala](http://www.scala-lang.org/), using Apache [Spark](http://spark.apache.org/).\n",
    "> \n",
    "> Executed in a [Jupyter](http://jupyter.org/) notebook, using the Apache [Toree](https://github.com/apache/incubator-toree) kernel and [declarative widgets](http://jupyter-incubator.github.io/declarativewidgets/docs.html).\n",
    ">\n",
    "> Graphs rendered with [Sigma](http://sigmajs.org/)/[Linkurious](https://github.com/Linkurious/linkurious.js), wrapped in a [Polymer](https://www.polymer-project.org/1.0/) component.\n",
    "> \n",
    "> Reactive machinery powered by [Rx](http://reactivex.io/) [RxScala](https://github.com/ReactiveX/RxScala).\n"
   ]
  },
  {
   "cell_type": "markdown",
   "metadata": {
    "nbpresent": {
     "id": "f5ac5e2a-9a1a-46ab-8882-2a492fbebc19"
    }
   },
   "source": [
    "#### Maven dependencies"
   ]
  },
  {
   "cell_type": "code",
   "execution_count": 1,
   "metadata": {
    "collapsed": false,
    "nbpresent": {
     "id": "c3144ed8-e62e-4316-917e-26b8904edc72"
    },
    "scrolled": false
   },
   "outputs": [
    {
     "name": "stdout",
     "output_type": "stream",
     "text": [
      "Marking org.apache.spark:spark-mllib_2.10:1.6.2 for download\n",
      "Preparing to fetch from:\n",
      "-> file:/var/folders/zz/zyxvpxvq6csfxvn_n0000000000000/T/toree_add_deps7705569031211021905/\n",
      "-> file:/Users/tmo/.m2/repository\n",
      "-> https://repo1.maven.org/maven2\n",
      "-> New file at /var/folders/zz/zyxvpxvq6csfxvn_n0000000000000/T/toree_add_deps7705569031211021905/https/repo1.maven.org/maven2/org/apache/spark/spark-mllib_2.10/1.6.2/spark-mllib_2.10-1.6.2.jar\n",
      "Marking org.scalanlp:breeze_2.10:0.12 for download\n",
      "Preparing to fetch from:\n",
      "-> file:/var/folders/zz/zyxvpxvq6csfxvn_n0000000000000/T/toree_add_deps7705569031211021905/\n",
      "-> https://repo1.maven.org/maven2\n",
      "-> New file at /var/folders/zz/zyxvpxvq6csfxvn_n0000000000000/T/toree_add_deps7705569031211021905/https/repo1.maven.org/maven2/org/scalanlp/breeze-macros_2.10/0.12/breeze-macros_2.10-0.12.jar\n",
      "-> New file at /var/folders/zz/zyxvpxvq6csfxvn_n0000000000000/T/toree_add_deps7705569031211021905/https/repo1.maven.org/maven2/org/spire-math/spire-macros_2.10/0.7.4/spire-macros_2.10-0.7.4.jar\n",
      "-> New file at /var/folders/zz/zyxvpxvq6csfxvn_n0000000000000/T/toree_add_deps7705569031211021905/https/repo1.maven.org/maven2/net/sf/opencsv/opencsv/2.3/opencsv-2.3.jar\n",
      "-> New file at /var/folders/zz/zyxvpxvq6csfxvn_n0000000000000/T/toree_add_deps7705569031211021905/https/repo1.maven.org/maven2/junit/junit/4.8.2/junit-4.8.2.jar\n",
      "-> New file at /var/folders/zz/zyxvpxvq6csfxvn_n0000000000000/T/toree_add_deps7705569031211021905/https/repo1.maven.org/maven2/com/github/fommil/netlib/core/1.1.2/core-1.1.2.jar\n",
      "-> New file at /var/folders/zz/zyxvpxvq6csfxvn_n0000000000000/T/toree_add_deps7705569031211021905/https/repo1.maven.org/maven2/com/github/rwl/jtransforms/2.4.0/jtransforms-2.4.0.jar\n",
      "-> New file at /var/folders/zz/zyxvpxvq6csfxvn_n0000000000000/T/toree_add_deps7705569031211021905/https/repo1.maven.org/maven2/com/chuusai/shapeless_2.10.4/2.0.0/shapeless_2.10.4-2.0.0.jar\n",
      "-> New file at /var/folders/zz/zyxvpxvq6csfxvn_n0000000000000/T/toree_add_deps7705569031211021905/https/repo1.maven.org/maven2/org/apache/commons/commons-math3/3.2/commons-math3-3.2.jar\n",
      "-> New file at /var/folders/zz/zyxvpxvq6csfxvn_n0000000000000/T/toree_add_deps7705569031211021905/https/repo1.maven.org/maven2/net/sourceforge/f2j/arpack_combined_all/0.1/arpack_combined_all-0.1.jar\n",
      "-> New file at /var/folders/zz/zyxvpxvq6csfxvn_n0000000000000/T/toree_add_deps7705569031211021905/https/repo1.maven.org/maven2/org/spire-math/spire_2.10/0.7.4/spire_2.10-0.7.4.jar\n",
      "-> New file at /var/folders/zz/zyxvpxvq6csfxvn_n0000000000000/T/toree_add_deps7705569031211021905/https/repo1.maven.org/maven2/org/scalanlp/breeze_2.10/0.12/breeze_2.10-0.12.jar\n",
      "Marking org.scalanlp:breeze-natives_2.10:0.12 for download\n",
      "Preparing to fetch from:\n",
      "-> file:/var/folders/zz/zyxvpxvq6csfxvn_n0000000000000/T/toree_add_deps7705569031211021905/\n",
      "-> https://repo1.maven.org/maven2\n",
      "-> New file at /var/folders/zz/zyxvpxvq6csfxvn_n0000000000000/T/toree_add_deps7705569031211021905/https/repo1.maven.org/maven2/org/scalanlp/breeze-natives_2.10/0.12/breeze-natives_2.10-0.12.jar\n",
      "Marking org.scalanlp:breeze-macros_2.10:0.12 for download\n",
      "Preparing to fetch from:\n",
      "-> file:/var/folders/zz/zyxvpxvq6csfxvn_n0000000000000/T/toree_add_deps7705569031211021905/\n",
      "-> https://repo1.maven.org/maven2\n",
      "-> New file at /var/folders/zz/zyxvpxvq6csfxvn_n0000000000000/T/toree_add_deps7705569031211021905/https/repo1.maven.org/maven2/org/scalanlp/breeze-macros_2.10/0.12/breeze-macros_2.10-0.12.jar\n",
      "Marking com.github.karlhigley:spark-neighbors_2.10:0.3.6-FORK for download\n",
      "Preparing to fetch from:\n",
      "-> file:/var/folders/zz/zyxvpxvq6csfxvn_n0000000000000/T/toree_add_deps7705569031211021905/\n",
      "-> file:/Users/tmo/.m2/repository\n",
      "-> https://repo1.maven.org/maven2\n",
      "-> New file at /Users/tmo/.m2/repository/com/github/karlhigley/spark-neighbors_2.10/0.3.6-FORK/spark-neighbors_2.10-0.3.6-FORK.jar\n",
      "Marking io.reactivex:rxscala_2.10:0.26.1 for download\n",
      "Preparing to fetch from:\n",
      "-> file:/var/folders/zz/zyxvpxvq6csfxvn_n0000000000000/T/toree_add_deps7705569031211021905/\n",
      "-> file:/Users/tmo/.m2/repository\n",
      "-> https://repo1.maven.org/maven2\n",
      "-> New file at /Users/tmo/.m2/repository/io/reactivex/rxscala_2.10/0.26.1/rxscala_2.10-0.26.1.jar\n",
      "-> New file at /Users/tmo/.m2/repository/io/reactivex/rxjava/1.1.1/rxjava-1.1.1.jar\n",
      "Marking com.softwaremill.quicklens:quicklens_2.10:1.4.4 for download\n",
      "Preparing to fetch from:\n",
      "-> file:/var/folders/zz/zyxvpxvq6csfxvn_n0000000000000/T/toree_add_deps7705569031211021905/\n",
      "-> file:/Users/tmo/.m2/repository\n",
      "-> https://repo1.maven.org/maven2\n",
      "-> New file at /var/folders/zz/zyxvpxvq6csfxvn_n0000000000000/T/toree_add_deps7705569031211021905/https/repo1.maven.org/maven2/com/softwaremill/quicklens/quicklens_2.10/1.4.4/quicklens_2.10-1.4.4.jar\n",
      "Marking com.chuusai:shapeless_2.10:2.3.0 for download\n",
      "Preparing to fetch from:\n",
      "-> file:/var/folders/zz/zyxvpxvq6csfxvn_n0000000000000/T/toree_add_deps7705569031211021905/\n",
      "-> https://oss.sonatype.org/content/repositories/releases/\n",
      "-> file:/Users/tmo/.m2/repository\n",
      "-> https://repo1.maven.org/maven2\n",
      "-> New file at /var/folders/zz/zyxvpxvq6csfxvn_n0000000000000/T/toree_add_deps7705569031211021905/https/oss.sonatype.org/content/repositories/releases/com/chuusai/shapeless_2.10/2.3.0/shapeless_2.10-2.3.0.jar\n",
      "Marking org.tmoerman:plongeur-spark_2.10:0.3.41 for download\n",
      "Preparing to fetch from:\n",
      "-> file:/var/folders/zz/zyxvpxvq6csfxvn_n0000000000000/T/toree_add_deps7705569031211021905/\n",
      "-> file:/Users/tmo/.m2/repository\n",
      "-> https://repo1.maven.org/maven2\n",
      "-> New file at /Users/tmo/.m2/repository/org/tmoerman/plongeur-spark_2.10/0.3.41/plongeur-spark_2.10-0.3.41.jar\n"
     ]
    }
   ],
   "source": [
    "%AddDeps org.apache.spark spark-mllib_2.10 1.6.2 --repository file:/Users/tmo/.m2/repository\n",
    "%AddDeps org.scalanlp breeze_2.10 0.12 --transitive\n",
    "%AddDeps org.scalanlp breeze-natives_2.10 0.12\n",
    "%AddDeps org.scalanlp breeze-macros_2.10 0.12\n",
    "%AddDeps com.github.karlhigley spark-neighbors_2.10 0.3.6-FORK --repository file:/Users/tmo/.m2/repository\n",
    "%AddDeps io.reactivex rxscala_2.10 0.26.1 --transitive --repository file:/Users/tmo/.m2/repository \n",
    "%AddDeps com.softwaremill.quicklens quicklens_2.10 1.4.4 --repository file:/Users/tmo/.m2/repository\n",
    "%AddDeps com.chuusai shapeless_2.10 2.3.0 --repository https://oss.sonatype.org/content/repositories/releases/ --repository file:/Users/tmo/.m2/repository\n",
    "%AddDeps org.tmoerman plongeur-spark_2.10 0.3.41 --repository file:/Users/tmo/.m2/repository"
   ]
  },
  {
   "cell_type": "markdown",
   "metadata": {
    "collapsed": false,
    "nbpresent": {
     "id": "ff4512c4-eb02-43ff-8911-26c511ea96b4"
    }
   },
   "source": [
    "#### Import classes"
   ]
  },
  {
   "cell_type": "code",
   "execution_count": 2,
   "metadata": {
    "collapsed": false
   },
   "outputs": [],
   "source": [
    "import org.apache.commons.lang.StringUtils.trim\n",
    "import org.apache.spark.SparkContext\n",
    "import org.apache.spark.mllib.linalg.Vectors.dense\n",
    "import org.apache.spark.rdd.RDD\n",
    "import org.joda.time.DateTime\n",
    "import org.tmoerman.plongeur.tda.Distances.LpNormDistance\n",
    "import org.tmoerman.plongeur.tda.LSH.LSHParams\n",
    "import org.tmoerman.plongeur.tda.Model.{DataPoint, TDAContext, dp}\n",
    "import org.tmoerman.plongeur.tda.knn.FastKNN.FastKNNParams\n",
    "import org.tmoerman.plongeur.tda.knn.SampledKNN.SampledKNNParams\n",
    "import org.tmoerman.plongeur.tda.knn.{FastKNN2, SampledKNN, _}\n",
    "import org.tmoerman.plongeur.util.RDDFunctions._\n",
    "import org.tmoerman.plongeur.util.TimeUtils.time\n",
    "import breeze.stats.distributions._"
   ]
  },
  {
   "cell_type": "markdown",
   "metadata": {},
   "source": [
    "#### read the L1000 file"
   ]
  },
  {
   "cell_type": "code",
   "execution_count": 3,
   "metadata": {
    "collapsed": true
   },
   "outputs": [],
   "source": [
    "def read(file: String)(implicit sc: SparkContext): (Array[String], RDD[DataPoint]) = {\n",
    "\n",
    "    def parseLine(index: Long, cols: Array[String]) =\n",
    "      dp(\n",
    "        index,\n",
    "        dense(cols.tail.map(_.toDouble)),\n",
    "        Map(\"pertID\" -> cols.head))\n",
    "\n",
    "    sc\n",
    "      .textFile(file)\n",
    "      .map(line => line.split(\",\").map(trim))\n",
    "      .parseWithIndex(parseLine)\n",
    "}"
   ]
  },
  {
   "cell_type": "code",
   "execution_count": 4,
   "metadata": {
    "collapsed": true
   },
   "outputs": [],
   "source": [
    "val wd = \"../../src/test/resources/l1000/\"\n",
    "\n",
    "val geneXPSignatures =  wd + \"LINCS_Gene_Expression_signatures_CD.csv\""
   ]
  },
  {
   "cell_type": "code",
   "execution_count": 5,
   "metadata": {
    "collapsed": false
   },
   "outputs": [
    {
     "data": {
      "text/plain": [
       "20339"
      ]
     },
     "execution_count": 5,
     "metadata": {},
     "output_type": "execute_result"
    }
   ],
   "source": [
    "val perts = read(geneXPSignatures)(sc)._2\n",
    "\n",
    "perts.count.toInt"
   ]
  },
  {
   "cell_type": "markdown",
   "metadata": {},
   "source": [
    "#### set up the benchmarking code"
   ]
  },
  {
   "cell_type": "code",
   "execution_count": 19,
   "metadata": {
    "collapsed": false
   },
   "outputs": [],
   "source": [
    "def doStuff(ctx: TDAContext, pctTotal: Double, sample: Either[Int, Double], fastKNNParams: FastKNNParams, baseLine: kNN_RDD) = {\n",
    "    \n",
    "    val ((result, accuracy), wallTime) = time {\n",
    "      val rdd = FastKNN2(ctx, fastKNNParams).cache\n",
    "\n",
    "      (rdd, relativeAccuracy(rdd, baseLine))\n",
    "    }\n",
    "\n",
    "    val now = DateTime.now\n",
    "    \n",
    "    val lshParams = fastKNNParams.lshParams\n",
    "    \n",
    "    val k = fastKNNParams.k\n",
    "    val B = fastKNNParams.blockSize\n",
    "    val L = fastKNNParams.nrHashTables\n",
    "    \n",
    "    val distance = lshParams.distance\n",
    "    val radius = lshParams.radius\n",
    "    val sigLength = lshParams.signatureLength\n",
    "    \n",
    "    (distance, k, radius.getOrElse(\"N/A\"), sigLength, L, B, pctTotal, wallTime.toSeconds, accuracy, sample)\n",
    "}"
   ]
  },
  {
   "cell_type": "markdown",
   "metadata": {
    "collapsed": false
   },
   "source": [
    "#### Attempt at kNN(10) on the entire data set "
   ]
  },
  {
   "cell_type": "code",
   "execution_count": null,
   "metadata": {
    "collapsed": false
   },
   "outputs": [],
   "source": [
    "val k = 10\n",
    "val B = 50\n",
    "val sig = 10\n",
    "val L = 100\n",
    "val distance = LpNormDistance(0.5)\n",
    "val r = Some(10.0)\n",
    "\n",
    "val lshParams = LSHParams(signatureLength = sig, radius = r, distance = distance)\n",
    "val params = FastKNNParams(k = k, blockSize = B, nrHashTables = L, lshParams = lshParams)\n",
    "\n",
    "val (pctTotal, sampleSize) = (1.0, Right(0.005))\n",
    "val ctx = TDAContext(sc, if (pctTotal < 1.0) perts.sample(false, pctTotal) else perts)\n",
    "\n",
    "val sampledKNNParams = SampledKNNParams(k = k, sampleSize = sampleSize, distance = distance)\n",
    "val baseLine = SampledKNN.apply(ctx, sampledKNNParams).cache\n",
    "\n",
    "val p = params.copy(nrHashTables = 100)\n",
    "\n",
    "doStuff(ctx, pctTotal, sampleSize, p, baseLine)"
   ]
  },
  {
   "cell_type": "code",
   "execution_count": null,
   "metadata": {
    "collapsed": true
   },
   "outputs": [],
   "source": []
  }
 ],
 "metadata": {
  "anaconda-cloud": {},
  "celltoolbar": "Raw Cell Format",
  "kernelspec": {
   "display_name": "Apache Toree - Scala",
   "language": "scala",
   "name": "apache_toree_scala"
  },
  "language_info": {
   "name": "scala",
   "version": "2.10.4"
  },
  "nbpresent": {
   "slides": {
    "89d9d9c3-d31e-4de6-ac33-1565a4f14713": {
     "id": "89d9d9c3-d31e-4de6-ac33-1565a4f14713",
     "layout": "manual",
     "prev": null,
     "regions": {
      "d8a3e8dc-82bc-4338-ada6-867acc9138d1": {
       "attrs": {
        "height": 1.6127811177911378,
        "width": 1,
        "x": -0.001002004008016032,
        "y": -0.6074370964150523
       },
       "id": "d8a3e8dc-82bc-4338-ada6-867acc9138d1"
      }
     }
    }
   },
   "themes": {}
  },
  "widgets": {
   "state": {},
   "version": "1.1.2"
  }
 },
 "nbformat": 4,
 "nbformat_minor": 0
}
