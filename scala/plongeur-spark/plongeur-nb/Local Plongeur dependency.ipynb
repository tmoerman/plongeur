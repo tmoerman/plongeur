{
 "cells": [
  {
   "cell_type": "code",
   "execution_count": 6,
   "metadata": {
    "collapsed": false
   },
   "outputs": [
    {
     "name": "stdout",
     "output_type": "stream",
     "text": [
      "Marking org.apache.spark:spark-mllib_2.10:1.6.2 for download\n",
      "Preparing to fetch from:\n",
      "-> file:/var/folders/zz/zyxvpxvq6csfxvn_n0000000000000/T/toree_add_deps5862680498965137737/\n",
      "-> https://repo1.maven.org/maven2\n",
      "-> New file at /var/folders/zz/zyxvpxvq6csfxvn_n0000000000000/T/toree_add_deps5862680498965137737/https/repo1.maven.org/maven2/org/apache/spark/spark-mllib_2.10/1.6.2/spark-mllib_2.10-1.6.2.jar\n",
      "Marking com.esotericsoftware:kryo:3.0.3 for download\n",
      "Preparing to fetch from:\n",
      "-> file:/var/folders/zz/zyxvpxvq6csfxvn_n0000000000000/T/toree_add_deps5862680498965137737/\n",
      "-> https://repo1.maven.org/maven2\n",
      "-> New file at /var/folders/zz/zyxvpxvq6csfxvn_n0000000000000/T/toree_add_deps5862680498965137737/https/repo1.maven.org/maven2/com/esotericsoftware/kryo/3.0.3/kryo-3.0.3.jar\n",
      "Marking com.github.haifengl:smile-core:1.0.4 for download\n",
      "Preparing to fetch from:\n",
      "-> file:/var/folders/zz/zyxvpxvq6csfxvn_n0000000000000/T/toree_add_deps5862680498965137737/\n",
      "-> https://repo1.maven.org/maven2\n",
      "-> New file at /var/folders/zz/zyxvpxvq6csfxvn_n0000000000000/T/toree_add_deps5862680498965137737/https/repo1.maven.org/maven2/com/github/haifengl/smile-core/1.0.4/smile-core-1.0.4.jar\n",
      "Marking io.reactivex:rxscala_2.10:0.26.1 for download\n",
      "Preparing to fetch from:\n",
      "-> file:/var/folders/zz/zyxvpxvq6csfxvn_n0000000000000/T/toree_add_deps5862680498965137737/\n",
      "-> https://repo1.maven.org/maven2\n",
      "-> New file at /var/folders/zz/zyxvpxvq6csfxvn_n0000000000000/T/toree_add_deps5862680498965137737/https/repo1.maven.org/maven2/io/reactivex/rxscala_2.10/0.26.1/rxscala_2.10-0.26.1.jar\n",
      "Marking org.scalaz:scalaz-core_2.10:7.2.0 for download\n",
      "Preparing to fetch from:\n",
      "-> file:/var/folders/zz/zyxvpxvq6csfxvn_n0000000000000/T/toree_add_deps5862680498965137737/\n",
      "-> https://repo1.maven.org/maven2\n",
      "-> New file at /var/folders/zz/zyxvpxvq6csfxvn_n0000000000000/T/toree_add_deps5862680498965137737/https/repo1.maven.org/maven2/org/scalaz/scalaz-core_2.10/7.2.0/scalaz-core_2.10-7.2.0.jar\n",
      "Marking com.chuusai:shapeless_2.10:2.3.0 for download\n",
      "Preparing to fetch from:\n",
      "-> file:/var/folders/zz/zyxvpxvq6csfxvn_n0000000000000/T/toree_add_deps5862680498965137737/\n",
      "-> https://oss.sonatype.org/content/repositories/releases/\n",
      "-> https://repo1.maven.org/maven2\n",
      "-> New file at /var/folders/zz/zyxvpxvq6csfxvn_n0000000000000/T/toree_add_deps5862680498965137737/https/oss.sonatype.org/content/repositories/releases/com/chuusai/shapeless_2.10/2.3.0/shapeless_2.10-2.3.0.jar\n",
      "Marking org.tmoerman:plongeur-spark_2.10:0.3.5 for download\n",
      "Preparing to fetch from:\n",
      "-> file:/var/folders/zz/zyxvpxvq6csfxvn_n0000000000000/T/toree_add_deps5862680498965137737/\n",
      "-> file:/Users/tmo/.m2/repository\n",
      "-> https://repo1.maven.org/maven2\n",
      "-> New file at /Users/tmo/.m2/repository/org/tmoerman/plongeur-spark_2.10/0.3.5/plongeur-spark_2.10-0.3.5.jar\n"
     ]
    }
   ],
   "source": [
    "%AddDeps org.apache.spark spark-mllib_2.10 1.6.2\n",
    "%AddDeps com.esotericsoftware kryo 3.0.3\n",
    "%AddDeps com.github.haifengl smile-core 1.0.4\n",
    "%AddDeps io.reactivex rxscala_2.10 0.26.1\n",
    "%AddDeps org.scalaz scalaz-core_2.10 7.2.0\n",
    "%AddDeps com.chuusai shapeless_2.10 2.3.0 --repository https://oss.sonatype.org/content/repositories/releases/\n",
    "%AddDeps org.tmoerman plongeur-spark_2.10 0.3.5 --repository file:/Users/tmo/.m2/repository"
   ]
  },
  {
   "cell_type": "code",
   "execution_count": 11,
   "metadata": {
    "collapsed": false
   },
   "outputs": [],
   "source": [
    "import rx.lang.scala.{Observer, Subscription, Observable}"
   ]
  },
  {
   "cell_type": "code",
   "execution_count": 11,
   "metadata": {
    "collapsed": false
   },
   "outputs": [],
   "source": [
    "import org.tmoerman.plongeur.tda._\n",
    "import org.tmoerman.plongeur.tda.Model._\n",
    "import org.tmoerman.plongeur.tda.cluster.Clustering._\n",
    "import org.tmoerman.plongeur.tda.cluster.Scale._\n",
    "import shapeless.HNil"
   ]
  },
  {
   "cell_type": "code",
   "execution_count": 12,
   "metadata": {
    "collapsed": true
   },
   "outputs": [],
   "source": [
    "val p: Percentage = BigDecimal(10.0f)"
   ]
  },
  {
   "cell_type": "code",
   "execution_count": 13,
   "metadata": {
    "collapsed": false
   },
   "outputs": [],
   "source": [
    "val tdaParams =\n",
    "      TDAParams(\n",
    "        lens = TDALens(\n",
    "          Filter(\"feature\" :: 0 :: HNil, 1.0, 0.5),\n",
    "          Filter(\"feature\" :: 1 :: HNil, 1.0, 0.5)),\n",
    "        clusteringParams = ClusteringParams(),\n",
    "        scaleSelection = histogram(10),\n",
    "        coveringBoundaries = Some(Array((0.0, 12.0), (0.0, 12.0))))"
   ]
  },
  {
   "cell_type": "code",
   "execution_count": 14,
   "metadata": {
    "collapsed": false
   },
   "outputs": [
    {
     "data": {
      "text/plain": [
       "TDAParams(TDALens(WrappedArray(Filter(feature :: 0 :: HNil,1.0,0.5,false), Filter(feature :: 1 :: HNil,1.0,0.5,false))),ClusteringParams(EuclideanDistance$,SINGLE),true,Scale.histogram(10),Some([Lscala.Tuple2;@4d775771))"
      ]
     },
     "execution_count": 14,
     "metadata": {},
     "output_type": "execute_result"
    }
   ],
   "source": [
    "tdaParams"
   ]
  },
  {
   "cell_type": "code",
   "execution_count": null,
   "metadata": {
    "collapsed": true
   },
   "outputs": [],
   "source": []
  }
 ],
 "metadata": {
  "kernelspec": {
   "display_name": "Apache Toree - Scala",
   "language": "scala",
   "name": "apache_toree_scala"
  },
  "language_info": {
   "name": "scala",
   "version": "2.10.4"
  },
  "widgets": {
   "state": {},
   "version": "1.1.2"
  }
 },
 "nbformat": 4,
 "nbformat_minor": 0
}
