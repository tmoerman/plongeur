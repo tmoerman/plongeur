{
 "cells": [
  {
   "cell_type": "markdown",
   "metadata": {},
   "source": [
    "# Plongeur\n",
    "\n",
    "A *topological data analysis* library.\n",
    "\n",
    "> Core algorithm written in [Scala](http://www.scala-lang.org/), using Apache [Spark](http://spark.apache.org/).\n",
    "> \n",
    "> Executed in a [Jupyter](http://jupyter.org/) notebook, using the Apache [Toree](https://github.com/apache/incubator-toree) kernel and [declarative widgets](http://jupyter-incubator.github.io/declarativewidgets/docs.html).\n",
    ">\n",
    "> Graphs rendered with [Sigma](http://sigmajs.org/)/[Linkurious](https://github.com/Linkurious/linkurious.js), wrapped in a [Polymer](https://www.polymer-project.org/1.0/) component.\n",
    "> \n",
    "> Reactive machinery powered by [Rx](http://reactivex.io/) [RxScala](https://github.com/ReactiveX/RxScala).\n"
   ]
  },
  {
   "cell_type": "markdown",
   "metadata": {
    "nbpresent": {
     "id": "f5ac5e2a-9a1a-46ab-8882-2a492fbebc19"
    }
   },
   "source": [
    "#### Maven dependencies"
   ]
  },
  {
   "cell_type": "code",
   "execution_count": 1,
   "metadata": {
    "collapsed": false,
    "nbpresent": {
     "id": "c3144ed8-e62e-4316-917e-26b8904edc72"
    },
    "scrolled": true
   },
   "outputs": [
    {
     "name": "stdout",
     "output_type": "stream",
     "text": [
      "Marking org.apache.spark:spark-mllib_2.10:1.6.2 for download\n",
      "Preparing to fetch from:\n",
      "-> file:/var/folders/zz/zyxvpxvq6csfxvn_n0000000000000/T/toree_add_deps6909012094675380908/\n",
      "-> file:/Users/tmo/.m2/repository\n",
      "-> https://repo1.maven.org/maven2\n",
      "-> New file at /var/folders/zz/zyxvpxvq6csfxvn_n0000000000000/T/toree_add_deps6909012094675380908/https/repo1.maven.org/maven2/org/apache/spark/spark-mllib_2.10/1.6.2/spark-mllib_2.10-1.6.2.jar\n",
      "Marking org.scalanlp:breeze-natives_2.10:0.12 for download\n",
      "Preparing to fetch from:\n",
      "-> file:/var/folders/zz/zyxvpxvq6csfxvn_n0000000000000/T/toree_add_deps6909012094675380908/\n",
      "-> file:/Users/tmo/.m2/repository\n",
      "-> https://repo1.maven.org/maven2\n",
      "-> New file at /Users/tmo/.m2/repository/org/scalanlp/breeze-natives_2.10/0.12/breeze-natives_2.10-0.12.jar\n",
      "Marking com.github.haifengl:smile-core:1.1.0 for download\n",
      "Preparing to fetch from:\n",
      "-> file:/var/folders/zz/zyxvpxvq6csfxvn_n0000000000000/T/toree_add_deps6909012094675380908/\n",
      "-> file:/Users/tmo/.m2/repository\n",
      "-> https://repo1.maven.org/maven2\n",
      "-> New file at /var/folders/zz/zyxvpxvq6csfxvn_n0000000000000/T/toree_add_deps6909012094675380908/https/repo1.maven.org/maven2/com/github/haifengl/smile-math/1.1.0/smile-math-1.1.0.jar\n",
      "-> New file at /var/folders/zz/zyxvpxvq6csfxvn_n0000000000000/T/toree_add_deps6909012094675380908/https/repo1.maven.org/maven2/com/github/haifengl/smile-data/1.1.0/smile-data-1.1.0.jar\n",
      "-> New file at /var/folders/zz/zyxvpxvq6csfxvn_n0000000000000/T/toree_add_deps6909012094675380908/https/repo1.maven.org/maven2/com/github/haifengl/smile-graph/1.1.0/smile-graph-1.1.0.jar\n",
      "-> New file at /var/folders/zz/zyxvpxvq6csfxvn_n0000000000000/T/toree_add_deps6909012094675380908/https/repo1.maven.org/maven2/com/github/haifengl/smile-core/1.1.0/smile-core-1.1.0.jar\n",
      "Marking io.reactivex:rxscala_2.10:0.26.1 for download\n",
      "Preparing to fetch from:\n",
      "-> file:/var/folders/zz/zyxvpxvq6csfxvn_n0000000000000/T/toree_add_deps6909012094675380908/\n",
      "-> file:/Users/tmo/.m2/repository\n",
      "-> https://repo1.maven.org/maven2\n",
      "-> New file at /Users/tmo/.m2/repository/io/reactivex/rxscala_2.10/0.26.1/rxscala_2.10-0.26.1.jar\n",
      "-> New file at /Users/tmo/.m2/repository/io/reactivex/rxjava/1.1.1/rxjava-1.1.1.jar\n",
      "Marking com.softwaremill.quicklens:quicklens_2.10:1.4.4 for download\n",
      "Preparing to fetch from:\n",
      "-> file:/var/folders/zz/zyxvpxvq6csfxvn_n0000000000000/T/toree_add_deps6909012094675380908/\n",
      "-> file:/Users/tmo/.m2/repository\n",
      "-> https://repo1.maven.org/maven2\n",
      "-> New file at /var/folders/zz/zyxvpxvq6csfxvn_n0000000000000/T/toree_add_deps6909012094675380908/https/repo1.maven.org/maven2/com/softwaremill/quicklens/quicklens_2.10/1.4.4/quicklens_2.10-1.4.4.jar\n",
      "Marking com.chuusai:shapeless_2.10:2.3.0 for download\n",
      "Preparing to fetch from:\n",
      "-> file:/var/folders/zz/zyxvpxvq6csfxvn_n0000000000000/T/toree_add_deps6909012094675380908/\n",
      "-> https://oss.sonatype.org/content/repositories/releases/\n",
      "-> file:/Users/tmo/.m2/repository\n",
      "-> https://repo1.maven.org/maven2\n",
      "-> New file at /var/folders/zz/zyxvpxvq6csfxvn_n0000000000000/T/toree_add_deps6909012094675380908/https/oss.sonatype.org/content/repositories/releases/com/chuusai/shapeless_2.10/2.3.0/shapeless_2.10-2.3.0.jar\n",
      "Marking org.tmoerman:plongeur-spark_2.10:0.3.33 for download\n",
      "Preparing to fetch from:\n",
      "-> file:/var/folders/zz/zyxvpxvq6csfxvn_n0000000000000/T/toree_add_deps6909012094675380908/\n",
      "-> file:/Users/tmo/.m2/repository\n",
      "-> https://repo1.maven.org/maven2\n",
      "-> New file at /Users/tmo/.m2/repository/org/tmoerman/plongeur-spark_2.10/0.3.33/plongeur-spark_2.10-0.3.33.jar\n"
     ]
    }
   ],
   "source": [
    "%AddDeps org.apache.spark spark-mllib_2.10 1.6.2 --repository file:/Users/tmo/.m2/repository\n",
    "%AddDeps org.scalanlp breeze-natives_2.10 0.12 --repository file:/Users/tmo/.m2/repository\n",
    "%AddDeps com.github.haifengl smile-core 1.1.0 --transitive --repository file:/Users/tmo/.m2/repository\n",
    "%AddDeps io.reactivex rxscala_2.10 0.26.1 --transitive --repository file:/Users/tmo/.m2/repository\n",
    "%AddDeps com.softwaremill.quicklens quicklens_2.10 1.4.4 --repository file:/Users/tmo/.m2/repository\n",
    "%AddDeps com.chuusai shapeless_2.10 2.3.0 --repository https://oss.sonatype.org/content/repositories/releases/ --repository file:/Users/tmo/.m2/repository\n",
    "%AddDeps org.tmoerman plongeur-spark_2.10 0.3.33 --repository file:/Users/tmo/.m2/repository"
   ]
  },
  {
   "cell_type": "code",
   "execution_count": 2,
   "metadata": {
    "collapsed": false,
    "nbpresent": {
     "id": "70465288-c658-4f45-a709-4e6dd0f9a390"
    }
   },
   "outputs": [
    {
     "name": "stdout",
     "output_type": "stream",
     "text": [
      "Starting download from http://localhost:8888/nbextensions/declarativewidgets/declarativewidgets.jar\n",
      "Finished download of declarativewidgets.jar\n"
     ]
    }
   ],
   "source": [
    "%addjar http://localhost:8888/nbextensions/declarativewidgets/declarativewidgets.jar"
   ]
  },
  {
   "cell_type": "markdown",
   "metadata": {
    "collapsed": false,
    "nbpresent": {
     "id": "ff4512c4-eb02-43ff-8911-26c511ea96b4"
    }
   },
   "source": [
    "#### Import classes"
   ]
  },
  {
   "cell_type": "code",
   "execution_count": 3,
   "metadata": {
    "collapsed": false,
    "nbpresent": {
     "id": "800b012e-aa8e-4989-a156-a0b1f1e34391"
    }
   },
   "outputs": [
    {
     "data": {
      "application/javascript": [
       "\n",
       "      window.Urth = window.Urth || {};\n",
       "      Urth._initialized = Urth._initialized || $.Deferred();\n",
       "      Urth.whenReady = Urth.whenReady || function(cb) {\n",
       "        Urth._initialized.then(function() {\n",
       "          Urth.whenReady(cb);\n",
       "        });\n",
       "      };\n",
       "      Urth.whenReady(function() { console.log(\"Declarative widgets connected.\") });"
      ]
     },
     "metadata": {},
     "output_type": "display_data"
    }
   ],
   "source": [
    "import rx.lang.scala.{Observer, Subscription, Observable}\n",
    "import rx.lang.scala.subjects.PublishSubject\n",
    "import rx.lang.scala.subjects._\n",
    "\n",
    "import shapeless.HNil\n",
    "\n",
    "import org.tmoerman.plongeur.tda._\n",
    "import org.tmoerman.plongeur.tda.Model._\n",
    "import org.tmoerman.plongeur.tda.cluster.Clustering._\n",
    "import org.tmoerman.plongeur.tda.cluster.Scale._\n",
    "import org.tmoerman.plongeur.tda.Colour._\n",
    "import org.tmoerman.plongeur.tda.Brewer._\n",
    "\n",
    "import org.tmoerman.plongeur.ui.Controls._\n",
    "\n",
    "import declarativewidgets._\n",
    "initWidgets\n",
    "\n",
    "import declarativewidgets.WidgetChannels.channel"
   ]
  },
  {
   "cell_type": "code",
   "execution_count": 4,
   "metadata": {
    "collapsed": false,
    "nbpresent": {
     "id": "f8e2fd5f-21cf-482e-897e-6139e73088d3"
    }
   },
   "outputs": [],
   "source": [
    "import java.util.concurrent.atomic.AtomicReference\n",
    "\n",
    "case class SubRef(val ref: AtomicReference[Option[Subscription]] = new AtomicReference[Option[Subscription]](None)) extends Serializable {\n",
    "\n",
    "    def update(sub: Subscription): Unit = ref.getAndSet(Option(sub)).foreach(old => old.unsubscribe())\n",
    "\n",
    "    def reset(): Unit = update(null)\n",
    "\n",
    "}"
   ]
  },
  {
   "cell_type": "markdown",
   "metadata": {
    "nbpresent": {
     "id": "17926a43-50f9-444a-97a5-84eaf41caa6a"
    }
   },
   "source": [
    "#### Import polymer elements\n",
    "\n",
    "These cells triggers Bower installations of the specified web components. \n",
    "\n",
    "If it doesn't work, check whether Bower has sufficient permissions to install in the jupyter `/nbextensions` folder."
   ]
  },
  {
   "cell_type": "code",
   "execution_count": 5,
   "metadata": {
    "collapsed": false,
    "nbpresent": {
     "id": "282de503-679a-43a3-af20-3002bd068851"
    }
   },
   "outputs": [
    {
     "data": {
      "text/html": [
       "<link rel='import' href='urth_components/paper-slider/paper-slider.html' is='urth-core-import' package='PolymerElements/paper-slider'>\n",
       "<link rel='import' href='urth_components/paper-button/paper-button.html' is='urth-core-import' package='PolymerElements/paper-button'>\n",
       "<link rel='import' href='urth_components/paper-dropdown-menu/paper-dropdown-menu.html' is='urth-core-import' package='PolymerElements/paper-dropdown-menu'>\n",
       "<link rel='import' href='urth_components/paper-listbox/paper-listbox.html' is='urth-core-import' package='PolymerElements/paper-listbox'>\n",
       "<link rel='import' href='urth_components/paper-item/paper-item.html' is='urth-core-import' package='PolymerElements/paper-item'>\n",
       "<link rel='import' href='urth_components/plongeur-graph/plongeur-graph.html' is='urth-core-import' package='tmoerman/plongeur-graph'>\n",
       "<link rel='import' href='urth_components/urth-viz-scatter/urth-viz-scatter.html' is='urth-core-import'>"
      ]
     },
     "execution_count": 5,
     "metadata": {},
     "output_type": "execute_result"
    }
   ],
   "source": [
    "%%html\n",
    "<link rel='import' href='urth_components/paper-slider/paper-slider.html' is='urth-core-import' package='PolymerElements/paper-slider'>\n",
    "<link rel='import' href='urth_components/paper-button/paper-button.html' is='urth-core-import' package='PolymerElements/paper-button'>\n",
    "<link rel='import' href='urth_components/paper-dropdown-menu/paper-dropdown-menu.html' is='urth-core-import' package='PolymerElements/paper-dropdown-menu'>\n",
    "<link rel='import' href='urth_components/paper-listbox/paper-listbox.html' is='urth-core-import' package='PolymerElements/paper-listbox'>\n",
    "<link rel='import' href='urth_components/paper-item/paper-item.html' is='urth-core-import' package='PolymerElements/paper-item'>\n",
    "<link rel='import' href='urth_components/plongeur-graph/plongeur-graph.html' is='urth-core-import' package='tmoerman/plongeur-graph'>\n",
    "<link rel='import' href='urth_components/urth-viz-scatter/urth-viz-scatter.html' is='urth-core-import'>"
   ]
  },
  {
   "cell_type": "markdown",
   "metadata": {
    "nbpresent": {
     "id": "3ee8048e-d1e3-4c46-99cc-5a3bc5c7f865"
    }
   },
   "source": [
    "#### Reactive TDA Machine"
   ]
  },
  {
   "cell_type": "markdown",
   "metadata": {
    "nbpresent": {
     "id": "2851784c-d1ab-40e1-9b75-e7cfa71a8eb8"
    }
   },
   "source": [
    "Keep references to Rx `Subscription` instances apart."
   ]
  },
  {
   "cell_type": "code",
   "execution_count": 6,
   "metadata": {
    "collapsed": true,
    "nbpresent": {
     "id": "0f5e5a33-18d9-49a3-8629-027239673c2c"
    }
   },
   "outputs": [],
   "source": [
    "val in$_subRef = SubRef()"
   ]
  },
  {
   "cell_type": "markdown",
   "metadata": {
    "nbpresent": {
     "id": "40c9258a-bbab-40d7-95ca-84b622b5951e"
    }
   },
   "source": [
    "Instantiate a `PublishSubject`. This stream of `TDAParams` instances represents the input of a `TDAMachine`. The `PublishSubject` listens to changes and sets these to the channel `\"ch_TDA_1\"` under the `\"params\"` key."
   ]
  },
  {
   "cell_type": "code",
   "execution_count": 7,
   "metadata": {
    "collapsed": false,
    "nbpresent": {
     "id": "53be8369-a4fb-4105-8e5b-808067019bb2"
    }
   },
   "outputs": [],
   "source": [
    "val in$ = PublishSubject[TDAParams]\n",
    "\n",
    "in$_subRef.update(in$.subscribe(p => channel(\"ch_TDA_1\").set(\"params\", p.toString)))"
   ]
  },
  {
   "cell_type": "markdown",
   "metadata": {
    "collapsed": true,
    "nbpresent": {
     "id": "407e489d-0988-457e-a68b-5b13abe99c0d"
    }
   },
   "source": [
    "#### Inititalize rdd\n",
    "\n",
    "In this example, we are using the MNIST data set."
   ]
  },
  {
   "cell_type": "code",
   "execution_count": 8,
   "metadata": {
    "collapsed": false,
    "nbpresent": {
     "id": "f95081ee-5623-4d18-ac6f-24ee227e225e"
    }
   },
   "outputs": [],
   "source": [
    "import org.apache.spark.rdd.RDD\n",
    "import org.apache.commons.lang.StringUtils.trim\n",
    "import org.apache.spark.mllib.linalg.Vectors\n",
    "\n",
    "def readMnist(file: String): RDD[DataPoint] =\n",
    "    sc.\n",
    "      textFile(file).\n",
    "      map(s => {\n",
    "        val columns = s.split(\",\").map(trim).toList\n",
    "\n",
    "        columns match {\n",
    "          case cat :: rawFeatures =>\n",
    "            val nonZero =\n",
    "              rawFeatures.\n",
    "                map(_.toInt).\n",
    "                zipWithIndex.\n",
    "                filter{ case (v, idx) => v != 0 }.\n",
    "                map{ case (v, idx) => (idx, v.toDouble) }\n",
    "\n",
    "            val sparseFeatures = Vectors.sparse(rawFeatures.size, nonZero)\n",
    "\n",
    "            (cat, sparseFeatures)\n",
    "        }}).\n",
    "      zipWithIndex.\n",
    "      map {case ((cat, features), idx) => IndexedDataPoint(idx.toInt, features, Some(Map(\"cat\" -> cat)))}"
   ]
  },
  {
   "cell_type": "code",
   "execution_count": 9,
   "metadata": {
    "collapsed": false,
    "nbpresent": {
     "id": "56121dc5-ad27-4948-86a0-e6935cc9501b"
    }
   },
   "outputs": [],
   "source": [
    "val mnist_path = \"/Users/tmo/Work/batiskav/projects/plongeur/scala/plongeur-spark/src/test/resources/mnist/\"\n",
    "\n",
    "val mnist_train = mnist_path + \"mnist_train.csv\""
   ]
  },
  {
   "cell_type": "code",
   "execution_count": 10,
   "metadata": {
    "collapsed": false,
    "nbpresent": {
     "id": "43d0aa7a-db6f-41d5-967b-7d28725447df"
    }
   },
   "outputs": [],
   "source": [
    "val mnistRDD = readMnist(mnist_train)"
   ]
  },
  {
   "cell_type": "code",
   "execution_count": 11,
   "metadata": {
    "collapsed": false,
    "nbpresent": {
     "id": "916ac207-1fbc-451b-93c5-3dfdb21818ec"
    }
   },
   "outputs": [],
   "source": [
    "val mnistSample5pctRDD = mnistRDD.sample(false, .05, 0l).cache"
   ]
  },
  {
   "cell_type": "code",
   "execution_count": 12,
   "metadata": {
    "collapsed": false,
    "nbpresent": {
     "id": "4d3ccbeb-3f32-47a7-a145-6c798b572d39"
    }
   },
   "outputs": [
    {
     "data": {
      "text/plain": [
       "3036"
      ]
     },
     "execution_count": 12,
     "metadata": {},
     "output_type": "execute_result"
    }
   ],
   "source": [
    "mnistSample5pctRDD.count"
   ]
  },
  {
   "cell_type": "code",
   "execution_count": 13,
   "metadata": {
    "collapsed": false,
    "nbpresent": {
     "id": "ffef1c97-c14f-4313-af50-43edd38cc391"
    }
   },
   "outputs": [],
   "source": [
    "val ctx = TDAContext(sc, mnistSample5pctRDD)"
   ]
  },
  {
   "cell_type": "markdown",
   "metadata": {
    "nbpresent": {
     "id": "5f060023-6ac5-4d84-9e36-8bcf7e8a4710"
    }
   },
   "source": [
    "Turn a TDAResult into a data structure."
   ]
  },
  {
   "cell_type": "code",
   "execution_count": 63,
   "metadata": {
    "collapsed": false,
    "nbpresent": {
     "id": "4ee5b503-b74a-47c4-8f48-452d1f42e746"
    }
   },
   "outputs": [],
   "source": [
    "val r = scala.util.Random\n",
    "\n",
    "def format(result: TDAResult) = Map(\n",
    "    \"nodes\" -> result.clusters.map(c =>\n",
    "      Map(\n",
    "        \"id\"     -> c.id.toString,\n",
    "        \"size\"   -> c.dataPoints.size,\n",
    "        \"color\"  -> c.colours.headOption.getOrElse(\"#999\"),\n",
    "        \"x\"      -> r.nextInt(100),\n",
    "        \"y\"      -> r.nextInt(100))),\n",
    "    \"edges\" -> result.edges.map(e => {\n",
    "      val (from, to) = e.toArray match {case Array(f, t) => (f, t)}\n",
    "        \n",
    "      Map(\n",
    "        \"id\"     -> s\"$from--$to\",        \n",
    "        \"source\" -> from.toString,\n",
    "        \"target\" -> to.toString)}))"
   ]
  },
  {
   "cell_type": "markdown",
   "metadata": {
    "nbpresent": {
     "id": "af910582-c970-424c-995e-5d2bacebafaf"
    }
   },
   "source": [
    "Run the machine, obtaining an `Observable` of `TDAResult` instances"
   ]
  },
  {
   "cell_type": "code",
   "execution_count": 15,
   "metadata": {
    "collapsed": true,
    "nbpresent": {
     "id": "964aab6b-5e10-4304-9d03-9317469dadd3"
    }
   },
   "outputs": [],
   "source": [
    "val out$_subRef = SubRef()"
   ]
  },
  {
   "cell_type": "code",
   "execution_count": 78,
   "metadata": {
    "collapsed": false,
    "nbpresent": {
     "id": "b59014a4-e289-4011-b1ab-8667dd1c893f"
    }
   },
   "outputs": [],
   "source": [
    "val out$: Observable[(TDAParams, TDAResult)] = TDAMachine.run(ctx, in$)"
   ]
  },
  {
   "cell_type": "code",
   "execution_count": 79,
   "metadata": {
    "collapsed": false,
    "nbpresent": {
     "id": "8b43b0a5-55ee-4fdb-bcfc-4cca3df27a04"
    }
   },
   "outputs": [],
   "source": [
    "out$_subRef.update(\n",
    "    out$.subscribe(\n",
    "        onNext = (t) => t match {case (p, r) => channel(\"ch_TDA_1\").set(\"result\", format(r))},\n",
    "        onError = (e) => println(\"Error in TDA machine: \", e)))"
   ]
  },
  {
   "cell_type": "markdown",
   "metadata": {
    "collapsed": true,
    "nbpresent": {
     "id": "f329dd44-6902-4dc9-8a6a-77b00475a612"
    }
   },
   "source": [
    "#### Reactive inputs"
   ]
  },
  {
   "cell_type": "code",
   "execution_count": 18,
   "metadata": {
    "collapsed": true,
    "nbpresent": {
     "id": "47703fb5-5e35-4c5b-8a22-9b433fb0e079"
    }
   },
   "outputs": [],
   "source": [
    "val pipe$_subRef = SubRef()"
   ]
  },
  {
   "cell_type": "code",
   "execution_count": 19,
   "metadata": {
    "collapsed": false,
    "nbpresent": {
     "id": "7f1f8755-b625-4f56-be78-0db849746ba2"
    }
   },
   "outputs": [
    {
     "data": {
      "text/html": [
       "<style>\n",
       "table.clean th {\n",
       "    border-style: hidden;\n",
       "    white-space: nowrap;\n",
       "}\n",
       "table.clean td {\n",
       "    border-style: hidden;\n",
       "}\n",
       "tr.title {\n",
       "    text-align: center;\n",
       "    background-color: beige;\n",
       "}\n",
       "td.wide {\n",
       "    width: 500px;\n",
       "}\n",
       "td.wide paper-slider {\n",
       "   width: 100%;\n",
       "}\n",
       "th.code {\n",
       "   font-family: courier new,monospace;\n",
       "}\n",
       "    </style>"
      ]
     },
     "execution_count": 19,
     "metadata": {},
     "output_type": "execute_result"
    }
   ],
   "source": [
    "kernel.magics.html(controlsCSS)"
   ]
  },
  {
   "cell_type": "code",
   "execution_count": 87,
   "metadata": {
    "collapsed": false,
    "nbpresent": {
     "id": "45489628-ae90-4291-a13f-0ed26a76286b"
    },
    "scrolled": false
   },
   "outputs": [
    {
     "data": {
      "text/html": [
       "<template is=\"urth-core-bind\" channel=\"ch_TDA_1\">\n",
       "      <table class=\"clean\"> <tr class=\"title\">\n",
       "            <th>Filter</th>\n",
       "            <th colspan=\"2\" class=\"code\">PCA :: 0 :: HNil</th>\n",
       "          </tr><tr>\n",
       "            <th>Nr of cover bins</th>\n",
       "            <td class=\"wide\"><paper-slider min=\"0\" max=\"100\" step=\"1\" value=\"{{filter-0-nrBins}}\"/></td>\n",
       "            <td>[[filter-0-nrBins]]</td>\n",
       "          </tr><tr>\n",
       "            <th>Cover overlap</th>\n",
       "            <td class=\"wide\"><paper-slider min=\"0\" max=\"75\" step=\"1\" value=\"{{filter-0-overlap}}\"/></td>\n",
       "            <td>[[filter-0-overlap]]%</td>\n",
       "          </tr><tr class=\"title\">\n",
       "            <th>Filter</th>\n",
       "            <th colspan=\"2\" class=\"code\">eccentricity :: infinity :: HNil</th>\n",
       "          </tr><tr>\n",
       "            <th>Nr of cover bins</th>\n",
       "            <td class=\"wide\"><paper-slider min=\"0\" max=\"100\" step=\"1\" value=\"{{filter-1-nrBins}}\"/></td>\n",
       "            <td>[[filter-1-nrBins]]</td>\n",
       "          </tr><tr>\n",
       "            <th>Cover overlap</th>\n",
       "            <td class=\"wide\"><paper-slider min=\"0\" max=\"75\" step=\"1\" value=\"{{filter-1-overlap}}\"/></td>\n",
       "            <td>[[filter-1-overlap]]%</td>\n",
       "          </tr>\n",
       "        <tr class=\"title\">\n",
       "          <th></th>\n",
       "          <th colspan=\"2\" class=\"code\">General</th>\n",
       "        </tr>\n",
       "        <tr>\n",
       "          <th>Nr of scale bins</th>\n",
       "          <td class=\"wide\"><paper-slider min=\"0\" max=\"150\" step=\"1\" value=\"{{scaleBins}}\"/></td>\n",
       "          <td>[[scaleBins]]</td>\n",
       "        </tr>\n",
       "        <tr>\n",
       "          <th>Collapse duplicates</th>\n",
       "          <td colspan=\"2\"><paper-toggle-button checked=\"{{collapse}}\"/></td>\n",
       "        </tr>\n",
       "      </table>\n",
       "    </template>"
      ]
     },
     "execution_count": 87,
     "metadata": {},
     "output_type": "execute_result"
    }
   ],
   "source": [
    "val cat = new AttributeSelector[Boolean](\"cat\") {  \n",
    "  val target = \"1\"\n",
    "  override def apply(number: Any): Boolean = number.asInstanceOf[String] == target \n",
    "}\n",
    "        \n",
    "val BASE = \n",
    "    TDAParams(\n",
    "        lens = TDALens(          \n",
    "          Filter(\"PCA\" :: 0 :: HNil, 25, 0.3),\n",
    "          Filter(\"eccentricity\" :: \"infinity\" :: HNil, 25, 0.3)),\n",
    "        clusteringParams = ClusteringParams(),\n",
    "        scaleSelection = histogram(10),\n",
    "        collapseDuplicateClusters = false,\n",
    "        colouring = Colouring(Brewer.palettes(\"PuOr\").get(9).map(_.reverse), LocalPercentage(9, cat)))\n",
    "        \n",
    "val (sub, html) = BASE.makeControls(channel(\"ch_TDA_1\"), in$)\n",
    "\n",
    "pipe$_subRef.update(sub)\n",
    "\n",
    "kernel.magics.html(html)"
   ]
  },
  {
   "cell_type": "code",
   "execution_count": 41,
   "metadata": {
    "collapsed": false,
    "nbpresent": {
     "id": "f8333bd9-c701-468f-b470-caa540bb0fb2"
    },
    "scrolled": false
   },
   "outputs": [
    {
     "data": {
      "text/html": [
       "<template is='urth-core-bind' channel='ch_TDA_1'>    \n",
       "    <plongeur-graph height=\"1200\" data=\"{{result}}\"></plongeur-graph>\n",
       "</template>"
      ]
     },
     "execution_count": 41,
     "metadata": {},
     "output_type": "execute_result"
    }
   ],
   "source": [
    "%%html\n",
    "<template is='urth-core-bind' channel='ch_TDA_1'>    \n",
    "    <plongeur-graph height=\"1200\" data=\"{{result}}\"></plongeur-graph>\n",
    "</template>"
   ]
  },
  {
   "cell_type": "code",
   "execution_count": 22,
   "metadata": {
    "collapsed": false,
    "nbpresent": {
     "id": "6c896ce2-45c9-44fb-896e-d2144d14e08e"
    }
   },
   "outputs": [
    {
     "data": {
      "text/html": [
       "<template is='urth-core-bind' channel='ch_TDA_1'>  \n",
       "    <div style='background: #FFB; padding: 10px;'>\n",
       "        <span style='font-family: \"Courier\"'>[[params]]</span>\n",
       "    </div>\n",
       "</template>"
      ]
     },
     "execution_count": 22,
     "metadata": {},
     "output_type": "execute_result"
    }
   ],
   "source": [
    "%%html\n",
    "<template is='urth-core-bind' channel='ch_TDA_1'>  \n",
    "    <div style='background: #FFB; padding: 10px;'>\n",
    "        <span style='font-family: \"Courier\"'>[[params]]</span>\n",
    "    </div>\n",
    "</template>"
   ]
  },
  {
   "cell_type": "code",
   "execution_count": null,
   "metadata": {
    "collapsed": true,
    "nbpresent": {
     "id": "b0f2e868-fce2-4041-a435-b5ce1df51388"
    }
   },
   "outputs": [],
   "source": []
  },
  {
   "cell_type": "code",
   "execution_count": null,
   "metadata": {
    "collapsed": true,
    "nbpresent": {
     "id": "4731f8ca-8727-4be4-b314-7072ccfca825"
    }
   },
   "outputs": [],
   "source": []
  }
 ],
 "metadata": {
  "anaconda-cloud": {},
  "celltoolbar": "Raw Cell Format",
  "kernelspec": {
   "display_name": "Apache Toree - Scala",
   "language": "scala",
   "name": "apache_toree_scala"
  },
  "language_info": {
   "name": "scala",
   "version": "2.10.4"
  },
  "nbpresent": {
   "slides": {
    "89d9d9c3-d31e-4de6-ac33-1565a4f14713": {
     "id": "89d9d9c3-d31e-4de6-ac33-1565a4f14713",
     "layout": "manual",
     "prev": null,
     "regions": {
      "d8a3e8dc-82bc-4338-ada6-867acc9138d1": {
       "attrs": {
        "height": 1.6127811177911378,
        "width": 1,
        "x": -0.001002004008016032,
        "y": -0.6074370964150523
       },
       "id": "d8a3e8dc-82bc-4338-ada6-867acc9138d1"
      }
     }
    }
   },
   "themes": {}
  },
  "widgets": {
   "state": {
    "F89B4CDFE7BA435A8B16B9C6FA28EE93": {
     "views": []
    }
   },
   "version": "1.1.2"
  }
 },
 "nbformat": 4,
 "nbformat_minor": 0
}
