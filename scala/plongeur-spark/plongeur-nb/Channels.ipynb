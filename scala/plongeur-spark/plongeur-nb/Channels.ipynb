{
 "cells": [
  {
   "cell_type": "code",
   "execution_count": 5,
   "metadata": {
    "collapsed": false
   },
   "outputs": [
    {
     "name": "stdout",
     "output_type": "stream",
     "text": [
      "Starting download from http://localhost:8888/nbextensions/declarativewidgets/urth-widgets.jar\n",
      "Finished download of urth-widgets.jar\n"
     ]
    }
   ],
   "source": [
    "%addjar http://localhost:8888/nbextensions/declarativewidgets/urth-widgets.jar"
   ]
  },
  {
   "cell_type": "code",
   "execution_count": 6,
   "metadata": {
    "collapsed": false
   },
   "outputs": [
    {
     "data": {
      "application/javascript": [
       "\n",
       "      window.Urth = window.Urth || {};\n",
       "      Urth._initialized = Urth._initialized || $.Deferred();\n",
       "      Urth.whenReady = Urth.whenReady || function(cb) {\n",
       "        Urth._initialized.then(function() {\n",
       "          Urth.whenReady(cb);\n",
       "        });\n",
       "      };\n",
       "      Urth.whenReady(function() { console.log(\"Declarative widgets connected.\") });"
      ]
     },
     "metadata": {},
     "output_type": "display_data"
    }
   ],
   "source": [
    "import declarativewidgets._\n",
    "initWidgets"
   ]
  },
  {
   "cell_type": "code",
   "execution_count": 7,
   "metadata": {
    "collapsed": true
   },
   "outputs": [],
   "source": [
    "import declarativewidgets.WidgetChannels.channel"
   ]
  },
  {
   "cell_type": "markdown",
   "metadata": {},
   "source": [
    "### Inter-cell binding"
   ]
  },
  {
   "cell_type": "code",
   "execution_count": 8,
   "metadata": {
    "collapsed": false
   },
   "outputs": [
    {
     "data": {
      "text/plain": [
       "declarativewidgets.WidgetChannels$@6296669"
      ]
     },
     "execution_count": 8,
     "metadata": {},
     "output_type": "execute_result"
    }
   ],
   "source": [
    "declarativewidgets.WidgetChannels"
   ]
  },
  {
   "cell_type": "code",
   "execution_count": 9,
   "metadata": {
    "collapsed": false
   },
   "outputs": [
    {
     "data": {
      "text/html": [
       "<template is='urth-core-bind' channel='a'>\n",
       "    <div>Hello from <span>{{user}}</span></div>\n",
       "    Name: <input value='{{user::input}}'></input>\n",
       "</template>"
      ]
     },
     "execution_count": 9,
     "metadata": {},
     "output_type": "execute_result"
    }
   ],
   "source": [
    "%%html\n",
    "<template is='urth-core-bind' channel='a'>\n",
    "    <div>Hello from <span>{{user}}</span></div>\n",
    "    Name: <input value='{{user::input}}'></input>\n",
    "</template>"
   ]
  },
  {
   "cell_type": "code",
   "execution_count": 10,
   "metadata": {
    "collapsed": false
   },
   "outputs": [
    {
     "data": {
      "text/html": [
       "<template is='urth-core-bind' channel='a'>\n",
       "    <div>Hello again from <span>[[user]]</span></div>    \n",
       "</template>"
      ]
     },
     "execution_count": 10,
     "metadata": {},
     "output_type": "execute_result"
    }
   ],
   "source": [
    "%%html\n",
    "<template is='urth-core-bind' channel='a'>\n",
    "    <div>Hello again from <span>[[user]]</span></div>    \n",
    "</template>"
   ]
  },
  {
   "cell_type": "markdown",
   "metadata": {},
   "source": [
    "### Channels and sliders"
   ]
  },
  {
   "cell_type": "markdown",
   "metadata": {},
   "source": [
    "import paper-slider widget"
   ]
  },
  {
   "cell_type": "code",
   "execution_count": 11,
   "metadata": {
    "collapsed": false
   },
   "outputs": [
    {
     "data": {
      "text/html": [
       "<link rel='import' href='urth_components/paper-slider/paper-slider.html' \n",
       "        is='urth-core-import' package='PolymerElements/paper-slider'>"
      ]
     },
     "execution_count": 11,
     "metadata": {},
     "output_type": "execute_result"
    }
   ],
   "source": [
    "%%html\n",
    "<link rel='import' href='urth_components/paper-slider/paper-slider.html' \n",
    "        is='urth-core-import' package='PolymerElements/paper-slider'>"
   ]
  },
  {
   "cell_type": "markdown",
   "metadata": {},
   "source": [
    "bind the value for x to channel A"
   ]
  },
  {
   "cell_type": "code",
   "execution_count": 21,
   "metadata": {
    "collapsed": false
   },
   "outputs": [
    {
     "data": {
      "text/html": [
       "<template is='urth-core-bind' channel='ch_A'>  \n",
       "    <span>Channel A</span>\n",
       "    \n",
       "    <table>\n",
       "        <tr>    \n",
       "            <td>\n",
       "                <paper-slider \n",
       "                    min=\"10\" \n",
       "                    max=\"100\" \n",
       "                    step=\"1\" \n",
       "                    value=\"[[x]]\"/>\n",
       "            </td>\n",
       "            <td>\n",
       "                <span>[[x]]</span>\n",
       "            </td>\n",
       "        </tr>\n",
       "    </table>    \n",
       "</template>"
      ]
     },
     "execution_count": 21,
     "metadata": {},
     "output_type": "execute_result"
    }
   ],
   "source": [
    "%%html\n",
    "<template is='urth-core-bind' channel='ch_A'>  \n",
    "    <span>Channel A</span>    \n",
    "    <table>\n",
    "        <tr>    \n",
    "            <td>\n",
    "                <paper-slider \n",
    "                    min=\"10\" \n",
    "                    max=\"100\" \n",
    "                    step=\"1\" \n",
    "                    value=\"[[x]]\"/>\n",
    "            </td>\n",
    "            <td>\n",
    "                <span>[[x]]</span>\n",
    "            </td>\n",
    "        </tr>\n",
    "    </table>    \n",
    "</template>"
   ]
  },
  {
   "cell_type": "code",
   "execution_count": null,
   "metadata": {
    "collapsed": true
   },
   "outputs": [],
   "source": []
  },
  {
   "cell_type": "code",
   "execution_count": 33,
   "metadata": {
    "collapsed": false
   },
   "outputs": [
    {
     "data": {
      "text/html": [
       "<template is='urth-core-bind' channel='ch_A'>\n",
       "    <div>Hello again from <span>[[x]]</span></div>    \n",
       "</template>"
      ]
     },
     "execution_count": 33,
     "metadata": {},
     "output_type": "execute_result"
    }
   ],
   "source": [
    "%%html\n",
    "<template is='urth-core-bind' channel='ch_A'>\n",
    "    <div>Hello again from <span>[[x]]</span></div>    \n",
    "</template>"
   ]
  },
  {
   "cell_type": "markdown",
   "metadata": {},
   "source": [
    "### Reactive machinery\n",
    "\n",
    "import transitive `RxScala` dependency"
   ]
  },
  {
   "cell_type": "code",
   "execution_count": 22,
   "metadata": {
    "collapsed": false
   },
   "outputs": [
    {
     "name": "stdout",
     "output_type": "stream",
     "text": [
      "Marking io.reactivex:rxscala_2.10:0.26.1 for download\n",
      "Preparing to fetch from:\n",
      "-> file:/var/folders/zz/zyxvpxvq6csfxvn_n0000000000000/T/toree_add_deps6237874973947631549/\n",
      "-> https://repo1.maven.org/maven2\n",
      "-> New file at /var/folders/zz/zyxvpxvq6csfxvn_n0000000000000/T/toree_add_deps6237874973947631549/https/repo1.maven.org/maven2/io/reactivex/rxscala_2.10/0.26.1/rxscala_2.10-0.26.1.jar\n",
      "-> New file at /var/folders/zz/zyxvpxvq6csfxvn_n0000000000000/T/toree_add_deps6237874973947631549/https/repo1.maven.org/maven2/io/reactivex/rxjava/1.1.1/rxjava-1.1.1.jar\n"
     ]
    }
   ],
   "source": [
    "%AddDeps io.reactivex rxscala_2.10 0.26.1 --transitive"
   ]
  },
  {
   "cell_type": "code",
   "execution_count": 23,
   "metadata": {
    "collapsed": false
   },
   "outputs": [],
   "source": [
    "import java.util.concurrent.TimeUnit._\n",
    "import scala.concurrent.duration.Duration\n",
    "import rx.lang.scala.{Observer, Subscription, Observable}\n",
    "import declarativewidgets.WidgetChannels.channel"
   ]
  },
  {
   "cell_type": "markdown",
   "metadata": {},
   "source": [
    "Start a timer with 1 sec interval that posts to the channel \"ch_A\", bound to the `paper-slider`"
   ]
  },
  {
   "cell_type": "code",
   "execution_count": 36,
   "metadata": {
    "collapsed": false
   },
   "outputs": [],
   "source": [
    "val s1 = Duration(1, SECONDS)\n",
    "\n",
    "val timer_sub = \n",
    "    Observable.\n",
    "        interval(s1, s1).\n",
    "        subscribe(onNext = (l) => channel(\"ch_A\").set(\"x\", l.toString))"
   ]
  },
  {
   "cell_type": "code",
   "execution_count": 37,
   "metadata": {
    "collapsed": false
   },
   "outputs": [],
   "source": [
    "timer_sub.unsubscribe()"
   ]
  },
  {
   "cell_type": "markdown",
   "metadata": {
    "collapsed": true
   },
   "source": [
    "### Channel fn experiment"
   ]
  },
  {
   "cell_type": "code",
   "execution_count": 14,
   "metadata": {
    "collapsed": false
   },
   "outputs": [
    {
     "data": {
      "text/html": [
       "<template is='urth-core-bind' channel='ch_FN'>\n",
       "    <div>Hello again <span>[[f]]</span></div>    \n",
       "</template>"
      ]
     },
     "execution_count": 14,
     "metadata": {},
     "output_type": "execute_result"
    }
   ],
   "source": [
    "%%html\n",
    "<template is='urth-core-bind' channel='ch_FN'>\n",
    "    <div>Hello again <span>[[f]]</span></div>    \n",
    "</template>"
   ]
  },
  {
   "cell_type": "code",
   "execution_count": 15,
   "metadata": {
    "collapsed": false
   },
   "outputs": [],
   "source": [
    "channel(\"ch_FN\").set(\"f\", (i: Int) => i+1)"
   ]
  },
  {
   "cell_type": "markdown",
   "metadata": {
    "collapsed": true
   },
   "source": [
    "### Dynamic magic"
   ]
  },
  {
   "cell_type": "code",
   "execution_count": 18,
   "metadata": {
    "collapsed": false
   },
   "outputs": [],
   "source": [
    "val magic_sub = \n",
    "    Observable.\n",
    "        interval(s1, s1).\n",
    "        subscribe(onNext = (l) => kernel.magics.html(s\"<h1>a title</h1><p>hello: $l</p>\"))"
   ]
  },
  {
   "cell_type": "code",
   "execution_count": 39,
   "metadata": {
    "collapsed": false
   },
   "outputs": [
    {
     "data": {
      "text/html": [
       "<h1>a title</h1><p>hello: test</p>"
      ]
     },
     "execution_count": 39,
     "metadata": {},
     "output_type": "execute_result"
    }
   ],
   "source": [
    "val l = \"test\"\n",
    "kernel.magics.html(s\"<h1>a title</h1><p>hello: $l</p>\")"
   ]
  },
  {
   "cell_type": "code",
   "execution_count": null,
   "metadata": {
    "collapsed": true
   },
   "outputs": [],
   "source": []
  }
 ],
 "metadata": {
  "kernelspec": {
   "display_name": "Apache Toree - Scala",
   "language": "scala",
   "name": "apache_toree_scala"
  },
  "language_info": {
   "name": "scala",
   "version": "2.10.4"
  },
  "widgets": {
   "state": {
    "A6630FA2BEE64498A852047DFCFF2E12": {
     "views": []
    }
   },
   "version": "1.1.2"
  }
 },
 "nbformat": 4,
 "nbformat_minor": 0
}
