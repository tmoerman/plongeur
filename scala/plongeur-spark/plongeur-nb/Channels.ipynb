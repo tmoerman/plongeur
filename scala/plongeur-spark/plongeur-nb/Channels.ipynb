{
 "cells": [
  {
   "cell_type": "code",
   "execution_count": 2,
   "metadata": {
    "collapsed": false
   },
   "outputs": [
    {
     "name": "stdout",
     "output_type": "stream",
     "text": [
      "Starting download from http://localhost:8888/nbextensions/declarativewidgets/urth-widgets.jar\n",
      "Finished download of urth-widgets.jar\n"
     ]
    }
   ],
   "source": [
    "%addjar http://localhost:8888/nbextensions/declarativewidgets/urth-widgets.jar"
   ]
  },
  {
   "cell_type": "code",
   "execution_count": 3,
   "metadata": {
    "collapsed": false
   },
   "outputs": [
    {
     "data": {
      "application/javascript": [
       "\n",
       "      window.Urth = window.Urth || {};\n",
       "      Urth._initialized = Urth._initialized || $.Deferred();\n",
       "      Urth.whenReady = Urth.whenReady || function(cb) {\n",
       "        Urth._initialized.then(function() {\n",
       "          Urth.whenReady(cb);\n",
       "        });\n",
       "      };\n",
       "      Urth.whenReady(function() { console.log(\"Declarative widgets connected.\") });"
      ]
     },
     "metadata": {},
     "output_type": "display_data"
    }
   ],
   "source": [
    "import declarativewidgets._\n",
    "initWidgets"
   ]
  },
  {
   "cell_type": "code",
   "execution_count": 8,
   "metadata": {
    "collapsed": true
   },
   "outputs": [],
   "source": [
    "import declarativewidgets.WidgetChannels.channel"
   ]
  },
  {
   "cell_type": "markdown",
   "metadata": {},
   "source": [
    "### Inter-cell binding"
   ]
  },
  {
   "cell_type": "code",
   "execution_count": 4,
   "metadata": {
    "collapsed": false
   },
   "outputs": [
    {
     "data": {
      "text/plain": [
       "declarativewidgets.WidgetChannels$@2cad98a6"
      ]
     },
     "execution_count": 4,
     "metadata": {},
     "output_type": "execute_result"
    }
   ],
   "source": [
    "declarativewidgets.WidgetChannels"
   ]
  },
  {
   "cell_type": "code",
   "execution_count": 5,
   "metadata": {
    "collapsed": false
   },
   "outputs": [
    {
     "data": {
      "text/html": [
       "<template is='urth-core-bind' channel='a'>\n",
       "    <div>Hello from <span>{{user}}</span></div>\n",
       "    Name: <input value='{{user::input}}'></input>\n",
       "</template>"
      ]
     },
     "execution_count": 5,
     "metadata": {},
     "output_type": "execute_result"
    }
   ],
   "source": [
    "%%html\n",
    "<template is='urth-core-bind' channel='a'>\n",
    "    <div>Hello from <span>{{user}}</span></div>\n",
    "    Name: <input value='{{user::input}}'></input>\n",
    "</template>"
   ]
  },
  {
   "cell_type": "code",
   "execution_count": 6,
   "metadata": {
    "collapsed": false
   },
   "outputs": [
    {
     "data": {
      "text/html": [
       "<template is='urth-core-bind' channel='a'>\n",
       "    <div>Hello again from <span>[[user]]</span></div>    \n",
       "</template>"
      ]
     },
     "execution_count": 6,
     "metadata": {},
     "output_type": "execute_result"
    }
   ],
   "source": [
    "%%html\n",
    "<template is='urth-core-bind' channel='a'>\n",
    "    <div>Hello again from <span>[[user]]</span></div>    \n",
    "</template>"
   ]
  },
  {
   "cell_type": "markdown",
   "metadata": {},
   "source": [
    "### Channels and sliders"
   ]
  },
  {
   "cell_type": "markdown",
   "metadata": {},
   "source": [
    "import paper-slider widget"
   ]
  },
  {
   "cell_type": "code",
   "execution_count": 7,
   "metadata": {
    "collapsed": false
   },
   "outputs": [
    {
     "data": {
      "text/html": [
       "<link rel='import' href='urth_components/paper-slider/paper-slider.html' \n",
       "        is='urth-core-import' package='PolymerElements/paper-slider'>"
      ]
     },
     "execution_count": 7,
     "metadata": {},
     "output_type": "execute_result"
    }
   ],
   "source": [
    "%%html\n",
    "<link rel='import' href='urth_components/paper-slider/paper-slider.html' \n",
    "        is='urth-core-import' package='PolymerElements/paper-slider'>"
   ]
  },
  {
   "cell_type": "markdown",
   "metadata": {},
   "source": [
    "bind the value for x to channel A"
   ]
  },
  {
   "cell_type": "code",
   "execution_count": 10,
   "metadata": {
    "collapsed": false
   },
   "outputs": [
    {
     "data": {
      "text/html": [
       "<template is='urth-core-bind' channel='ch_A'>  \n",
       "    <table>\n",
       "        <tr>\n",
       "            <td>Channel A</td>\n",
       "            <td>\n",
       "                <paper-slider \n",
       "                    min=\"10\" \n",
       "                    max=\"100\" \n",
       "                    step=\"1\" \n",
       "                    value=\"{{x}}\">\n",
       "            </td>\n",
       "            <td>\n",
       "                [[x]]\n",
       "            </td>\n",
       "        </tr>\n",
       "    </table>\n",
       "    </paper-slider>\n",
       "</template>"
      ]
     },
     "execution_count": 10,
     "metadata": {},
     "output_type": "execute_result"
    }
   ],
   "source": [
    "%%html\n",
    "<template is='urth-core-bind' channel='ch_A'>  \n",
    "    <table>\n",
    "        <tr>\n",
    "            <td>Channel A</td>\n",
    "            <td>\n",
    "                <paper-slider \n",
    "                    min=\"10\" \n",
    "                    max=\"100\" \n",
    "                    step=\"1\" \n",
    "                    value=\"{{x}}\">\n",
    "            </td>\n",
    "            <td>\n",
    "                [[x]]\n",
    "            </td>\n",
    "        </tr>\n",
    "    </table>\n",
    "    </paper-slider>\n",
    "</template>"
   ]
  },
  {
   "cell_type": "code",
   "execution_count": 12,
   "metadata": {
    "collapsed": false
   },
   "outputs": [
    {
     "data": {
      "text/html": [
       "<template is='urth-core-bind' channel='ch_A'>\n",
       "    <div>Hello again from <span>[[x]]</span></div>    \n",
       "</template>"
      ]
     },
     "execution_count": 12,
     "metadata": {},
     "output_type": "execute_result"
    }
   ],
   "source": [
    "%%html\n",
    "<template is='urth-core-bind' channel='ch_A'>\n",
    "    <div>Hello again from <span>[[x]]</span></div>    \n",
    "</template>"
   ]
  },
  {
   "cell_type": "code",
   "execution_count": null,
   "metadata": {
    "collapsed": true
   },
   "outputs": [],
   "source": []
  },
  {
   "cell_type": "code",
   "execution_count": null,
   "metadata": {
    "collapsed": true
   },
   "outputs": [],
   "source": []
  }
 ],
 "metadata": {
  "kernelspec": {
   "display_name": "Apache Toree - Scala",
   "language": "scala",
   "name": "apache_toree_scala"
  },
  "language_info": {
   "name": "scala",
   "version": "2.10.4"
  },
  "widgets": {
   "state": {
    "1BD55E551F7D426D8342C633B45D2B4B": {
     "views": []
    }
   },
   "version": "1.1.2"
  }
 },
 "nbformat": 4,
 "nbformat_minor": 0
}
