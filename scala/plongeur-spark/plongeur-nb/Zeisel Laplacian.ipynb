{
 "cells": [
  {
   "cell_type": "markdown",
   "metadata": {},
   "source": [
    "# Plongeur\n",
    "\n",
    "A *topological data analysis* library.\n",
    "\n",
    "> Core algorithm written in [Scala](http://www.scala-lang.org/), using Apache [Spark](http://spark.apache.org/).\n",
    "> \n",
    "> Executed in a [Jupyter](http://jupyter.org/) notebook, using the Apache [Toree](https://github.com/apache/incubator-toree) kernel and [declarative widgets](http://jupyter-incubator.github.io/declarativewidgets/docs.html).\n",
    ">\n",
    "> Graphs rendered with [Sigma](http://sigmajs.org/)/[Linkurious](https://github.com/Linkurious/linkurious.js), wrapped in a [Polymer](https://www.polymer-project.org/1.0/) component.\n",
    "> \n",
    "> Reactive machinery powered by [Rx](http://reactivex.io/) [RxScala](https://github.com/ReactiveX/RxScala).\n"
   ]
  },
  {
   "cell_type": "markdown",
   "metadata": {
    "nbpresent": {
     "id": "f5ac5e2a-9a1a-46ab-8882-2a492fbebc19"
    }
   },
   "source": [
    "#### Maven dependencies"
   ]
  },
  {
   "cell_type": "code",
   "execution_count": 1,
   "metadata": {
    "collapsed": false,
    "nbpresent": {
     "id": "c3144ed8-e62e-4316-917e-26b8904edc72"
    },
    "scrolled": true
   },
   "outputs": [
    {
     "name": "stdout",
     "output_type": "stream",
     "text": [
      "Marking org.apache.spark:spark-mllib_2.10:1.6.2 for download\n",
      "Preparing to fetch from:\n",
      "-> file:/var/folders/zz/zyxvpxvq6csfxvn_n0000000000000/T/toree_add_deps767520857116987262/\n",
      "-> file:/Users/tmo/.m2/repository\n",
      "-> https://repo1.maven.org/maven2\n",
      "-> New file at /var/folders/zz/zyxvpxvq6csfxvn_n0000000000000/T/toree_add_deps767520857116987262/https/repo1.maven.org/maven2/org/apache/spark/spark-mllib_2.10/1.6.2/spark-mllib_2.10-1.6.2.jar\n",
      "Marking org.scalanlp:breeze_2.10:0.11.2 for download\n",
      "Preparing to fetch from:\n",
      "-> file:/var/folders/zz/zyxvpxvq6csfxvn_n0000000000000/T/toree_add_deps767520857116987262/\n",
      "-> https://repo1.maven.org/maven2\n",
      "-> New file at /var/folders/zz/zyxvpxvq6csfxvn_n0000000000000/T/toree_add_deps767520857116987262/https/repo1.maven.org/maven2/org/spire-math/spire-macros_2.10/0.7.4/spire-macros_2.10-0.7.4.jar\n",
      "-> New file at /var/folders/zz/zyxvpxvq6csfxvn_n0000000000000/T/toree_add_deps767520857116987262/https/repo1.maven.org/maven2/org/scalanlp/breeze-macros_2.10/0.11.2/breeze-macros_2.10-0.11.2.jar\n",
      "-> New file at /var/folders/zz/zyxvpxvq6csfxvn_n0000000000000/T/toree_add_deps767520857116987262/https/repo1.maven.org/maven2/junit/junit/4.8.2/junit-4.8.2.jar\n",
      "-> New file at /var/folders/zz/zyxvpxvq6csfxvn_n0000000000000/T/toree_add_deps767520857116987262/https/repo1.maven.org/maven2/net/sf/opencsv/opencsv/2.3/opencsv-2.3.jar\n",
      "-> New file at /var/folders/zz/zyxvpxvq6csfxvn_n0000000000000/T/toree_add_deps767520857116987262/https/repo1.maven.org/maven2/com/github/rwl/jtransforms/2.4.0/jtransforms-2.4.0.jar\n",
      "-> New file at /var/folders/zz/zyxvpxvq6csfxvn_n0000000000000/T/toree_add_deps767520857116987262/https/repo1.maven.org/maven2/org/apache/commons/commons-math3/3.2/commons-math3-3.2.jar\n",
      "-> New file at /var/folders/zz/zyxvpxvq6csfxvn_n0000000000000/T/toree_add_deps767520857116987262/https/repo1.maven.org/maven2/com/github/fommil/netlib/core/1.1.2/core-1.1.2.jar\n",
      "-> New file at /var/folders/zz/zyxvpxvq6csfxvn_n0000000000000/T/toree_add_deps767520857116987262/https/repo1.maven.org/maven2/net/sourceforge/f2j/arpack_combined_all/0.1/arpack_combined_all-0.1.jar\n",
      "-> New file at /var/folders/zz/zyxvpxvq6csfxvn_n0000000000000/T/toree_add_deps767520857116987262/https/repo1.maven.org/maven2/org/spire-math/spire_2.10/0.7.4/spire_2.10-0.7.4.jar\n",
      "-> New file at /var/folders/zz/zyxvpxvq6csfxvn_n0000000000000/T/toree_add_deps767520857116987262/https/repo1.maven.org/maven2/org/scalanlp/breeze_2.10/0.11.2/breeze_2.10-0.11.2.jar\n",
      "Marking org.scalanlp:breeze-natives_2.10:0.11.2 for download\n",
      "Preparing to fetch from:\n",
      "-> file:/var/folders/zz/zyxvpxvq6csfxvn_n0000000000000/T/toree_add_deps767520857116987262/\n",
      "-> https://repo1.maven.org/maven2\n",
      "-> New file at /var/folders/zz/zyxvpxvq6csfxvn_n0000000000000/T/toree_add_deps767520857116987262/https/repo1.maven.org/maven2/org/scalanlp/breeze-natives_2.10/0.11.2/breeze-natives_2.10-0.11.2.jar\n",
      "Marking org.scalanlp:breeze-macros_2.10:0.11.2 for download\n",
      "Preparing to fetch from:\n",
      "-> file:/var/folders/zz/zyxvpxvq6csfxvn_n0000000000000/T/toree_add_deps767520857116987262/\n",
      "-> https://repo1.maven.org/maven2\n",
      "-> New file at /var/folders/zz/zyxvpxvq6csfxvn_n0000000000000/T/toree_add_deps767520857116987262/https/repo1.maven.org/maven2/org/scalanlp/breeze-macros_2.10/0.11.2/breeze-macros_2.10-0.11.2.jar\n",
      "Marking com.github.karlhigley:spark-neighbors_2.10:0.3.6-FORK for download\n",
      "Preparing to fetch from:\n",
      "-> file:/var/folders/zz/zyxvpxvq6csfxvn_n0000000000000/T/toree_add_deps767520857116987262/\n",
      "-> file:/Users/tmo/.m2/repository\n",
      "-> https://repo1.maven.org/maven2\n",
      "-> New file at /Users/tmo/.m2/repository/com/github/karlhigley/spark-neighbors_2.10/0.3.6-FORK/spark-neighbors_2.10-0.3.6-FORK.jar\n",
      "Marking io.reactivex:rxscala_2.10:0.26.1 for download\n",
      "Preparing to fetch from:\n",
      "-> file:/var/folders/zz/zyxvpxvq6csfxvn_n0000000000000/T/toree_add_deps767520857116987262/\n",
      "-> file:/Users/tmo/.m2/repository\n",
      "-> https://repo1.maven.org/maven2\n",
      "-> New file at /Users/tmo/.m2/repository/io/reactivex/rxscala_2.10/0.26.1/rxscala_2.10-0.26.1.jar\n",
      "-> New file at /Users/tmo/.m2/repository/io/reactivex/rxjava/1.1.1/rxjava-1.1.1.jar\n",
      "Marking com.softwaremill.quicklens:quicklens_2.10:1.4.4 for download\n",
      "Preparing to fetch from:\n",
      "-> file:/var/folders/zz/zyxvpxvq6csfxvn_n0000000000000/T/toree_add_deps767520857116987262/\n",
      "-> file:/Users/tmo/.m2/repository\n",
      "-> https://repo1.maven.org/maven2\n",
      "-> New file at /var/folders/zz/zyxvpxvq6csfxvn_n0000000000000/T/toree_add_deps767520857116987262/https/repo1.maven.org/maven2/com/softwaremill/quicklens/quicklens_2.10/1.4.4/quicklens_2.10-1.4.4.jar\n",
      "Marking org.tmoerman:plongeur-spark_2.10:0.3.48 for download\n",
      "Preparing to fetch from:\n",
      "-> file:/var/folders/zz/zyxvpxvq6csfxvn_n0000000000000/T/toree_add_deps767520857116987262/\n",
      "-> file:/Users/tmo/.m2/repository\n",
      "-> https://repo1.maven.org/maven2\n",
      "-> New file at /Users/tmo/.m2/repository/org/tmoerman/plongeur-spark_2.10/0.3.48/plongeur-spark_2.10-0.3.48.jar\n"
     ]
    }
   ],
   "source": [
    "%AddDeps org.apache.spark spark-mllib_2.10 1.6.2 --repository file:/Users/tmo/.m2/repository\n",
    "%AddDeps org.scalanlp breeze_2.10 0.11.2 --transitive\n",
    "%AddDeps org.scalanlp breeze-natives_2.10 0.11.2\n",
    "%AddDeps org.scalanlp breeze-macros_2.10 0.11.2\n",
    "%AddDeps com.github.karlhigley spark-neighbors_2.10 0.3.6-FORK --repository file:/Users/tmo/.m2/repository\n",
    "%AddDeps io.reactivex rxscala_2.10 0.26.1 --transitive --repository file:/Users/tmo/.m2/repository \n",
    "%AddDeps com.softwaremill.quicklens quicklens_2.10 1.4.4 --repository file:/Users/tmo/.m2/repository\n",
    "%AddDeps org.tmoerman plongeur-spark_2.10 0.3.48 --repository file:/Users/tmo/.m2/repository"
   ]
  },
  {
   "cell_type": "code",
   "execution_count": 2,
   "metadata": {
    "collapsed": false,
    "nbpresent": {
     "id": "70465288-c658-4f45-a709-4e6dd0f9a390"
    }
   },
   "outputs": [
    {
     "name": "stdout",
     "output_type": "stream",
     "text": [
      "Starting download from http://localhost:8888/nbextensions/declarativewidgets/declarativewidgets.jar\n",
      "Finished download of declarativewidgets.jar\n"
     ]
    }
   ],
   "source": [
    "%addjar http://localhost:8888/nbextensions/declarativewidgets/declarativewidgets.jar"
   ]
  },
  {
   "cell_type": "markdown",
   "metadata": {
    "collapsed": false,
    "nbpresent": {
     "id": "ff4512c4-eb02-43ff-8911-26c511ea96b4"
    }
   },
   "source": [
    "#### Import classes"
   ]
  },
  {
   "cell_type": "code",
   "execution_count": 3,
   "metadata": {
    "collapsed": false,
    "nbpresent": {
     "id": "800b012e-aa8e-4989-a156-a0b1f1e34391"
    }
   },
   "outputs": [],
   "source": [
    "import org.apache.commons.lang.StringUtils.trim\n",
    "import org.apache.spark.SparkContext\n",
    "import org.apache.spark.mllib.linalg.Vectors.dense\n",
    "import org.apache.spark.rdd.RDD\n",
    "import org.joda.time.DateTime\n",
    "import org.tmoerman.plongeur.tda.Distances._\n",
    "import org.tmoerman.plongeur.tda.Model._\n",
    "import org.tmoerman.plongeur.tda.LSH.LSHParams\n",
    "import org.tmoerman.plongeur.tda.Model.{DataPoint, TDAContext, dp}\n",
    "import org.tmoerman.plongeur.tda.knn.FastKNNParams\n",
    "import org.tmoerman.plongeur.tda.knn.SampledKNN.SampledKNNParams\n",
    "import org.tmoerman.plongeur.tda.knn.{FastKNN, SampledKNN, _}\n",
    "import org.tmoerman.plongeur.util.RDDFunctions._\n",
    "import org.tmoerman.plongeur.util.TimeUtils.time\n",
    "import org.tmoerman.plongeur.tda.geometry.Laplacian._\n",
    "import breeze.stats.distributions._\n",
    "import org.apache.spark.mllib.linalg.SparseMatrix"
   ]
  },
  {
   "cell_type": "code",
   "execution_count": 4,
   "metadata": {
    "collapsed": false
   },
   "outputs": [
    {
     "data": {
      "application/javascript": [
       "\n",
       "      window.Urth = window.Urth || {};\n",
       "      Urth._initialized = Urth._initialized || $.Deferred();\n",
       "      Urth.whenReady = Urth.whenReady || function(cb) {\n",
       "        Urth._initialized.then(function() {\n",
       "          Urth.whenReady(cb);\n",
       "        });\n",
       "      };\n",
       "      Urth.whenReady(function() { console.log(\"Declarative widgets connected.\") });"
      ]
     },
     "metadata": {},
     "output_type": "display_data"
    }
   ],
   "source": [
    "import declarativewidgets._\n",
    "initWidgets\n",
    "\n",
    "import declarativewidgets.WidgetChannels.channel"
   ]
  },
  {
   "cell_type": "markdown",
   "metadata": {},
   "source": [
    "#### Read the Iris data set"
   ]
  },
  {
   "cell_type": "code",
   "execution_count": 5,
   "metadata": {
    "collapsed": false
   },
   "outputs": [],
   "source": [
    "def read(file: String)(implicit sc: SparkContext): RDD[DataPoint] = {\n",
    "\n",
    "  val irisParsed =\n",
    "    sc\n",
    "      .textFile(file)\n",
    "      .map(_.split(\",\").map(trim))\n",
    "      .parseCsv{ case Array(a, b, c, d, e) => (a.toDouble, b.toDouble, c.toDouble, d.toDouble, e) }\n",
    "\n",
    "  val irisDataPointsRDD =\n",
    "    irisParsed\n",
    "      ._2\n",
    "      .zipWithIndex\n",
    "      .map{ case ((a, b, c, d, cat), idx) => DataPoint(idx.toInt, dense(Array(a, b, c, d)), Some(Map(\"cat\" -> cat))) }\n",
    "    \n",
    "  irisDataPointsRDD\n",
    "\n",
    "}"
   ]
  },
  {
   "cell_type": "code",
   "execution_count": 6,
   "metadata": {
    "collapsed": true
   },
   "outputs": [],
   "source": [
    "val wd = \"../src/test/resources/data/\"\n",
    "\n",
    "val irisFile =  wd + \"iris.csv\""
   ]
  },
  {
   "cell_type": "code",
   "execution_count": 7,
   "metadata": {
    "collapsed": false
   },
   "outputs": [],
   "source": [
    "val irisRDD = read(irisFile)(sc)"
   ]
  },
  {
   "cell_type": "code",
   "execution_count": 8,
   "metadata": {
    "collapsed": false
   },
   "outputs": [
    {
     "data": {
      "text/plain": [
       "DataPoint(0,[5.1,3.5,1.4,0.2],Some(Map(cat -> setosa)))\n",
       "DataPoint(1,[4.9,3.0,1.4,0.2],Some(Map(cat -> setosa)))\n",
       "DataPoint(2,[4.7,3.2,1.3,0.2],Some(Map(cat -> setosa)))"
      ]
     },
     "execution_count": 8,
     "metadata": {},
     "output_type": "execute_result"
    }
   ],
   "source": [
    "irisRDD.take(3).mkString(\"\\n\")"
   ]
  },
  {
   "cell_type": "markdown",
   "metadata": {},
   "source": [
    "#### Compute the exact kNN distance matrix"
   ]
  },
  {
   "cell_type": "code",
   "execution_count": 9,
   "metadata": {
    "collapsed": false
   },
   "outputs": [],
   "source": [
    "type Triplet = (Index, Index, Distance)\n",
    "\n",
    "def toSparseMatrix(N: Int, triplets: Iterable[Triplet]) = SparseMatrix.fromCOO(N, N, triplets)\n",
    "\n",
    "def toAffinities(distancesRDD: RDD[Triplet], sigma: Double): RDD[Triplet] = {\n",
    "  distancesRDD\n",
    "    .map{ case (p, q, d) => (p, q, gaussianSimilarity(d, sigma)) }\n",
    "    .cache\n",
    "}\n",
    "\n",
    "def distances(rdd: RDD[DataPoint])(implicit distance: DistanceFunction): RDD[Triplet] = {\n",
    "  (rdd cartesian rdd)\n",
    "    .filter{ case (p, q) => (p.index != q.index) }\n",
    "    .map{ case (p, q) => (p.index, q.index, distance(p, q)) }.cache\n",
    "}"
   ]
  },
  {
   "cell_type": "code",
   "execution_count": 10,
   "metadata": {
    "collapsed": false
   },
   "outputs": [],
   "source": [
    "val dist = LpNormDistance(0.5)\n",
    "\n",
    "val SIGMA = 1.0\n",
    "\n",
    "val ctx = TDAContext(sc, irisRDD)\n",
    "\n",
    "val distancesRDD = distances(irisRDD)(dist)\n",
    "\n",
    "val affinitiesRDD = toAffinities(distancesRDD, SIGMA)"
   ]
  },
  {
   "cell_type": "markdown",
   "metadata": {},
   "source": [
    "#### Compute the Laplacian"
   ]
  },
  {
   "cell_type": "code",
   "execution_count": 11,
   "metadata": {
    "collapsed": false
   },
   "outputs": [],
   "source": [
    "val A = toSparseMatrix(ctx.N, affinitiesRDD.collect)\n",
    "\n",
    "val E = 3\n",
    "\n",
    "val params = new LaplacianParams(nrEigenVectors = E)\n",
    "\n",
    "val laplacian = fromAffinities(ctx, A, params)"
   ]
  },
  {
   "cell_type": "markdown",
   "metadata": {},
   "source": [
    "### OUTPUT"
   ]
  },
  {
   "cell_type": "code",
   "execution_count": 12,
   "metadata": {
    "collapsed": false
   },
   "outputs": [
    {
     "data": {
      "text/html": [
       "<link rel='import' href='urth_components/urth-viz-scatter/urth-viz-scatter.html' is='urth-core-import'>"
      ]
     },
     "execution_count": 12,
     "metadata": {},
     "output_type": "execute_result"
    }
   ],
   "source": [
    "%%html\n",
    "<link rel='import' href='urth_components/urth-viz-scatter/urth-viz-scatter.html' is='urth-core-import'>"
   ]
  },
  {
   "cell_type": "markdown",
   "metadata": {},
   "source": [
    "#### Plotting the first 2 coords of the iris data set"
   ]
  },
  {
   "cell_type": "code",
   "execution_count": 13,
   "metadata": {
    "collapsed": false
   },
   "outputs": [
    {
     "data": {
      "text/html": [
       "<template is='urth-core-bind' channel='data'>    \n",
       "    <urth-viz-scatter        \n",
       "        datarows='[[raw]]'    \n",
       "        columns='[\"x\", \"y\", \"cat\"]'\n",
       "        palette='[\"green\", \"red\"]'\n",
       "        primary='0'\n",
       "        secondary='1'\n",
       "        staggerLabels='true'\n",
       "        multi-select='true'/>\n",
       "</template>"
      ]
     },
     "execution_count": 13,
     "metadata": {},
     "output_type": "execute_result"
    }
   ],
   "source": [
    "%%html\n",
    "<template is='urth-core-bind' channel='data'>    \n",
    "    <urth-viz-scatter        \n",
    "        datarows='[[raw]]'    \n",
    "        columns='[\"x\", \"y\", \"cat\"]'\n",
    "        palette='[\"green\", \"red\"]'\n",
    "        primary='0'\n",
    "        secondary='1'\n",
    "        staggerLabels='true'\n",
    "        multi-select='true'/>\n",
    "</template>"
   ]
  },
  {
   "cell_type": "code",
   "execution_count": 14,
   "metadata": {
    "collapsed": false
   },
   "outputs": [],
   "source": [
    "val rawData = irisRDD.\n",
    "    map(dp => {\n",
    "        val x = dp.features(0)\n",
    "        val y = dp.features(1)\n",
    "        val c = dp.meta.get(\"cat\") match {\n",
    "          case \"versicolor\" => 0\n",
    "          case \"virginica\" => 1\n",
    "          case \"setosa\" => 2\n",
    "        }\n",
    "        List(x, y, c)}).collect.toList\n",
    "\n",
    "channel(\"data\").set(\"raw\", rawData)"
   ]
  },
  {
   "cell_type": "markdown",
   "metadata": {},
   "source": [
    "#### Plotting the first 2 eigenvectors of the graph Laplacian "
   ]
  },
  {
   "cell_type": "code",
   "execution_count": 15,
   "metadata": {
    "collapsed": false
   },
   "outputs": [
    {
     "data": {
      "text/html": [
       "<template is='urth-core-bind' channel='data'>    \n",
       "    <urth-viz-scatter        \n",
       "        datarows='[[lap]]'    \n",
       "        columns='[\"x\", \"y\"]'        \n",
       "        primary='0'\n",
       "        secondary='1'\n",
       "        staggerLabels='true'\n",
       "        multi-select='true'/>\n",
       "</template>"
      ]
     },
     "execution_count": 15,
     "metadata": {},
     "output_type": "execute_result"
    }
   ],
   "source": [
    "%%html\n",
    "<template is='urth-core-bind' channel='data'>    \n",
    "    <urth-viz-scatter        \n",
    "        datarows='[[lap]]'    \n",
    "        columns='[\"x\", \"y\"]'        \n",
    "        primary='0'\n",
    "        secondary='1'\n",
    "        staggerLabels='true'\n",
    "        multi-select='true'/>\n",
    "</template>"
   ]
  },
  {
   "cell_type": "code",
   "execution_count": 19,
   "metadata": {
    "collapsed": false
   },
   "outputs": [],
   "source": [
    "val laplacianData = \n",
    "  laplacian.rows.map(v => List(v(1), v(2))).collect.toList\n",
    "  \n",
    "channel(\"data\").set(\"lap\", laplacianData)"
   ]
  },
  {
   "cell_type": "code",
   "execution_count": null,
   "metadata": {
    "collapsed": true
   },
   "outputs": [],
   "source": []
  }
 ],
 "metadata": {
  "anaconda-cloud": {},
  "celltoolbar": "Raw Cell Format",
  "kernelspec": {
   "display_name": "Apache Toree - Scala",
   "language": "scala",
   "name": "apache_toree_scala"
  },
  "language_info": {
   "name": "scala",
   "version": "2.10.4"
  },
  "widgets": {
   "state": {
    "64D76855812344D5976E8A0A2A30B572": {
     "views": []
    }
   },
   "version": "1.1.2"
  }
 },
 "nbformat": 4,
 "nbformat_minor": 0
}
