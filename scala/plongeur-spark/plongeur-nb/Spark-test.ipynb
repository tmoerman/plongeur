{
 "cells": [
  {
   "cell_type": "code",
   "execution_count": 1,
   "metadata": {
    "collapsed": false
   },
   "outputs": [
    {
     "data": {
      "text/plain": [
       "2.10.5"
      ]
     },
     "execution_count": 1,
     "metadata": {},
     "output_type": "execute_result"
    }
   ],
   "source": [
    "util.Properties.versionNumberString"
   ]
  },
  {
   "cell_type": "code",
   "execution_count": 2,
   "metadata": {
    "collapsed": false
   },
   "outputs": [
    {
     "data": {
      "text/plain": [
       "spark.app.id=local-1467190644259\n",
       "spark.app.name=IBM Spark Kernel\n",
       "spark.driver.host=10.33.251.147\n",
       "spark.driver.memory=12g\n",
       "spark.driver.port=60347\n",
       "spark.executor.id=driver\n",
       "spark.externalBlockStore.folderName=spark-10224872-7778-45fb-b66b-b02b946e27ad\n",
       "spark.jars=file:/usr/local/share/jupyter/kernels/apache_toree_scala/lib/toree-assembly-0.1.0.dev8-incubating-SNAPSHOT.jar\n",
       "spark.master=local[*]\n",
       "spark.repl.class.uri=http://10.33.251.147:60315\n",
       "spark.submit.deployMode=client"
      ]
     },
     "execution_count": 2,
     "metadata": {},
     "output_type": "execute_result"
    }
   ],
   "source": [
    "sc.getConf.toDebugString"
   ]
  },
  {
   "cell_type": "code",
   "execution_count": 3,
   "metadata": {
    "collapsed": false,
    "scrolled": true
   },
   "outputs": [
    {
     "name": "stdout",
     "output_type": "stream",
     "text": [
      "Marking io.reactivex:rxscala_2.10:0.26.1 for download\n",
      "Preparing to fetch from:\n",
      "-> file:/var/folders/3k/y0wr1h7906980nx45skhhfcw0000gn/T/toree_add_deps3130004117137842159/\n",
      "-> https://repo1.maven.org/maven2\n",
      "=> 1 (): Downloading https://repo1.maven.org/maven2/io/reactivex/rxscala_2.10/0.26.1/rxscala_2.10-0.26.1.pom.sha1\n",
      "=> 1 (): Downloading https://repo1.maven.org/maven2/io/reactivex/rxscala_2.10/0.26.1/rxscala_2.10-0.26.1.pom\n",
      "===> 1 (rxscala_2.10-0.26.1.pom): Is 3091 total bytes\n",
      "===> 1 (rxscala_2.10-0.26.1.pom.sha1): Is 40 total bytes\n",
      "===> 1 (rxscala_2.10-0.26.1.pom.sha1): Downloaded 40 bytes (100.00%)\n",
      "===> 1 (rxscala_2.10-0.26.1.pom): Downloaded 2107 bytes (68.17%)\n",
      "===> 1 (rxscala_2.10-0.26.1.pom): Downloaded 3091 bytes (100.00%)\n",
      "=> 1 (rxscala_2.10-0.26.1.pom.sha1): Finished downloading\n",
      "=> 1 (rxscala_2.10-0.26.1.pom): Finished downloading\n",
      "=> 2 (): Downloading https://repo1.maven.org/maven2/io/reactivex/rxjava/1.1.1/rxjava-1.1.1.pom\n",
      "=> 3 (): Downloading https://repo1.maven.org/maven2/io/reactivex/rxjava/1.1.1/rxjava-1.1.1.pom.sha1\n",
      "===> 2 (rxjava-1.1.1.pom): Is 2411 total bytes\n",
      "===> 2 (rxjava-1.1.1.pom): Downloaded 2103 bytes (87.23%)\n",
      "===> 2 (rxjava-1.1.1.pom): Downloaded 2411 bytes (100.00%)\n",
      "=> 2 (rxjava-1.1.1.pom): Finished downloading\n",
      "===> 3 (rxjava-1.1.1.pom.sha1): Is 40 total bytes\n",
      "===> 3 (rxjava-1.1.1.pom.sha1): Downloaded 40 bytes (100.00%)\n",
      "=> 3 (rxjava-1.1.1.pom.sha1): Finished downloading\n",
      "=> 1 (): Downloading https://repo1.maven.org/maven2/io/reactivex/rxscala_2.10/0.26.1/rxscala_2.10-0.26.1.jar\n",
      "=> 2 (): Downloading https://repo1.maven.org/maven2/io/reactivex/rxscala_2.10/0.26.1/rxscala_2.10-0.26.1.jar.sha1\n",
      "=> 1 (): Downloading https://repo1.maven.org/maven2/io/reactivex/rxjava/1.1.1/rxjava-1.1.1.jar\n",
      "=> 2 (): Downloading https://repo1.maven.org/maven2/io/reactivex/rxjava/1.1.1/rxjava-1.1.1.jar.sha1\n",
      "===> 2 (rxscala_2.10-0.26.1.jar.sha1): Is 40 total bytes\n",
      "===> 1 (rxscala_2.10-0.26.1.jar): Is 393627 total bytes\n",
      "===> 2 (rxscala_2.10-0.26.1.jar.sha1): Downloaded 40 bytes (100.00%)\n",
      "===> 1 (rxscala_2.10-0.26.1.jar): Downloaded 2089 bytes (0.53%)\n",
      "=> 2 (rxscala_2.10-0.26.1.jar.sha1): Finished downloading\n",
      "===> 1 (rxscala_2.10-0.26.1.jar): Downloaded 4848 bytes (1.23%)\n",
      "===> 1 (rxscala_2.10-0.26.1.jar): Downloaded 7607 bytes (1.93%)\n",
      "===> 1 (rxscala_2.10-0.26.1.jar): Downloaded 10366 bytes (2.63%)\n",
      "===> 1 (rxscala_2.10-0.26.1.jar): Downloaded 13125 bytes (3.33%)\n",
      "===> 1 (rxscala_2.10-0.26.1.jar): Downloaded 15714 bytes (3.99%)\n",
      "===> 1 (rxscala_2.10-0.26.1.jar): Downloaded 18473 bytes (4.69%)\n",
      "===> 1 (rxscala_2.10-0.26.1.jar): Downloaded 21232 bytes (5.39%)\n",
      "===> 1 (rxscala_2.10-0.26.1.jar): Downloaded 23991 bytes (6.09%)\n",
      "===> 1 (rxscala_2.10-0.26.1.jar): Downloaded 26750 bytes (6.80%)\n",
      "===> 1 (rxscala_2.10-0.26.1.jar): Downloaded 29509 bytes (7.50%)\n",
      "===> 1 (rxscala_2.10-0.26.1.jar): Downloaded 32098 bytes (8.15%)\n",
      "===> 1 (rxscala_2.10-0.26.1.jar): Downloaded 48482 bytes (12.32%)\n",
      "===> 1 (rxjava-1.1.1.jar): Is 1001969 total bytes\n",
      "===> 1 (rxscala_2.10-0.26.1.jar): Downloaded 64866 bytes (16.48%)\n",
      "===> 1 (rxjava-1.1.1.jar): Downloaded 2084 bytes (0.21%)\n",
      "===> 1 (rxscala_2.10-0.26.1.jar): Downloaded 81250 bytes (20.64%)\n",
      "===> 1 (rxjava-1.1.1.jar): Downloaded 4843 bytes (0.48%)\n",
      "===> 1 (rxjava-1.1.1.jar): Downloaded 7602 bytes (0.76%)\n",
      "===> 1 (rxjava-1.1.1.jar): Downloaded 10361 bytes (1.03%)\n",
      "===> 1 (rxscala_2.10-0.26.1.jar): Downloaded 97634 bytes (24.80%)\n",
      "===> 1 (rxjava-1.1.1.jar): Downloaded 13120 bytes (1.31%)\n",
      "===> 1 (rxjava-1.1.1.jar): Downloaded 15709 bytes (1.57%)\n",
      "===> 1 (rxjava-1.1.1.jar): Downloaded 18468 bytes (1.84%)\n",
      "===> 1 (rxjava-1.1.1.jar): Downloaded 21227 bytes (2.12%)\n",
      "===> 1 (rxjava-1.1.1.jar): Downloaded 23986 bytes (2.39%)\n",
      "===> 1 (rxjava-1.1.1.jar): Downloaded 26745 bytes (2.67%)\n",
      "===> 1 (rxscala_2.10-0.26.1.jar): Downloaded 114018 bytes (28.97%)\n",
      "===> 1 (rxjava-1.1.1.jar): Downloaded 29504 bytes (2.94%)\n",
      "===> 1 (rxjava-1.1.1.jar): Downloaded 32093 bytes (3.20%)\n",
      "===> 1 (rxjava-1.1.1.jar): Downloaded 48477 bytes (4.84%)\n",
      "===> 1 (rxscala_2.10-0.26.1.jar): Downloaded 130402 bytes (33.13%)\n",
      "===> 1 (rxjava-1.1.1.jar): Downloaded 64861 bytes (6.47%)\n",
      "===> 1 (rxjava-1.1.1.jar): Downloaded 81245 bytes (8.11%)\n",
      "===> 1 (rxscala_2.10-0.26.1.jar): Downloaded 146786 bytes (37.29%)\n",
      "===> 2 (rxjava-1.1.1.jar.sha1): Is 40 total bytes\n",
      "===> 1 (rxjava-1.1.1.jar): Downloaded 97629 bytes (9.74%)\n",
      "===> 2 (rxjava-1.1.1.jar.sha1): Downloaded 40 bytes (100.00%)\n",
      "===> 1 (rxscala_2.10-0.26.1.jar): Downloaded 163170 bytes (41.45%)\n",
      "===> 1 (rxjava-1.1.1.jar): Downloaded 114013 bytes (11.38%)\n",
      "=> 2 (rxjava-1.1.1.jar.sha1): Finished downloading\n",
      "===> 1 (rxscala_2.10-0.26.1.jar): Downloaded 179554 bytes (45.62%)\n",
      "===> 1 (rxjava-1.1.1.jar): Downloaded 130397 bytes (13.01%)\n",
      "===> 1 (rxjava-1.1.1.jar): Downloaded 146781 bytes (14.65%)\n",
      "===> 1 (rxscala_2.10-0.26.1.jar): Downloaded 195938 bytes (49.78%)\n",
      "===> 1 (rxjava-1.1.1.jar): Downloaded 163165 bytes (16.28%)\n",
      "===> 1 (rxscala_2.10-0.26.1.jar): Downloaded 212322 bytes (53.94%)\n",
      "===> 1 (rxscala_2.10-0.26.1.jar): Downloaded 228706 bytes (58.10%)\n",
      "===> 1 (rxjava-1.1.1.jar): Downloaded 179549 bytes (17.92%)\n",
      "===> 1 (rxscala_2.10-0.26.1.jar): Downloaded 245090 bytes (62.26%)\n",
      "===> 1 (rxjava-1.1.1.jar): Downloaded 195933 bytes (19.55%)\n",
      "===> 1 (rxscala_2.10-0.26.1.jar): Downloaded 261474 bytes (66.43%)\n",
      "===> 1 (rxjava-1.1.1.jar): Downloaded 212317 bytes (21.19%)\n",
      "===> 1 (rxscala_2.10-0.26.1.jar): Downloaded 277858 bytes (70.59%)\n",
      "===> 1 (rxjava-1.1.1.jar): Downloaded 228701 bytes (22.83%)\n",
      "===> 1 (rxjava-1.1.1.jar): Downloaded 245085 bytes (24.46%)\n",
      "===> 1 (rxscala_2.10-0.26.1.jar): Downloaded 294242 bytes (74.75%)\n",
      "===> 1 (rxjava-1.1.1.jar): Downloaded 261469 bytes (26.10%)\n",
      "===> 1 (rxscala_2.10-0.26.1.jar): Downloaded 310626 bytes (78.91%)\n",
      "===> 1 (rxjava-1.1.1.jar): Downloaded 277853 bytes (27.73%)\n",
      "===> 1 (rxscala_2.10-0.26.1.jar): Downloaded 327010 bytes (83.08%)\n",
      "===> 1 (rxjava-1.1.1.jar): Downloaded 294237 bytes (29.37%)\n",
      "===> 1 (rxscala_2.10-0.26.1.jar): Downloaded 343394 bytes (87.24%)\n",
      "===> 1 (rxjava-1.1.1.jar): Downloaded 310621 bytes (31.00%)\n",
      "===> 1 (rxscala_2.10-0.26.1.jar): Downloaded 359778 bytes (91.40%)\n",
      "===> 1 (rxscala_2.10-0.26.1.jar): Downloaded 376162 bytes (95.56%)\n",
      "===> 1 (rxjava-1.1.1.jar): Downloaded 327005 bytes (32.64%)\n",
      "===> 1 (rxscala_2.10-0.26.1.jar): Downloaded 392546 bytes (99.73%)\n",
      "===> 1 (rxjava-1.1.1.jar): Downloaded 343389 bytes (34.27%)\n",
      "===> 1 (rxscala_2.10-0.26.1.jar): Downloaded 393627 bytes (100.00%)\n",
      "===> 1 (rxjava-1.1.1.jar): Downloaded 359773 bytes (35.91%)\n",
      "=> 1 (rxscala_2.10-0.26.1.jar): Finished downloading\n",
      "===> 1 (rxjava-1.1.1.jar): Downloaded 376157 bytes (37.54%)\n",
      "===> 1 (rxjava-1.1.1.jar): Downloaded 392541 bytes (39.18%)\n",
      "===> 1 (rxjava-1.1.1.jar): Downloaded 408925 bytes (40.81%)\n",
      "===> 1 (rxjava-1.1.1.jar): Downloaded 425309 bytes (42.45%)\n",
      "===> 1 (rxjava-1.1.1.jar): Downloaded 441693 bytes (44.08%)\n",
      "===> 1 (rxjava-1.1.1.jar): Downloaded 458077 bytes (45.72%)\n",
      "===> 1 (rxjava-1.1.1.jar): Downloaded 474461 bytes (47.35%)\n",
      "===> 1 (rxjava-1.1.1.jar): Downloaded 490845 bytes (48.99%)\n",
      "===> 1 (rxjava-1.1.1.jar): Downloaded 507229 bytes (50.62%)\n",
      "===> 1 (rxjava-1.1.1.jar): Downloaded 523613 bytes (52.26%)\n",
      "===> 1 (rxjava-1.1.1.jar): Downloaded 539997 bytes (53.89%)\n",
      "===> 1 (rxjava-1.1.1.jar): Downloaded 556381 bytes (55.53%)\n",
      "===> 1 (rxjava-1.1.1.jar): Downloaded 572765 bytes (57.16%)\n",
      "===> 1 (rxjava-1.1.1.jar): Downloaded 589149 bytes (58.80%)\n",
      "===> 1 (rxjava-1.1.1.jar): Downloaded 605533 bytes (60.43%)\n",
      "===> 1 (rxjava-1.1.1.jar): Downloaded 621917 bytes (62.07%)\n",
      "===> 1 (rxjava-1.1.1.jar): Downloaded 638301 bytes (63.70%)\n",
      "===> 1 (rxjava-1.1.1.jar): Downloaded 654685 bytes (65.34%)\n",
      "===> 1 (rxjava-1.1.1.jar): Downloaded 671069 bytes (66.98%)\n",
      "===> 1 (rxjava-1.1.1.jar): Downloaded 687453 bytes (68.61%)\n",
      "===> 1 (rxjava-1.1.1.jar): Downloaded 703837 bytes (70.25%)\n",
      "===> 1 (rxjava-1.1.1.jar): Downloaded 720221 bytes (71.88%)\n",
      "===> 1 (rxjava-1.1.1.jar): Downloaded 736605 bytes (73.52%)\n",
      "===> 1 (rxjava-1.1.1.jar): Downloaded 752989 bytes (75.15%)\n",
      "===> 1 (rxjava-1.1.1.jar): Downloaded 769373 bytes (76.79%)\n",
      "===> 1 (rxjava-1.1.1.jar): Downloaded 785757 bytes (78.42%)\n",
      "===> 1 (rxjava-1.1.1.jar): Downloaded 802141 bytes (80.06%)\n",
      "===> 1 (rxjava-1.1.1.jar): Downloaded 818525 bytes (81.69%)\n",
      "===> 1 (rxjava-1.1.1.jar): Downloaded 834909 bytes (83.33%)\n",
      "===> 1 (rxjava-1.1.1.jar): Downloaded 851293 bytes (84.96%)\n",
      "===> 1 (rxjava-1.1.1.jar): Downloaded 867677 bytes (86.60%)\n",
      "===> 1 (rxjava-1.1.1.jar): Downloaded 884061 bytes (88.23%)\n",
      "===> 1 (rxjava-1.1.1.jar): Downloaded 900445 bytes (89.87%)\n",
      "===> 1 (rxjava-1.1.1.jar): Downloaded 916829 bytes (91.50%)\n",
      "===> 1 (rxjava-1.1.1.jar): Downloaded 933213 bytes (93.14%)\n",
      "===> 1 (rxjava-1.1.1.jar): Downloaded 949597 bytes (94.77%)\n",
      "===> 1 (rxjava-1.1.1.jar): Downloaded 965981 bytes (96.41%)\n",
      "===> 1 (rxjava-1.1.1.jar): Downloaded 982365 bytes (98.04%)\n",
      "===> 1 (rxjava-1.1.1.jar): Downloaded 998749 bytes (99.68%)\n",
      "===> 1 (rxjava-1.1.1.jar): Downloaded 1001969 bytes (100.00%)\n",
      "=> 1 (rxjava-1.1.1.jar): Finished downloading\n",
      "-> New file at /var/folders/3k/y0wr1h7906980nx45skhhfcw0000gn/T/toree_add_deps3130004117137842159/https/repo1.maven.org/maven2/io/reactivex/rxscala_2.10/0.26.1/rxscala_2.10-0.26.1.jar\n",
      "-> New file at /var/folders/3k/y0wr1h7906980nx45skhhfcw0000gn/T/toree_add_deps3130004117137842159/https/repo1.maven.org/maven2/io/reactivex/rxjava/1.1.1/rxjava-1.1.1.jar\n"
     ]
    }
   ],
   "source": [
    "%AddDeps io.reactivex rxscala_2.10 0.26.1 --transitive --trace --verbose"
   ]
  },
  {
   "cell_type": "code",
   "execution_count": 4,
   "metadata": {
    "collapsed": true
   },
   "outputs": [],
   "source": [
    "import rx.lang.scala._\n",
    "import rx.lang.scala.Observable"
   ]
  },
  {
   "cell_type": "code",
   "execution_count": 5,
   "metadata": {
    "collapsed": false
   },
   "outputs": [
    {
     "name": "stdout",
     "output_type": "stream",
     "text": [
      "123"
     ]
    }
   ],
   "source": [
    "Observable.from(List(1, 2, 3)).toBlocking.subscribe(onNext = (i) => print(i))"
   ]
  },
  {
   "cell_type": "code",
   "execution_count": null,
   "metadata": {
    "collapsed": true
   },
   "outputs": [],
   "source": []
  }
 ],
 "metadata": {
  "kernelspec": {
   "display_name": "Apache Toree - Scala",
   "language": "scala",
   "name": "apache_toree_scala"
  },
  "language_info": {
   "name": "scala",
   "version": "2.10.4"
  }
 },
 "nbformat": 4,
 "nbformat_minor": 0
}
