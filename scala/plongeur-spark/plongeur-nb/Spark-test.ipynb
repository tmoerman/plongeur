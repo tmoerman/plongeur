{
 "cells": [
  {
   "cell_type": "code",
   "execution_count": 2,
   "metadata": {
    "collapsed": false
   },
   "outputs": [
    {
     "data": {
      "text/plain": [
       "2.10.5"
      ]
     },
     "execution_count": 2,
     "metadata": {},
     "output_type": "execute_result"
    }
   ],
   "source": [
    "util.Properties.versionNumberString"
   ]
  },
  {
   "cell_type": "code",
   "execution_count": 3,
   "metadata": {
    "collapsed": false
   },
   "outputs": [
    {
     "data": {
      "text/plain": [
       "spark.app.id=local-1467188931339\n",
       "spark.app.name=IBM Spark Kernel\n",
       "spark.driver.host=10.33.251.147\n",
       "spark.driver.memory=12g\n",
       "spark.driver.port=59665\n",
       "spark.executor.id=driver\n",
       "spark.externalBlockStore.folderName=spark-c441c808-aa61-4202-994c-02eea70ee1de\n",
       "spark.jars=file:/usr/local/share/jupyter/kernels/apache_toree_scala/lib/toree-assembly-0.1.0.dev8-incubating-SNAPSHOT.jar\n",
       "spark.master=local[*]\n",
       "spark.repl.class.uri=http://10.33.251.147:59664\n",
       "spark.submit.deployMode=client"
      ]
     },
     "execution_count": 3,
     "metadata": {},
     "output_type": "execute_result"
    }
   ],
   "source": [
    "sc.getConf.toDebugString"
   ]
  },
  {
   "cell_type": "code",
   "execution_count": 5,
   "metadata": {
    "collapsed": false
   },
   "outputs": [
    {
     "name": "stdout",
     "output_type": "stream",
     "text": [
      "Marking io.reactivex:rxscala_2.10:0.26.1 for download\n",
      "Preparing to fetch from:\n",
      "-> file:/var/folders/3k/y0wr1h7906980nx45skhhfcw0000gn/T/toree_add_deps8413391230299133202/\n",
      "-> https://repo1.maven.org/maven2\n",
      "-> New file at /var/folders/3k/y0wr1h7906980nx45skhhfcw0000gn/T/toree_add_deps8413391230299133202/https/repo1.maven.org/maven2/io/reactivex/rxscala_2.10/0.26.1/rxscala_2.10-0.26.1.jar\n"
     ]
    }
   ],
   "source": [
    "%AddDeps io.reactivex rxscala_2.10 0.26.1"
   ]
  },
  {
   "cell_type": "code",
   "execution_count": 10,
   "metadata": {
    "collapsed": true
   },
   "outputs": [],
   "source": [
    "import rx.lang.scala._\n",
    "import rx.lang.scala.Observable"
   ]
  },
  {
   "cell_type": "code",
   "execution_count": null,
   "metadata": {
    "collapsed": true
   },
   "outputs": [],
   "source": [
    "Observable.from(List(1, 2, 3)).toBlocking.subscribe(onNext = (i) => print(i))"
   ]
  },
  {
   "cell_type": "code",
   "execution_count": null,
   "metadata": {
    "collapsed": true
   },
   "outputs": [],
   "source": []
  }
 ],
 "metadata": {
  "kernelspec": {
   "display_name": "Apache Toree - Scala",
   "language": "scala",
   "name": "apache_toree_scala"
  },
  "language_info": {
   "name": "scala",
   "version": "2.10.4"
  }
 },
 "nbformat": 4,
 "nbformat_minor": 0
}
