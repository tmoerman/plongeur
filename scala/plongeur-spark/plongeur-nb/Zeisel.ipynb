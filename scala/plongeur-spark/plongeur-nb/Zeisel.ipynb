{
 "cells": [
  {
   "cell_type": "markdown",
   "metadata": {
    "nbpresent": {
     "id": "00ac45c7-2881-48f6-87fd-63ad887b8b0b"
    }
   },
   "source": [
    "##### Plongeur\n",
    "\n",
    "A *topological data analysis* library.\n",
    "\n",
    "> Core algorithm written in [Scala](http://www.scala-lang.org/), using Apache [Spark](http://spark.apache.org/).\n",
    "> \n",
    "> Executed in a [Jupyter](http://jupyter.org/) notebook, using the Apache [Toree](https://github.com/apache/incubator-toree) kernel and [declarative widgets](http://jupyter-incubator.github.io/declarativewidgets/docs.html).\n",
    ">\n",
    "> Graphs rendered with [Sigma](http://sigmajs.org/)/[Linkurious](https://github.com/Linkurious/linkurious.js), wrapped in a [Polymer](https://www.polymer-project.org/1.0/) component.\n",
    "> \n",
    "> Reactive machinery powered by [Rx](http://reactivex.io/) [RxScala](https://github.com/ReactiveX/RxScala)."
   ]
  },
  {
   "cell_type": "code",
   "execution_count": 1,
   "metadata": {
    "collapsed": false,
    "nbpresent": {
     "id": "33237623-2cf4-4305-857c-34fad0373873"
    }
   },
   "outputs": [
    {
     "data": {
      "text/plain": [
       "spark.app.id=local-1479586939541\n",
       "spark.app.name=IBM Spark Kernel\n",
       "spark.driver.extraJavaOptions=-Xmx10g -Xms10g\n",
       "spark.driver.host=192.168.0.125\n",
       "spark.driver.memory=10g\n",
       "spark.driver.port=54327\n",
       "spark.executor.id=driver\n",
       "spark.externalBlockStore.folderName=spark-c4348cae-db2e-45f3-a851-f5d087fd7a99\n",
       "spark.jars=file:/usr/local/share/jupyter/kernels/apache_toree_scala/lib/toree-assembly-0.1.0.dev8-incubating-SNAPSHOT.jar\n",
       "spark.master=local[*]\n",
       "spark.repl.class.uri=http://192.168.0.125:54291\n",
       "spark.submit.deployMode=client"
      ]
     },
     "execution_count": 1,
     "metadata": {},
     "output_type": "execute_result"
    }
   ],
   "source": [
    "sc.getConf.toDebugString"
   ]
  },
  {
   "cell_type": "markdown",
   "metadata": {
    "nbpresent": {
     "id": "75da07de-5364-4dc0-a482-2ab4ddc1b0e7"
    }
   },
   "source": [
    "# Case: single cell mRNA expression (Zeisel)"
   ]
  },
  {
   "cell_type": "code",
   "execution_count": 2,
   "metadata": {
    "collapsed": false,
    "nbpresent": {
     "id": "c15cac45-0fd2-4f58-88dc-5112094d8c6c"
    },
    "scrolled": true
   },
   "outputs": [
    {
     "name": "stdout",
     "output_type": "stream",
     "text": [
      "Marking org.scalanlp:breeze-natives_2.10:0.11.2 for download\n",
      "Preparing to fetch from:\n",
      "-> file:/var/folders/zz/zyxvpxvq6csfxvn_n0000000000000/T/toree_add_deps7950602644399553294/\n",
      "-> https://repo1.maven.org/maven2\n",
      "-> New file at /var/folders/zz/zyxvpxvq6csfxvn_n0000000000000/T/toree_add_deps7950602644399553294/https/repo1.maven.org/maven2/org/scalanlp/breeze-natives_2.10/0.11.2/breeze-natives_2.10-0.11.2.jar\n",
      "Marking org.apache.spark:spark-mllib_2.10:1.6.2 for download\n",
      "Preparing to fetch from:\n",
      "-> file:/var/folders/zz/zyxvpxvq6csfxvn_n0000000000000/T/toree_add_deps7950602644399553294/\n",
      "-> file:/Users/tmo/.m2/repository\n",
      "-> https://repo1.maven.org/maven2\n",
      "-> New file at /var/folders/zz/zyxvpxvq6csfxvn_n0000000000000/T/toree_add_deps7950602644399553294/https/repo1.maven.org/maven2/org/apache/spark/spark-mllib_2.10/1.6.2/spark-mllib_2.10-1.6.2.jar\n",
      "Marking com.github.haifengl:smile-core:1.2.0 for download\n",
      "Preparing to fetch from:\n",
      "-> file:/var/folders/zz/zyxvpxvq6csfxvn_n0000000000000/T/toree_add_deps7950602644399553294/\n",
      "-> https://repo1.maven.org/maven2\n",
      "-> New file at /var/folders/zz/zyxvpxvq6csfxvn_n0000000000000/T/toree_add_deps7950602644399553294/https/repo1.maven.org/maven2/com/github/haifengl/smile-graph/1.2.0/smile-graph-1.2.0.jar\n",
      "-> New file at /var/folders/zz/zyxvpxvq6csfxvn_n0000000000000/T/toree_add_deps7950602644399553294/https/repo1.maven.org/maven2/com/github/haifengl/smile-data/1.2.0/smile-data-1.2.0.jar\n",
      "-> New file at /var/folders/zz/zyxvpxvq6csfxvn_n0000000000000/T/toree_add_deps7950602644399553294/https/repo1.maven.org/maven2/com/github/haifengl/smile-math/1.2.0/smile-math-1.2.0.jar\n",
      "-> New file at /var/folders/zz/zyxvpxvq6csfxvn_n0000000000000/T/toree_add_deps7950602644399553294/https/repo1.maven.org/maven2/com/github/haifengl/smile-core/1.2.0/smile-core-1.2.0.jar\n",
      "Marking com.github.karlhigley:spark-neighbors_2.10:0.3.6-FORK for download\n",
      "Preparing to fetch from:\n",
      "-> file:/var/folders/zz/zyxvpxvq6csfxvn_n0000000000000/T/toree_add_deps7950602644399553294/\n",
      "-> file:/Users/tmo/.m2/repository\n",
      "-> https://repo1.maven.org/maven2\n",
      "-> New file at /Users/tmo/.m2/repository/com/github/karlhigley/spark-neighbors_2.10/0.3.6-FORK/spark-neighbors_2.10-0.3.6-FORK.jar\n",
      "Marking io.reactivex:rxscala_2.10:0.26.1 for download\n",
      "Preparing to fetch from:\n",
      "-> file:/var/folders/zz/zyxvpxvq6csfxvn_n0000000000000/T/toree_add_deps7950602644399553294/\n",
      "-> file:/Users/tmo/.m2/repository\n",
      "-> https://repo1.maven.org/maven2\n",
      "-> New file at /Users/tmo/.m2/repository/io/reactivex/rxscala_2.10/0.26.1/rxscala_2.10-0.26.1.jar\n",
      "-> New file at /Users/tmo/.m2/repository/io/reactivex/rxjava/1.1.1/rxjava-1.1.1.jar\n",
      "Marking com.softwaremill.quicklens:quicklens_2.10:1.4.4 for download\n",
      "Preparing to fetch from:\n",
      "-> file:/var/folders/zz/zyxvpxvq6csfxvn_n0000000000000/T/toree_add_deps7950602644399553294/\n",
      "-> file:/Users/tmo/.m2/repository\n",
      "-> https://repo1.maven.org/maven2\n",
      "-> New file at /var/folders/zz/zyxvpxvq6csfxvn_n0000000000000/T/toree_add_deps7950602644399553294/https/repo1.maven.org/maven2/com/softwaremill/quicklens/quicklens_2.10/1.4.4/quicklens_2.10-1.4.4.jar\n",
      "Marking org.tmoerman:plongeur-spark_2.10:0.3.60 for download\n",
      "Preparing to fetch from:\n",
      "-> file:/var/folders/zz/zyxvpxvq6csfxvn_n0000000000000/T/toree_add_deps7950602644399553294/\n",
      "-> file:/Users/tmo/.m2/repository\n",
      "-> https://repo1.maven.org/maven2\n",
      "-> New file at /Users/tmo/.m2/repository/org/tmoerman/plongeur-spark_2.10/0.3.60/plongeur-spark_2.10-0.3.60.jar\n"
     ]
    }
   ],
   "source": [
    "%AddDeps org.scalanlp breeze-natives_2.10 0.11.2\n",
    "%AddDeps org.apache.spark spark-mllib_2.10 1.6.2 --repository file:/Users/tmo/.m2/repository\n",
    "%AddDeps com.github.haifengl smile-core 1.2.0 --transitive\n",
    "%AddDeps com.github.karlhigley spark-neighbors_2.10 0.3.6-FORK --repository file:/Users/tmo/.m2/repository\n",
    "%AddDeps io.reactivex rxscala_2.10 0.26.1 --transitive --repository file:/Users/tmo/.m2/repository \n",
    "%AddDeps com.softwaremill.quicklens quicklens_2.10 1.4.4 --repository file:/Users/tmo/.m2/repository\n",
    "%AddDeps org.tmoerman plongeur-spark_2.10 0.3.60 --repository file:/Users/tmo/.m2/repository"
   ]
  },
  {
   "cell_type": "code",
   "execution_count": 3,
   "metadata": {
    "collapsed": false,
    "nbpresent": {
     "id": "bc760214-e70c-40f2-92b0-e65c369f91a4"
    }
   },
   "outputs": [
    {
     "name": "stdout",
     "output_type": "stream",
     "text": [
      "Starting download from http://localhost:8888/nbextensions/declarativewidgets/declarativewidgets.jar\n",
      "Finished download of declarativewidgets.jar\n"
     ]
    }
   ],
   "source": [
    "%addjar http://localhost:8888/nbextensions/declarativewidgets/declarativewidgets.jar"
   ]
  },
  {
   "cell_type": "markdown",
   "metadata": {
    "nbpresent": {
     "id": "0039406e-36fe-4912-a1d2-d19c367a1056"
    }
   },
   "source": [
    "#### Imports"
   ]
  },
  {
   "cell_type": "code",
   "execution_count": 4,
   "metadata": {
    "collapsed": false,
    "nbpresent": {
     "id": "a86b8079-5ebb-4fb0-bc19-383782663d07"
    }
   },
   "outputs": [],
   "source": [
    "import rx.lang.scala.{Observer, Subscription, Observable}\n",
    "import rx.lang.scala.subjects.PublishSubject\n",
    "import rx.lang.scala.subjects._\n",
    "\n",
    "import org.apache.commons.lang.StringUtils.trim\n",
    "import org.apache.spark.SparkContext\n",
    "import org.apache.spark.mllib.linalg.Vectors.dense\n",
    "import org.apache.spark.rdd.RDD\n",
    "import org.joda.time.DateTime\n",
    "import org.tmoerman.plongeur.tda.TDAMachine\n",
    "import org.tmoerman.plongeur.tda.Distances._\n",
    "import org.tmoerman.plongeur.tda.Model._\n",
    "import org.tmoerman.plongeur.tda.Filters._\n",
    "import org.tmoerman.plongeur.tda.cluster.Clustering._\n",
    "import org.tmoerman.plongeur.tda.cluster.Scale._\n",
    "import org.tmoerman.plongeur.tda.Colour._\n",
    "import org.tmoerman.plongeur.tda.Brewer\n",
    "import org.tmoerman.plongeur.tda.LSH.LSHParams\n",
    "import org.tmoerman.plongeur.tda.Model.{DataPoint, TDAContext, dp}\n",
    "import org.tmoerman.plongeur.tda.knn.FastKNN.FastKNNParams\n",
    "import org.tmoerman.plongeur.tda.knn.SampledKNN.SampledKNNParams\n",
    "import org.tmoerman.plongeur.tda.knn.{FastKNN, SampledKNN, _}\n",
    "import org.tmoerman.plongeur.util.RDDFunctions._\n",
    "import org.tmoerman.plongeur.util.TimeUtils.time\n",
    "import org.tmoerman.plongeur.tda.geometry.Laplacian._\n",
    "import breeze.stats.distributions._\n",
    "import org.apache.spark.mllib.linalg.SparseMatrix"
   ]
  },
  {
   "cell_type": "code",
   "execution_count": 5,
   "metadata": {
    "collapsed": false,
    "nbpresent": {
     "id": "c950a21b-c34c-4abb-ab90-fe956884ed6b"
    }
   },
   "outputs": [
    {
     "data": {
      "application/javascript": [
       "\n",
       "      window.Urth = window.Urth || {};\n",
       "      Urth._initialized = Urth._initialized || $.Deferred();\n",
       "      Urth.whenReady = Urth.whenReady || function(cb) {\n",
       "        Urth._initialized.then(function() {\n",
       "          Urth.whenReady(cb);\n",
       "        });\n",
       "      };\n",
       "      Urth.whenReady(function() { console.log(\"Declarative widgets connected.\") });"
      ]
     },
     "metadata": {},
     "output_type": "display_data"
    }
   ],
   "source": [
    "import declarativewidgets._\n",
    "initWidgets\n",
    "\n",
    "import declarativewidgets.WidgetChannels.channel"
   ]
  },
  {
   "cell_type": "code",
   "execution_count": 7,
   "metadata": {
    "collapsed": false,
    "nbpresent": {
     "id": "34317adf-0766-49e9-8fd9-37940ab50fb0"
    }
   },
   "outputs": [
    {
     "data": {
      "text/html": [
       "<link rel='import' href='urth_components/paper-slider/paper-slider.html' \n",
       "        is='urth-core-import' package='PolymerElements/paper-slider'>\n",
       "<link rel='import' href='urth_components/paper-button/paper-button.html' \n",
       "        is='urth-core-import' package='PolymerElements/paper-button'>\n",
       "<link rel='import' href='urth_components/plongeur-graph/plongeur-graph.html' \n",
       "        is='urth-core-import' package='tmoerman/plongeur-graph'>\n",
       "<link rel='import' href='urth_components/urth-viz-scatter/urth-viz-scatter.html' is='urth-core-import'>"
      ]
     },
     "execution_count": 7,
     "metadata": {},
     "output_type": "execute_result"
    }
   ],
   "source": [
    "%%html\n",
    "<link rel='import' href='urth_components/paper-slider/paper-slider.html' \n",
    "        is='urth-core-import' package='PolymerElements/paper-slider'>\n",
    "<link rel='import' href='urth_components/paper-button/paper-button.html' \n",
    "        is='urth-core-import' package='PolymerElements/paper-button'>\n",
    "<link rel='import' href='urth_components/plongeur-graph/plongeur-graph.html' \n",
    "        is='urth-core-import' package='tmoerman/plongeur-graph'>\n",
    "<link rel='import' href='urth_components/urth-viz-scatter/urth-viz-scatter.html' is='urth-core-import'>"
   ]
  },
  {
   "cell_type": "code",
   "execution_count": 7,
   "metadata": {
    "collapsed": false,
    "nbpresent": {
     "id": "96f678eb-da48-46b1-8a47-00bb2cf8e316"
    }
   },
   "outputs": [
    {
     "data": {
      "text/html": [
       "<style>\n",
       "table.clean th {\n",
       "    border-style: hidden;\n",
       "    white-space: nowrap;\n",
       "}\n",
       "table.clean td {\n",
       "    border-style: hidden;\n",
       "}\n",
       "tr.title {\n",
       "    text-align: center;\n",
       "    background-color: beige;\n",
       "}\n",
       "td.wide {\n",
       "    width: 500px;\n",
       "}\n",
       "td.wide paper-slider {\n",
       "   width: 100%;\n",
       "}\n",
       "th.code {\n",
       "   font-family: courier new,monospace;\n",
       "}\n",
       "    </style>"
      ]
     },
     "execution_count": 7,
     "metadata": {},
     "output_type": "execute_result"
    }
   ],
   "source": [
    "import org.tmoerman.plongeur.ui.Controls._\n",
    "kernel.magics.html(controlsCSS)"
   ]
  },
  {
   "cell_type": "markdown",
   "metadata": {
    "nbpresent": {
     "id": "424153e8-4364-47c9-b004-0dfce90a5ca5"
    }
   },
   "source": [
    "### Parse the Zeisel dataset"
   ]
  },
  {
   "cell_type": "code",
   "execution_count": 8,
   "metadata": {
    "collapsed": false,
    "nbpresent": {
     "id": "6f70ac7b-286a-4976-9440-df530bce1776"
    }
   },
   "outputs": [],
   "source": [
    "import breeze.linalg.SparseVector\n",
    "import breeze.linalg.SparseVector.zeros\n",
    "import org.apache.commons.lang.StringUtils.trim\n",
    "import org.apache.spark.mllib.linalg.BreezeConversions._\n",
    "\n",
    "type E = (Index, Either[(Int, Double), (String, Any)])\n",
    "\n",
    "val N_OFFSET = 2\n",
    "val D_OFFSET = 11\n",
    "\n",
    "def toMeta(columns: List[(String, Int)],\n",
    "           limit: Option[Int],\n",
    "           f: (String => Any) = identity) = (columns: @unchecked) match {\n",
    "\n",
    "  case _ :: (label, _) :: values =>\n",
    "    limit.map(values.take).getOrElse(values).map{ case (value, idx) => (idx - N_OFFSET, Right((label, f(value)))) }\n",
    "}\n",
    "\n",
    "def toFeatures(lineIndex: Int,\n",
    "               columns: List[(String, Int)],\n",
    "               limit: Option[Int]) = (columns: @unchecked) match {\n",
    "\n",
    "  case _ :: _ :: features => limit.map(features.take).getOrElse(features).flatMap{ case (feature, idx) => {\n",
    "    val value = feature.toDouble\n",
    "\n",
    "    if (value > 0) (idx - N_OFFSET, Left((lineIndex - D_OFFSET, value))) :: Nil else Nil\n",
    "  }}\n",
    "}\n",
    "\n",
    "def parseLine(lineIdx: Int, columns: List[(String, Int)], limit: Option[Int]): Seq[E] = lineIdx match {\n",
    "  case 0 => toMeta(columns, limit)              // tissue\n",
    "  case 1 => toMeta(columns, limit, _.toInt)     // group\n",
    "  case 2 => toMeta(columns, limit, _.toInt)     // total mRNA mol\n",
    "  case 3 => toMeta(columns, limit, _.toInt)     // well\n",
    "  case 4 => toMeta(columns, limit, _.toInt)     // sex\n",
    "  case 5 => toMeta(columns, limit, _.toInt)     // age\n",
    "  case 6 => toMeta(columns, limit, _.toDouble)  // diameter\n",
    "  case 7 => Nil // toMeta(columns, limit)       // cell ID\n",
    "  case 8 => toMeta(columns, limit)              // level 1 class\n",
    "  case 9 => toMeta(columns, limit)              // level 2 class\n",
    "  case 10 => Nil                                // empty line\n",
    "  case _ => toFeatures(lineIdx, columns, limit) // feature\n",
    "}\n",
    "\n",
    "def parseZeisel(sc: SparkContext, file: String, limit: Option[Int] = None) = {\n",
    "\n",
    "  lazy val N = sc.textFile(file).map(line => line.split(\"\\t\").length).first - N_OFFSET\n",
    "\n",
    "  val D = sc.textFile(file).count.toInt - D_OFFSET\n",
    "\n",
    "  type ACC = (SparseVector[Double], Map[String, Any])\n",
    "\n",
    "  val INIT: ACC = (zeros[Double](D), Map.empty)\n",
    "\n",
    "  sc\n",
    "    .textFile(file)\n",
    "    .zipWithIndex\n",
    "    .flatMap{ case (line, lineIdx) =>\n",
    "      val columns = line.split(\"\\t\").map(trim).zipWithIndex.toList\n",
    "      parseLine(lineIdx.toInt, columns, limit) }\n",
    "    .aggregateByKey(INIT)(\n",
    "      { case ((sparse, meta), e) => e match {\n",
    "          case Left((idx, v)) => sparse.update(idx, v); (sparse, meta)\n",
    "          case Right((key, v)) => (sparse, meta + (key -> v))\n",
    "      }},\n",
    "      { case ((sparse1, meta1), (sparse2, meta2)) => (sparse1 + sparse2, meta1 ++ meta2) })\n",
    "    .map { case (idx, (sparse, meta)) => DataPoint(idx, sparse.toMLLib, Some(meta)) }\n",
    "}"
   ]
  },
  {
   "cell_type": "code",
   "execution_count": 9,
   "metadata": {
    "collapsed": false,
    "nbpresent": {
     "id": "cb367d81-4ef0-4a31-a43d-ff088d0e3084"
    }
   },
   "outputs": [],
   "source": [
    "val wd = \"/Users/tmo/Work/ghb2016/data/zeisel/\"\n",
    "\n",
    "val exp_mRNA = wd + \"expression_mRNA_17-Aug-2014.txt\"\n",
    "\n",
    "//val rdd = parseZeisel(sc, exp_mRNA, limit = Some(1500)).cache\n",
    "val rdd = parseZeisel(sc, exp_mRNA).cache"
   ]
  },
  {
   "cell_type": "code",
   "execution_count": 10,
   "metadata": {
    "collapsed": false,
    "nbpresent": {
     "id": "9e96a1c5-2b1f-46a5-a697-0d1886278632"
    }
   },
   "outputs": [
    {
     "data": {
      "text/plain": [
       "3005"
      ]
     },
     "execution_count": 10,
     "metadata": {},
     "output_type": "execute_result"
    }
   ],
   "source": [
    "rdd.count"
   ]
  },
  {
   "cell_type": "code",
   "execution_count": 11,
   "metadata": {
    "collapsed": false,
    "nbpresent": {
     "id": "92596279-84ca-43bb-b79f-a2fbc9fc4876"
    }
   },
   "outputs": [],
   "source": [
    "val ctx = TDAContext(sc, rdd)"
   ]
  },
  {
   "cell_type": "markdown",
   "metadata": {
    "nbpresent": {
     "id": "d0a97f2b-8474-4ef2-b153-b18461c833d9"
    }
   },
   "source": [
    "### TDA Machine"
   ]
  },
  {
   "cell_type": "code",
   "execution_count": 20,
   "metadata": {
    "collapsed": true,
    "nbpresent": {
     "id": "68b50e9b-1ba8-4b86-b561-aa6cce713f52"
    }
   },
   "outputs": [],
   "source": [
    "val in$ = PublishSubject[TDAParams]"
   ]
  },
  {
   "cell_type": "code",
   "execution_count": 21,
   "metadata": {
    "collapsed": true,
    "nbpresent": {
     "id": "ea023bba-2953-4165-b486-593c47941f46"
    }
   },
   "outputs": [],
   "source": [
    "val r = scala.util.Random\n",
    "\n",
    "def format(result: TDAResult) = Map(\n",
    "    \"nodes\" -> result.clusters.map(c =>\n",
    "      Map(\n",
    "        \"id\"     -> c.id.toString, //\"label\"  -> c.label,\n",
    "        \"size\"   -> c.dataPoints.size,\n",
    "        \"color\"  -> c.colours.headOption.getOrElse(\"#000000\"),\n",
    "        \"x\"      -> r.nextInt(100),\n",
    "        \"y\"      -> r.nextInt(100))),\n",
    "    \"edges\" -> result.edges.map(e => {\n",
    "      val (from, to) = e.toArray match {case Array(f, t) => (f, t)}\n",
    "\n",
    "      Map(        \n",
    "        \"id\"     -> s\"$from-$to\",\n",
    "        \"source\" -> from.toString,\n",
    "        \"target\" -> to.toString)}))"
   ]
  },
  {
   "cell_type": "code",
   "execution_count": 22,
   "metadata": {
    "collapsed": false,
    "nbpresent": {
     "id": "1e1a5b14-5aea-4c89-a472-6169111b955a"
    }
   },
   "outputs": [],
   "source": [
    "val out$: Observable[TDAResult] = TDAMachine.run(ctx, in$)"
   ]
  },
  {
   "cell_type": "code",
   "execution_count": 23,
   "metadata": {
    "collapsed": false,
    "nbpresent": {
     "id": "74b67a7d-375b-4f47-b2a4-4e42193b440e"
    }
   },
   "outputs": [
    {
     "data": {
      "text/plain": [
       "rx.lang.scala.Subscription$$anon$2@490d3e6c"
      ]
     },
     "execution_count": 23,
     "metadata": {},
     "output_type": "execute_result"
    }
   ],
   "source": [
    "out$.subscribe(\n",
    "    onNext = (r) => channel(\"ch_TDA_1\").set(\"result\", format(r)),\n",
    "    onError = (e) => println(\"Error in TDA machine: \", e))"
   ]
  },
  {
   "cell_type": "markdown",
   "metadata": {
    "collapsed": true,
    "nbpresent": {
     "id": "515e5200-51a2-4759-905d-4b73ae0e365e"
    }
   },
   "source": [
    "# UI"
   ]
  },
  {
   "cell_type": "code",
   "execution_count": 44,
   "metadata": {
    "collapsed": false,
    "nbpresent": {
     "id": "cc264e20-34f8-4ce6-b705-87b9bf482d21"
    }
   },
   "outputs": [],
   "source": [
    "import TDAParams._\n",
    "\n",
    "val dist = TanimotoDistance\n",
    "\n",
    "val lap0 = Filter(LaplacianEigenVector(0, distance = TanimotoDistance), 30, 0.3)\n",
    "val lap1 = Filter(LaplacianEigenVector(1, distance = TanimotoDistance), 30, 0.3)\n",
    "val den = Filter(Density(sigma=1.0, distance = dist), 45, 0.30)\n",
    "val ecc = Filter(Eccentricity(Right(INFINITY), distance = dist), 30, 0.30)\n",
    "\n",
    "val pc0  = Filter(PrincipalComponent(0), 45, 0.3)\n",
    "val pc1  = Filter(PrincipalComponent(1), 30, 0.3)\n",
    "val mean = Filter(FeatureMean, 30, 0.3)\n",
    "val vari = Filter(FeatureVariance, 30, 0.3)\n",
    "\n",
    "val age  = Filter(Meta(\"age\"), 30, 0.3)\n",
    "val diam = Filter(Meta(\"diameter\"), 30, 0.3)\n",
    "val mRNA = Filter(Meta(\"total mRNA mol\"), 30, 0.3)\n",
    "\n",
    "val bySex    = ClusterMaxFrequency(Brewer.palettes(\"Set1\")(3), (d: DataPoint) => d.meta.get(\"sex\"))\n",
    "val byTissue = ClusterMaxFrequency(Brewer.palettes(\"Set1\")(4), (d: DataPoint) => d.meta.get(\"tissue\"))\n",
    "val byLevel1 = ClusterMaxFrequency(Brewer.palettes(\"Set1\")(7), (d: DataPoint) => d.meta.get(\"level1class\"))\n",
    "val byGroup  = ClusterMaxFrequency(Brewer.palettes(\"Set3\")(9), (d: DataPoint) => d.meta.get(\"group #\"))\n",
    "\n",
    "val clSize = ClusterSize(Brewer.palettes(\"RdYlBu\")(9).reverse)\n",
    "\n",
    "val avgEcc = AverageFilterValue(Brewer.palettes(\"Blues\")(9), ecc)\n",
    "val avgDen = AverageFilterValue(Brewer.palettes(\"Reds\")(9), den)\n",
    "val avgAge = AverageFilterValue(Brewer.palettes(\"RdYlBu\")(9), age)\n",
    "val avgDia = AverageFilterValue(Brewer.palettes(\"RdYlBu\")(9), diam)\n",
    "val avgRNA = AverageFilterValue(Brewer.palettes(\"RdYlBu\")(9), mRNA)\n",
    "\n",
    "val groupPct = ClusterPercentage(Brewer.palettes(\"RdYlBu\")(9), (d: DataPoint) => d.meta.get(\"group #\") == 2)\n",
    "\n",
    "val cortexPct = ClusterPercentage(Brewer.palettes(\"RdYlBu\")(9), (d: DataPoint) => d.meta.get(\"tissue\") == \"sscortex\")\n",
    "val hippoPct = ClusterPercentage(Brewer.palettes(\"RdYlBu\")(9), (d: DataPoint) => d.meta.get(\"tissue\") == \"ca1hippocampus\")\n",
    "\n",
    "def L1Class(clazz: String) = ClusterPercentage(Brewer.palettes(\"RdYlBu\")(9), (d: DataPoint) => d.meta.get(\"level1class\") == clazz)\n",
    "val L1Oligo = L1Class(\"oligodendrocytes\")\n",
    "def L2Oligos(nrs: Int*) = ClusterPercentage(Brewer.palettes(\"RdYlBu\")(9), (d: DataPoint) => nrs.exists(i => d.meta.get(\"level2class\") == s\"Oligo$i\"))"
   ]
  },
  {
   "cell_type": "code",
   "execution_count": 53,
   "metadata": {
    "collapsed": false,
    "nbpresent": {
     "id": "8029cd3d-d24a-420d-a5ae-ea5372061adb"
    },
    "scrolled": false
   },
   "outputs": [],
   "source": [
    "val BASE =\n",
    "  TDAParams(\n",
    "    lens = TDALens(ecc, mRNA),\n",
    "    clusteringParams = ClusteringParams(distance = dist),\n",
    "    scaleSelection = firstGap(5),\n",
    "    collapseDuplicateClusters = true,\n",
    "    colouring = avgRNA) // L1Class(\"<class>\"))\n",
    "\n",
    "in$.onNext(BASE)\n",
    "\n",
    "val (sub, html) = BASE.makeControls(channel(\"ch_TDA_1\"), in$)\n",
    "\n",
    "kernel.magics.html(html)"
   ]
  },
  {
   "cell_type": "code",
   "execution_count": 50,
   "metadata": {
    "collapsed": false,
    "nbpresent": {
     "id": "a4078c01-f112-49da-8c60-6d5b4272f65c"
    },
    "scrolled": false
   },
   "outputs": [
    {
     "data": {
      "text/html": [
       "<template is='urth-core-bind' channel='ch_TDA_1'>    \n",
       "    <plongeur-graph height=\"600\" data=\"{{result}}\"></plongeur-graph>\n",
       "</template>"
      ]
     },
     "execution_count": 50,
     "metadata": {},
     "output_type": "execute_result"
    }
   ],
   "source": [
    "%%html\n",
    "<template is='urth-core-bind' channel='ch_TDA_1'>    \n",
    "    <plongeur-graph height=\"600\" data=\"{{result}}\"></plongeur-graph>\n",
    "</template>"
   ]
  },
  {
   "cell_type": "code",
   "execution_count": 19,
   "metadata": {
    "collapsed": true,
    "nbpresent": {
     "id": "b92f0506-d14d-4e1c-8de3-c1f816aa0a41"
    }
   },
   "outputs": [],
   "source": [
    "in$.onCompleted()"
   ]
  },
  {
   "cell_type": "code",
   "execution_count": null,
   "metadata": {
    "collapsed": true,
    "nbpresent": {
     "id": "be7ec78e-ad89-43ca-bd0d-43f9605e7c1c"
    }
   },
   "outputs": [],
   "source": []
  },
  {
   "cell_type": "code",
   "execution_count": null,
   "metadata": {
    "collapsed": true,
    "nbpresent": {
     "id": "f128df14-20ae-470d-9f7e-8377f5741c68"
    }
   },
   "outputs": [],
   "source": []
  }
 ],
 "metadata": {
  "anaconda-cloud": {},
  "kernelspec": {
   "display_name": "Apache Toree - Scala",
   "language": "scala",
   "name": "apache_toree_scala"
  },
  "language_info": {
   "name": "scala",
   "version": "2.10.4"
  },
  "widgets": {
   "state": {
    "44F5F210986944F18F0E33D19BFC93F5": {
     "views": []
    }
   },
   "version": "1.1.2"
  }
 },
 "nbformat": 4,
 "nbformat_minor": 0
}
