{
 "cells": [
  {
   "cell_type": "markdown",
   "metadata": {},
   "source": [
    "# Plongeur\n",
    "\n",
    "A *topological data analysis* library.\n",
    "\n",
    "> Core algorithm written in [Scala](http://www.scala-lang.org/), using Apache [Spark](http://spark.apache.org/).\n",
    "> \n",
    "> Executed in a [Jupyter](http://jupyter.org/) notebook, using the Apache [Toree](https://github.com/apache/incubator-toree) kernel and [declarative widgets](http://jupyter-incubator.github.io/declarativewidgets/docs.html).\n",
    ">\n",
    "> Graphs rendered with [Sigma](http://sigmajs.org/)/[Linkurious](https://github.com/Linkurious/linkurious.js), wrapped in a [Polymer](https://www.polymer-project.org/1.0/) component.\n",
    "> \n",
    "> Reactive machinery powered by [Rx](http://reactivex.io/) [RxScala](https://github.com/ReactiveX/RxScala).\n"
   ]
  },
  {
   "cell_type": "markdown",
   "metadata": {
    "nbpresent": {
     "id": "f5ac5e2a-9a1a-46ab-8882-2a492fbebc19"
    }
   },
   "source": [
    "#### Maven dependencies"
   ]
  },
  {
   "cell_type": "code",
   "execution_count": 1,
   "metadata": {
    "collapsed": false,
    "nbpresent": {
     "id": "c3144ed8-e62e-4316-917e-26b8904edc72"
    },
    "scrolled": true
   },
   "outputs": [
    {
     "name": "stdout",
     "output_type": "stream",
     "text": [
      "Marking org.apache.spark:spark-mllib_2.10:1.6.2 for download\n",
      "Preparing to fetch from:\n",
      "-> file:/var/folders/zz/zyxvpxvq6csfxvn_n0000000000000/T/toree_add_deps4040651754459861367/\n",
      "-> file:/Users/tmo/.m2/repository\n",
      "-> https://repo1.maven.org/maven2\n",
      "-> New file at /var/folders/zz/zyxvpxvq6csfxvn_n0000000000000/T/toree_add_deps4040651754459861367/https/repo1.maven.org/maven2/org/apache/spark/spark-mllib_2.10/1.6.2/spark-mllib_2.10-1.6.2.jar\n",
      "Marking org.scalanlp:breeze-natives_2.10:0.12 for download\n",
      "Preparing to fetch from:\n",
      "-> file:/var/folders/zz/zyxvpxvq6csfxvn_n0000000000000/T/toree_add_deps4040651754459861367/\n",
      "-> file:/Users/tmo/.m2/repository\n",
      "-> https://repo1.maven.org/maven2\n",
      "-> New file at /Users/tmo/.m2/repository/org/scalanlp/breeze-natives_2.10/0.12/breeze-natives_2.10-0.12.jar\n",
      "Marking com.github.haifengl:smile-core:1.1.0 for download\n",
      "Preparing to fetch from:\n",
      "-> file:/var/folders/zz/zyxvpxvq6csfxvn_n0000000000000/T/toree_add_deps4040651754459861367/\n",
      "-> file:/Users/tmo/.m2/repository\n",
      "-> https://repo1.maven.org/maven2\n",
      "-> New file at /var/folders/zz/zyxvpxvq6csfxvn_n0000000000000/T/toree_add_deps4040651754459861367/https/repo1.maven.org/maven2/com/github/haifengl/smile-graph/1.1.0/smile-graph-1.1.0.jar\n",
      "-> New file at /var/folders/zz/zyxvpxvq6csfxvn_n0000000000000/T/toree_add_deps4040651754459861367/https/repo1.maven.org/maven2/com/github/haifengl/smile-data/1.1.0/smile-data-1.1.0.jar\n",
      "-> New file at /var/folders/zz/zyxvpxvq6csfxvn_n0000000000000/T/toree_add_deps4040651754459861367/https/repo1.maven.org/maven2/com/github/haifengl/smile-math/1.1.0/smile-math-1.1.0.jar\n",
      "-> New file at /var/folders/zz/zyxvpxvq6csfxvn_n0000000000000/T/toree_add_deps4040651754459861367/https/repo1.maven.org/maven2/com/github/haifengl/smile-core/1.1.0/smile-core-1.1.0.jar\n",
      "Marking io.reactivex:rxscala_2.10:0.26.1 for download\n",
      "Preparing to fetch from:\n",
      "-> file:/var/folders/zz/zyxvpxvq6csfxvn_n0000000000000/T/toree_add_deps4040651754459861367/\n",
      "-> file:/Users/tmo/.m2/repository\n",
      "-> https://repo1.maven.org/maven2\n",
      "-> New file at /Users/tmo/.m2/repository/io/reactivex/rxscala_2.10/0.26.1/rxscala_2.10-0.26.1.jar\n",
      "-> New file at /Users/tmo/.m2/repository/io/reactivex/rxjava/1.1.1/rxjava-1.1.1.jar\n",
      "Marking com.softwaremill.quicklens:quicklens_2.10:1.4.4 for download\n",
      "Preparing to fetch from:\n",
      "-> file:/var/folders/zz/zyxvpxvq6csfxvn_n0000000000000/T/toree_add_deps4040651754459861367/\n",
      "-> file:/Users/tmo/.m2/repository\n",
      "-> https://repo1.maven.org/maven2\n",
      "-> New file at /var/folders/zz/zyxvpxvq6csfxvn_n0000000000000/T/toree_add_deps4040651754459861367/https/repo1.maven.org/maven2/com/softwaremill/quicklens/quicklens_2.10/1.4.4/quicklens_2.10-1.4.4.jar\n",
      "Marking com.chuusai:shapeless_2.10:2.3.0 for download\n",
      "Preparing to fetch from:\n",
      "-> file:/var/folders/zz/zyxvpxvq6csfxvn_n0000000000000/T/toree_add_deps4040651754459861367/\n",
      "-> https://oss.sonatype.org/content/repositories/releases/\n",
      "-> file:/Users/tmo/.m2/repository\n",
      "-> https://repo1.maven.org/maven2\n",
      "-> New file at /var/folders/zz/zyxvpxvq6csfxvn_n0000000000000/T/toree_add_deps4040651754459861367/https/oss.sonatype.org/content/repositories/releases/com/chuusai/shapeless_2.10/2.3.0/shapeless_2.10-2.3.0.jar\n",
      "Marking org.tmoerman:plongeur-spark_2.10:0.3.21 for download\n",
      "Preparing to fetch from:\n",
      "-> file:/var/folders/zz/zyxvpxvq6csfxvn_n0000000000000/T/toree_add_deps4040651754459861367/\n",
      "-> file:/Users/tmo/.m2/repository\n",
      "-> https://repo1.maven.org/maven2\n",
      "-> New file at /Users/tmo/.m2/repository/org/tmoerman/plongeur-spark_2.10/0.3.21/plongeur-spark_2.10-0.3.21.jar\n"
     ]
    }
   ],
   "source": [
    "%AddDeps org.apache.spark spark-mllib_2.10 1.6.2 --repository file:/Users/tmo/.m2/repository\n",
    "%AddDeps org.scalanlp breeze-natives_2.10 0.12 --repository file:/Users/tmo/.m2/repository\n",
    "%AddDeps com.github.haifengl smile-core 1.1.0 --transitive --repository file:/Users/tmo/.m2/repository\n",
    "%AddDeps io.reactivex rxscala_2.10 0.26.1 --transitive --repository file:/Users/tmo/.m2/repository\n",
    "%AddDeps com.softwaremill.quicklens quicklens_2.10 1.4.4 --repository file:/Users/tmo/.m2/repository\n",
    "%AddDeps com.chuusai shapeless_2.10 2.3.0 --repository https://oss.sonatype.org/content/repositories/releases/ --repository file:/Users/tmo/.m2/repository\n",
    "%AddDeps org.tmoerman plongeur-spark_2.10 0.3.21 --repository file:/Users/tmo/.m2/repository"
   ]
  },
  {
   "cell_type": "code",
   "execution_count": 2,
   "metadata": {
    "collapsed": false,
    "nbpresent": {
     "id": "70465288-c658-4f45-a709-4e6dd0f9a390"
    }
   },
   "outputs": [
    {
     "name": "stdout",
     "output_type": "stream",
     "text": [
      "Starting download from http://localhost:8888/nbextensions/declarativewidgets/declarativewidgets.jar\n",
      "Finished download of declarativewidgets.jar\n"
     ]
    }
   ],
   "source": [
    "%addjar http://localhost:8888/nbextensions/declarativewidgets/declarativewidgets.jar"
   ]
  },
  {
   "cell_type": "markdown",
   "metadata": {
    "collapsed": false,
    "nbpresent": {
     "id": "ff4512c4-eb02-43ff-8911-26c511ea96b4"
    }
   },
   "source": [
    "#### Import classes"
   ]
  },
  {
   "cell_type": "code",
   "execution_count": 3,
   "metadata": {
    "collapsed": false,
    "nbpresent": {
     "id": "800b012e-aa8e-4989-a156-a0b1f1e34391"
    }
   },
   "outputs": [
    {
     "data": {
      "application/javascript": [
       "\n",
       "      window.Urth = window.Urth || {};\n",
       "      Urth._initialized = Urth._initialized || $.Deferred();\n",
       "      Urth.whenReady = Urth.whenReady || function(cb) {\n",
       "        Urth._initialized.then(function() {\n",
       "          Urth.whenReady(cb);\n",
       "        });\n",
       "      };\n",
       "      Urth.whenReady(function() { console.log(\"Declarative widgets connected.\") });"
      ]
     },
     "metadata": {},
     "output_type": "display_data"
    }
   ],
   "source": [
    "import rx.lang.scala.{Observer, Subscription, Observable}\n",
    "import rx.lang.scala.subjects.PublishSubject\n",
    "import rx.lang.scala.subjects._\n",
    "\n",
    "import shapeless.HNil\n",
    "\n",
    "import org.tmoerman.plongeur.tda._\n",
    "import org.tmoerman.plongeur.tda.Model._\n",
    "import org.tmoerman.plongeur.tda.cluster.Clustering._\n",
    "import org.tmoerman.plongeur.tda.cluster.Scale._\n",
    "\n",
    "import declarativewidgets._\n",
    "initWidgets\n",
    "\n",
    "import declarativewidgets.WidgetChannels.channel"
   ]
  },
  {
   "cell_type": "code",
   "execution_count": 4,
   "metadata": {
    "collapsed": false
   },
   "outputs": [],
   "source": [
    "import java.util.concurrent.atomic.AtomicReference\n",
    "\n",
    "case class SubRef(val ref: AtomicReference[Option[Subscription]] = new AtomicReference[Option[Subscription]](None)) extends Serializable {\n",
    "\n",
    "    def update(sub: Subscription): Unit = ref.getAndSet(Option(sub)).foreach(old => old.unsubscribe())\n",
    "\n",
    "    def reset(): Unit = update(null)\n",
    "\n",
    "}"
   ]
  },
  {
   "cell_type": "markdown",
   "metadata": {
    "nbpresent": {
     "id": "17926a43-50f9-444a-97a5-84eaf41caa6a"
    }
   },
   "source": [
    "#### Import polymer elements\n",
    "\n",
    "These cells triggers Bower installations of the specified web components. \n",
    "\n",
    "If it doesn't work, check whether Bower has sufficient permissions to install in the jupyter `/nbextensions` folder."
   ]
  },
  {
   "cell_type": "code",
   "execution_count": 5,
   "metadata": {
    "collapsed": false,
    "nbpresent": {
     "id": "282de503-679a-43a3-af20-3002bd068851"
    }
   },
   "outputs": [
    {
     "data": {
      "text/html": [
       "<link rel='import' href='urth_components/paper-slider/paper-slider.html' \n",
       "        is='urth-core-import' package='PolymerElements/paper-slider'>\n",
       "<link rel='import' href='urth_components/paper-button/paper-button.html' \n",
       "        is='urth-core-import' package='PolymerElements/paper-button'>\n",
       "<link rel='import' href='urth_components/plongeur-graph/plongeur-graph.html' \n",
       "        is='urth-core-import' package='tmoerman/plongeur-graph'>\n",
       "<link rel='import' href='urth_components/urth-viz-scatter/urth-viz-scatter.html' is='urth-core-import'>"
      ]
     },
     "execution_count": 5,
     "metadata": {},
     "output_type": "execute_result"
    }
   ],
   "source": [
    "%%html\n",
    "<link rel='import' href='urth_components/paper-slider/paper-slider.html' \n",
    "        is='urth-core-import' package='PolymerElements/paper-slider'>\n",
    "<link rel='import' href='urth_components/paper-button/paper-button.html' \n",
    "        is='urth-core-import' package='PolymerElements/paper-button'>\n",
    "<link rel='import' href='urth_components/plongeur-graph/plongeur-graph.html' \n",
    "        is='urth-core-import' package='tmoerman/plongeur-graph'>\n",
    "<link rel='import' href='urth_components/urth-viz-scatter/urth-viz-scatter.html' is='urth-core-import'>"
   ]
  },
  {
   "cell_type": "markdown",
   "metadata": {
    "nbpresent": {
     "id": "3ee8048e-d1e3-4c46-99cc-5a3bc5c7f865"
    }
   },
   "source": [
    "#### Reactive TDA Machine"
   ]
  },
  {
   "cell_type": "markdown",
   "metadata": {},
   "source": [
    "Keep references to Rx subscriptions apart."
   ]
  },
  {
   "cell_type": "code",
   "execution_count": 6,
   "metadata": {
    "collapsed": true
   },
   "outputs": [],
   "source": [
    "val in$_subRef = SubRef()"
   ]
  },
  {
   "cell_type": "markdown",
   "metadata": {
    "nbpresent": {
     "id": "40c9258a-bbab-40d7-95ca-84b622b5951e"
    }
   },
   "source": [
    "Instantiate a `PublishSubject`. This stream of `TDAParams` instances represents the input of a `TDAMachine`. The `PublishSubject` listens to changes and sets these to the channel `\"ch_TDA_1\"` under the `\"params\"` key.\n",
    "\n",
    "*TODO: unsubscribe previous on re-evaluation*"
   ]
  },
  {
   "cell_type": "code",
   "execution_count": 7,
   "metadata": {
    "collapsed": false,
    "nbpresent": {
     "id": "53be8369-a4fb-4105-8e5b-808067019bb2"
    }
   },
   "outputs": [],
   "source": [
    "val in$ = PublishSubject[TDAParams]\n",
    "\n",
    "in$_subRef.update(in$.subscribe(p => channel(\"ch_TDA_1\").set(\"params\", p.toString)))"
   ]
  },
  {
   "cell_type": "markdown",
   "metadata": {
    "nbpresent": {
     "id": "0a444806-7064-47e9-89f3-ed1313a47c74"
    }
   },
   "source": [
    "Create an initial `TDAParams` instance. In the same cell, we submit the instance to the `PublishSubject`."
   ]
  },
  {
   "cell_type": "code",
   "execution_count": 59,
   "metadata": {
    "collapsed": false,
    "nbpresent": {
     "id": "4d567021-5b1f-4b0c-af20-c8c8f9ded5ab"
    }
   },
   "outputs": [],
   "source": [
    "val tdaParams =\n",
    "      TDAParams(\n",
    "        lens = TDALens(          \n",
    "          Filter(\"PCA\" :: 0 :: HNil, 16, 0.45),\n",
    "          Filter(\"PCA\" :: 1 :: HNil, 16, 0.45)),\n",
    "        clusteringParams = ClusteringParams(),\n",
    "        scaleSelection = histogram(12))\n",
    "\n",
    "in$.onNext(tdaParams)"
   ]
  },
  {
   "cell_type": "markdown",
   "metadata": {
    "collapsed": true,
    "nbpresent": {
     "id": "407e489d-0988-457e-a68b-5b13abe99c0d"
    }
   },
   "source": [
    "#### Inititalize rdd\n",
    "\n",
    "In this example, we are using the MNIST data set."
   ]
  },
  {
   "cell_type": "code",
   "execution_count": 9,
   "metadata": {
    "collapsed": false,
    "nbpresent": {
     "id": "f95081ee-5623-4d18-ac6f-24ee227e225e"
    }
   },
   "outputs": [],
   "source": [
    "import org.apache.spark.rdd.RDD\n",
    "import org.apache.commons.lang.StringUtils.trim\n",
    "import org.apache.spark.mllib.linalg.Vectors\n",
    "\n",
    "def readDenseData(file: String) = \n",
    "    sc.\n",
    "        textFile(file).\n",
    "        map(_.split(\",\").map(trim)).\n",
    "        zipWithIndex.\n",
    "        map{ case (a, idx) => dp(idx, Vectors.dense(a.map(_.toDouble))) }\n",
    "\n",
    "def readMnist(file: String): RDD[DataPoint] =\n",
    "    sc.\n",
    "      textFile(file).\n",
    "      map(s => {\n",
    "        val columns = s.split(\",\").map(trim).toList\n",
    "\n",
    "        columns match {\n",
    "          case cat :: rawFeatures =>\n",
    "            val nonZero =\n",
    "              rawFeatures.\n",
    "                map(_.toInt).\n",
    "                zipWithIndex.\n",
    "                filter{ case (v, idx) => v != 0 }.\n",
    "                map{ case (v, idx) => (idx, v.toDouble) }\n",
    "\n",
    "            val sparseFeatures = Vectors.sparse(rawFeatures.size, nonZero)\n",
    "\n",
    "            (cat, sparseFeatures)\n",
    "        }}).\n",
    "      zipWithIndex.\n",
    "      map {case ((cat, features), idx) => IndexedDataPoint(idx.toInt, features, Some(Map(\"cat\" -> cat)))}"
   ]
  },
  {
   "cell_type": "code",
   "execution_count": 10,
   "metadata": {
    "collapsed": false
   },
   "outputs": [],
   "source": [
    "val mnist_path = \"/Users/tmo/Work/batiskav/projects/plongeur/scala/plongeur-spark/src/test/resources/mnist/\"\n",
    "\n",
    "val mnist_train = mnist_path + \"mnist_train.csv\""
   ]
  },
  {
   "cell_type": "code",
   "execution_count": 11,
   "metadata": {
    "collapsed": false
   },
   "outputs": [],
   "source": [
    "val mnistRDD = readMnist(mnist_train)"
   ]
  },
  {
   "cell_type": "code",
   "execution_count": 12,
   "metadata": {
    "collapsed": false
   },
   "outputs": [],
   "source": [
    "val mnistSample5pctRDD = mnistRDD.sample(false, .05, 0l).cache"
   ]
  },
  {
   "cell_type": "code",
   "execution_count": 13,
   "metadata": {
    "collapsed": false
   },
   "outputs": [
    {
     "data": {
      "text/plain": [
       "3036"
      ]
     },
     "execution_count": 13,
     "metadata": {},
     "output_type": "execute_result"
    }
   ],
   "source": [
    "mnistSample5pctRDD.count"
   ]
  },
  {
   "cell_type": "code",
   "execution_count": 14,
   "metadata": {
    "collapsed": false
   },
   "outputs": [],
   "source": [
    "val ctx = TDAContext(sc, mnistSample5pctRDD)"
   ]
  },
  {
   "cell_type": "markdown",
   "metadata": {
    "nbpresent": {
     "id": "5f060023-6ac5-4d84-9e36-8bcf7e8a4710"
    }
   },
   "source": [
    "Turn a TDAResult into a data structure."
   ]
  },
  {
   "cell_type": "code",
   "execution_count": 25,
   "metadata": {
    "collapsed": false,
    "nbpresent": {
     "id": "4ee5b503-b74a-47c4-8f48-452d1f42e746"
    }
   },
   "outputs": [],
   "source": [
    "val r = scala.util.Random\n",
    "\n",
    "def format(result: TDAResult) = Map(\n",
    "    \"nodes\" -> result.clusters.map(c =>\n",
    "      Map(\n",
    "        \"id\"     -> c.id.toString,\n",
    "        \"label\"  -> c.id.toString,\n",
    "        \"size\"   -> c.dataPoints.size,\n",
    "        \"x\"      -> r.nextInt(100),\n",
    "        \"y\"      -> r.nextInt(100))),\n",
    "    \"edges\" -> result.edges.map(e => {\n",
    "      val (from, to) = e.toArray match {case Array(f, t) => (f, t)}\n",
    "\n",
    "      Map(\n",
    "        \"id\"     -> s\"$from--$to\",\n",
    "        \"source\" -> from.toString,\n",
    "        \"target\" -> to.toString)}))"
   ]
  },
  {
   "cell_type": "markdown",
   "metadata": {},
   "source": [
    "Run the machine, obtaining an `Observable` of `TDAResult` instances"
   ]
  },
  {
   "cell_type": "code",
   "execution_count": 18,
   "metadata": {
    "collapsed": false,
    "nbpresent": {
     "id": "b59014a4-e289-4011-b1ab-8667dd1c893f"
    }
   },
   "outputs": [],
   "source": [
    "val out$: Observable[(TDAParams, TDAResult)] = TDAMachine.run(ctx, in$)"
   ]
  },
  {
   "cell_type": "code",
   "execution_count": 19,
   "metadata": {
    "collapsed": true
   },
   "outputs": [],
   "source": [
    "val out$_subRef = SubRef()"
   ]
  },
  {
   "cell_type": "code",
   "execution_count": 26,
   "metadata": {
    "collapsed": false,
    "nbpresent": {
     "id": "8b43b0a5-55ee-4fdb-bcfc-4cca3df27a04"
    }
   },
   "outputs": [],
   "source": [
    "out$_subRef.update(\n",
    "    out$.subscribe(\n",
    "        onNext = (t) => t match {case (p, r) => channel(\"ch_TDA_1\").set(\"result\", format(r))},\n",
    "        onError = (e) => println(\"Error in TDA machine: \", e)))"
   ]
  },
  {
   "cell_type": "markdown",
   "metadata": {
    "collapsed": true,
    "nbpresent": {
     "id": "f329dd44-6902-4dc9-8a6a-77b00475a612"
    }
   },
   "source": [
    "#### Reactive inputs\n",
    "\n",
    "First, we set up a stream of updates to BASE TDAParams instance."
   ]
  },
  {
   "cell_type": "code",
   "execution_count": 21,
   "metadata": {
    "collapsed": false
   },
   "outputs": [],
   "source": [
    "val pipe$_subRef = SubRef()\n",
    "\n",
    "val nrBins$    = PublishSubject[Int]\n",
    "val overlap$   = PublishSubject[Percentage]\n",
    "val scaleBins$ = PublishSubject[Int]\n",
    "val collapse$  = PublishSubject[Boolean]"
   ]
  },
  {
   "cell_type": "code",
   "execution_count": 22,
   "metadata": {
    "collapsed": false
   },
   "outputs": [],
   "source": [
    "channel(\"ch_TDA_1\").watch(\"nrBins\",  (_: Any, v: Int) => nrBins$.onNext(v))\n",
    "channel(\"ch_TDA_1\").watch(\"overlap\", (_: Any, v: Int) => overlap$.onNext(BigDecimal(v) / 100))\n",
    "channel(\"ch_TDA_1\").watch(\"scaleBins\", (_: Any, v: Int) => scaleBins$.onNext(v))\n",
    "channel(\"ch_TDA_1\").watch(\"collapse\", (_: Any, v: Boolean) => collapse$.onNext(v))"
   ]
  },
  {
   "cell_type": "code",
   "execution_count": 23,
   "metadata": {
    "collapsed": false,
    "nbpresent": {
     "id": "f778886e-3cc7-40ad-80d9-6f65b5ffb2f6"
    }
   },
   "outputs": [],
   "source": [
    "import TDAParams._\n",
    "\n",
    "val BASE = \n",
    "    TDAParams(\n",
    "        lens = TDALens(          \n",
    "          Filter(\"PCA\" :: 0 :: HNil, 50, 0.5)),\n",
    "        clusteringParams = ClusteringParams(),\n",
    "        scaleSelection = histogram(50),\n",
    "        collapseDuplicateClusters = false)\n",
    "\n",
    "val params$ =\n",
    "    List(\n",
    "        nrBins$.map(v => setFilterNrBins(0, v)),\n",
    "        overlap$.map(v => setFilterOverlap(0, v)),\n",
    "        scaleBins$.map(v => setHistogramScaleSelectionNrBins(v)),\n",
    "        collapse$.map(v => (params: TDAParams) => params.copy(collapseDuplicateClusters = v))).\n",
    "    reduce(_ merge _).\n",
    "    scan(BASE)((params, fn) => fn(params))\n",
    "\n",
    "pipe$_subRef.update(params$.subscribe(in$))\n",
    "\n",
    "channel(\"ch_TDA_1\").set(\"nrBins\", BASE.lens.filters(0).nrBins)\n",
    "channel(\"ch_TDA_1\").set(\"overlap\", (BASE.lens.filters(0).overlap * 100).toInt)\n",
    "channel(\"ch_TDA_1\").set(\"scaleBins\", 50)\n",
    "channel(\"ch_TDA_1\").set(\"collapse\", BASE.collapseDuplicateClusters)"
   ]
  },
  {
   "cell_type": "markdown",
   "metadata": {
    "nbpresent": {
     "id": "651ad0df-3a86-4f73-91c6-2efe13920619"
    }
   },
   "source": [
    "We create two slider widgets that provide the inputs for the `nrBins$` and `overlap$` Observables."
   ]
  },
  {
   "cell_type": "code",
   "execution_count": 24,
   "metadata": {
    "collapsed": false,
    "nbpresent": {
     "id": "22275b6c-93f6-4090-82e7-2f7721a023e3"
    }
   },
   "outputs": [
    {
     "data": {
      "text/html": [
       "<template is='urth-core-bind' channel='ch_TDA_1'>  \n",
       "    <table style=\"border-style: hidden;\">\n",
       "        <tr style=\"border-style: hidden;\">\n",
       "            <th style=\"border-style: hidden;\">nr of cover bins</th>\n",
       "            <td style=\"border-style: hidden;\">\n",
       "                <paper-slider min=\"0\" max=\"100\" step=\"1\" value=\"{{nrBins}}\" style=\"width: 500px;\"></paper-slider>\n",
       "            </td>\n",
       "            <td style=\"border-style: hidden;\">[[nrBins]]</td>\n",
       "        </tr>\n",
       "        <tr style=\"border-style: hidden;\">\n",
       "            <th style=\"border-style: hidden;\">overlap</th>\n",
       "            <td style=\"border-style: hidden;\">\n",
       "                <paper-slider min=\"0\" max=\"75\" step=\"1\" value=\"{{overlap}}\" style=\"width: 500px;\"></paper-slider>\n",
       "            </td>\n",
       "            <td style=\"border-style: hidden;\">[[overlap]]%</td>\n",
       "        </tr>\n",
       "        <tr style=\"border-style: hidden;\">\n",
       "            <th style=\"border-style: hidden;\">nr of scale bins</th>\n",
       "            <td style=\"border-style: hidden;\">\n",
       "                <paper-slider min=\"5\" max=\"150\" step=\"1\" value=\"{{scaleBins}}\" style=\"width: 500px;\"></paper-slider>\n",
       "            </td>\n",
       "            <td style=\"border-style: hidden;\">[[scaleBins]]</td>\n",
       "        </tr>\n",
       "        <tr style=\"border-style: hidden;\">\n",
       "            <th style=\"border-style: hidden;\">collapse duplicates</th>\n",
       "            <td style=\"border-style: hidden;\">\n",
       "                <paper-toggle-button checked=\"{{collapse}}\"/>\n",
       "            </td>            \n",
       "        </tr>\n",
       "    </table>        \n",
       "</template>"
      ]
     },
     "execution_count": 24,
     "metadata": {},
     "output_type": "execute_result"
    }
   ],
   "source": [
    "%%html\n",
    "<template is='urth-core-bind' channel='ch_TDA_1'>  \n",
    "    <table style=\"border-style: hidden;\">\n",
    "        <tr style=\"border-style: hidden;\">\n",
    "            <th style=\"border-style: hidden;\">nr of cover bins</th>\n",
    "            <td style=\"border-style: hidden;\">\n",
    "                <paper-slider min=\"0\" max=\"100\" step=\"1\" value=\"{{nrBins}}\" style=\"width: 500px;\"></paper-slider>\n",
    "            </td>\n",
    "            <td style=\"border-style: hidden;\">[[nrBins]]</td>\n",
    "        </tr>\n",
    "        <tr style=\"border-style: hidden;\">\n",
    "            <th style=\"border-style: hidden;\">overlap</th>\n",
    "            <td style=\"border-style: hidden;\">\n",
    "                <paper-slider min=\"0\" max=\"75\" step=\"1\" value=\"{{overlap}}\" style=\"width: 500px;\"></paper-slider>\n",
    "            </td>\n",
    "            <td style=\"border-style: hidden;\">[[overlap]]%</td>\n",
    "        </tr>\n",
    "        <tr style=\"border-style: hidden;\">\n",
    "            <th style=\"border-style: hidden;\">nr of scale bins</th>\n",
    "            <td style=\"border-style: hidden;\">\n",
    "                <paper-slider min=\"5\" max=\"150\" step=\"1\" value=\"{{scaleBins}}\" style=\"width: 500px;\"></paper-slider>\n",
    "            </td>\n",
    "            <td style=\"border-style: hidden;\">[[scaleBins]]</td>\n",
    "        </tr>\n",
    "        <tr style=\"border-style: hidden;\">\n",
    "            <th style=\"border-style: hidden;\">collapse duplicates</th>\n",
    "            <td style=\"border-style: hidden;\">\n",
    "                <paper-toggle-button checked=\"{{collapse}}\"/>\n",
    "            </td>            \n",
    "        </tr>\n",
    "    </table>        \n",
    "</template>"
   ]
  },
  {
   "cell_type": "code",
   "execution_count": 23,
   "metadata": {
    "collapsed": false,
    "nbpresent": {
     "id": "f8333bd9-c701-468f-b470-caa540bb0fb2"
    },
    "scrolled": false
   },
   "outputs": [
    {
     "data": {
      "text/html": [
       "<template is='urth-core-bind' channel='ch_TDA_1'>    \n",
       "    <plongeur-graph data=\"{{result}}\"></plongeur-graph>\n",
       "</template>"
      ]
     },
     "execution_count": 23,
     "metadata": {},
     "output_type": "execute_result"
    }
   ],
   "source": [
    "%%html\n",
    "<template is='urth-core-bind' channel='ch_TDA_1'>    \n",
    "    <plongeur-graph data=\"{{result}}\"></plongeur-graph>\n",
    "</template>"
   ]
  },
  {
   "cell_type": "code",
   "execution_count": 24,
   "metadata": {
    "collapsed": false,
    "nbpresent": {
     "id": "6c896ce2-45c9-44fb-896e-d2144d14e08e"
    }
   },
   "outputs": [
    {
     "data": {
      "text/html": [
       "<template is='urth-core-bind' channel='ch_TDA_1'>  \n",
       "    <div style='background: #FFB; padding: 10px;'>\n",
       "        <span style='font-family: \"Courier\"'>[[params]]</span>\n",
       "    </div>\n",
       "</template>"
      ]
     },
     "execution_count": 24,
     "metadata": {},
     "output_type": "execute_result"
    }
   ],
   "source": [
    "%%html\n",
    "<template is='urth-core-bind' channel='ch_TDA_1'>  \n",
    "    <div style='background: #FFB; padding: 10px;'>\n",
    "        <span style='font-family: \"Courier\"'>[[params]]</span>\n",
    "    </div>\n",
    "</template>"
   ]
  },
  {
   "cell_type": "code",
   "execution_count": null,
   "metadata": {
    "collapsed": true
   },
   "outputs": [],
   "source": []
  },
  {
   "cell_type": "code",
   "execution_count": null,
   "metadata": {
    "collapsed": true
   },
   "outputs": [],
   "source": []
  }
 ],
 "metadata": {
  "anaconda-cloud": {},
  "celltoolbar": "Raw Cell Format",
  "kernelspec": {
   "display_name": "Apache Toree - Scala",
   "language": "scala",
   "name": "apache_toree_scala"
  },
  "language_info": {
   "name": "scala",
   "version": "2.10.4"
  },
  "widgets": {
   "state": {
    "A3A43202F9E4405985AFDA2C9CCEADDC": {
     "views": []
    }
   },
   "version": "1.1.2"
  }
 },
 "nbformat": 4,
 "nbformat_minor": 0
}
