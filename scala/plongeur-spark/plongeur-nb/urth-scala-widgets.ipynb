{
 "cells": [
  {
   "cell_type": "markdown",
   "metadata": {},
   "source": [
    "### Using Urth Widgets in Scala"
   ]
  },
  {
   "cell_type": "code",
   "execution_count": 12,
   "metadata": {
    "collapsed": false
   },
   "outputs": [
    {
     "data": {
      "text/html": [
       "<urth-help/>"
      ]
     },
     "execution_count": 12,
     "metadata": {},
     "output_type": "execute_result"
    }
   ],
   "source": [
    "%%HTML\n",
    "<urth-help/>"
   ]
  },
  {
   "cell_type": "markdown",
   "metadata": {},
   "source": [
    "Add, import and initialize the widget system:"
   ]
  },
  {
   "cell_type": "code",
   "execution_count": 13,
   "metadata": {
    "collapsed": false
   },
   "outputs": [
    {
     "name": "stdout",
     "output_type": "stream",
     "text": [
      "Using cached version of urth-widgets.jar\n"
     ]
    }
   ],
   "source": [
    "// modify to IP and Port of this notebook server\n",
    "%addjar http://localhost:8888/nbextensions/declarativewidgets/urth-widgets.jar"
   ]
  },
  {
   "cell_type": "code",
   "execution_count": 14,
   "metadata": {
    "collapsed": false
   },
   "outputs": [],
   "source": [
    "import declarativewidgets._\n",
    "initWidgets"
   ]
  },
  {
   "cell_type": "markdown",
   "metadata": {},
   "source": [
    "Import Polymer elements:"
   ]
  },
  {
   "cell_type": "code",
   "execution_count": 15,
   "metadata": {
    "collapsed": false
   },
   "outputs": [
    {
     "data": {
      "text/html": [
       "<link rel='import' href='urth_components/paper-slider/paper-slider.html' \n",
       "        is='urth-core-import' package='PolymerElements/paper-slider'>"
      ]
     },
     "execution_count": 15,
     "metadata": {},
     "output_type": "execute_result"
    }
   ],
   "source": [
    "%%html\n",
    "<link rel='import' href='urth_components/paper-slider/paper-slider.html' \n",
    "        is='urth-core-import' package='PolymerElements/paper-slider'>"
   ]
  },
  {
   "cell_type": "markdown",
   "metadata": {},
   "source": [
    "### Function widget"
   ]
  },
  {
   "cell_type": "markdown",
   "metadata": {},
   "source": [
    "#### Def"
   ]
  },
  {
   "cell_type": "code",
   "execution_count": 16,
   "metadata": {
    "collapsed": true
   },
   "outputs": [],
   "source": [
    "def math(x: Int, y: Double = 50): Double = x * y"
   ]
  },
  {
   "cell_type": "code",
   "execution_count": 17,
   "metadata": {
    "collapsed": false
   },
   "outputs": [
    {
     "data": {
      "text/html": [
       "<template is=\"dom-bind\">\n",
       "<urth-core-function ref=\"math\" arg-x=\"{{x}}\" arg-y=\"{{y}}\" result=\"{{res}}\" auto></urth-core-function>\n",
       "    <label>x:</label><paper-slider min=\"10\" max=\"100\" step=\"1\" value=\"{{x}}\"></paper-slider><span>{{x}}</span><br>\n",
       "    <label>y:</label><paper-slider min=\"1\" max=\"100\" step=\"1\" value=\"{{y}}\"></paper-slider><span>{{y}}</span><br>\n",
       "Result: <span>{{res}}</span>\n",
       "</template>"
      ]
     },
     "execution_count": 17,
     "metadata": {},
     "output_type": "execute_result"
    }
   ],
   "source": [
    "%%html\n",
    "<template is=\"dom-bind\">\n",
    "<urth-core-function ref=\"math\" arg-x=\"{{x}}\" arg-y=\"{{y}}\" result=\"{{res}}\" auto></urth-core-function>\n",
    "    <label>x:</label><paper-slider min=\"10\" max=\"100\" step=\"1\" value=\"{{x}}\"></paper-slider><span>{{x}}</span><br>\n",
    "    <label>y:</label><paper-slider min=\"1\" max=\"100\" step=\"1\" value=\"{{y}}\"></paper-slider><span>{{y}}</span><br>\n",
    "Result: <span>{{res}}</span>\n",
    "</template>"
   ]
  },
  {
   "cell_type": "markdown",
   "metadata": {},
   "source": [
    "#### Val"
   ]
  },
  {
   "cell_type": "code",
   "execution_count": 18,
   "metadata": {
    "collapsed": true
   },
   "outputs": [],
   "source": [
    "val fun = (x: Int,  y: Double) => x * y"
   ]
  },
  {
   "cell_type": "code",
   "execution_count": 19,
   "metadata": {
    "collapsed": false
   },
   "outputs": [
    {
     "data": {
      "text/html": [
       "<template is=\"dom-bind\">\n",
       "<urth-core-function id=\"test\" ref=\"fun\" arg-x=\"{{x}}\" arg-y=\"{{y}}\" result='{{res}}' auto></urth-core-function>\n",
       "    <label>x:</label><paper-slider min=\"10\" max=\"100\" step=\"1\" value=\"{{x}}\"></paper-slider><span>{{x}}</span><br>\n",
       "    <label>y:</label><paper-slider min=\"1\" max=\"10\" step=\"0.1\" value=\"{{y}}\"></paper-slider><span>{{y}}</span><br>\n",
       "    Result: <span>{{res}}</span>\n",
       "</template>"
      ]
     },
     "execution_count": 19,
     "metadata": {},
     "output_type": "execute_result"
    }
   ],
   "source": [
    "%%html\n",
    "<template is=\"dom-bind\">\n",
    "<urth-core-function id=\"test\" ref=\"fun\" arg-x=\"{{x}}\" arg-y=\"{{y}}\" result='{{res}}' auto></urth-core-function>\n",
    "    <label>x:</label><paper-slider min=\"10\" max=\"100\" step=\"1\" value=\"{{x}}\"></paper-slider><span>{{x}}</span><br>\n",
    "    <label>y:</label><paper-slider min=\"1\" max=\"10\" step=\"0.1\" value=\"{{y}}\"></paper-slider><span>{{y}}</span><br>\n",
    "    Result: <span>{{res}}</span>\n",
    "</template>"
   ]
  },
  {
   "cell_type": "markdown",
   "metadata": {},
   "source": [
    "Note that the function below will not get automatically invoked after the ```<urth-core-function>``` is created since the arguments are not set:"
   ]
  },
  {
   "cell_type": "code",
   "execution_count": 20,
   "metadata": {
    "collapsed": true
   },
   "outputs": [],
   "source": [
    "def moreMath(x: Int, y: Double) = x * y"
   ]
  },
  {
   "cell_type": "code",
   "execution_count": 21,
   "metadata": {
    "collapsed": false
   },
   "outputs": [
    {
     "data": {
      "text/html": [
       "<template is=\"dom-bind\">\n",
       "    <urth-core-function ref=\"moreMath\" args=\"{{args}}\" result=\"{{res}}\" auto></urth-core-function>\n",
       "    x: <input type=\"text\" value=\"{{args.x::change}}\"></input>\n",
       "    y: <input type=\"text\" value=\"{{args.y::change}}\"></input>\n",
       "    Result: <span>{{res}}</span>\n",
       "</template>"
      ]
     },
     "execution_count": 21,
     "metadata": {},
     "output_type": "execute_result"
    }
   ],
   "source": [
    "%%html\n",
    "<template is=\"dom-bind\">\n",
    "    <urth-core-function ref=\"moreMath\" args=\"{{args}}\" result=\"{{res}}\" auto></urth-core-function>\n",
    "    x: <input type=\"text\" value=\"{{args.x::change}}\"></input>\n",
    "    y: <input type=\"text\" value=\"{{args.y::change}}\"></input>\n",
    "    Result: <span>{{res}}</span>\n",
    "</template>"
   ]
  },
  {
   "cell_type": "markdown",
   "metadata": {},
   "source": [
    "#### DataFrame return value"
   ]
  },
  {
   "cell_type": "code",
   "execution_count": 22,
   "metadata": {
    "collapsed": true
   },
   "outputs": [],
   "source": [
    "val sqlContext = new org.apache.spark.sql.SQLContext(sc)\n",
    "import sqlContext.implicits._\n",
    "import org.apache.spark.sql.DataFrame\n",
    "\n",
    "def dfFunc(x: Int): DataFrame = {\n",
    "    val seq = (0 until x).map(i => (i, i)).toSeq\n",
    "    sqlContext.createDataFrame(seq)\n",
    "}"
   ]
  },
  {
   "cell_type": "code",
   "execution_count": 23,
   "metadata": {
    "collapsed": false
   },
   "outputs": [
    {
     "data": {
      "text/html": [
       "<template is=\"dom-bind\">\n",
       "<urth-core-function ref=\"dfFunc\" arg-x=\"{{x}}\" result='{{res}}' limit=\"10\" auto></urth-core-function>\n",
       "    <label>x:</label><paper-slider min=\"0\" max=\"20\" step=\"1\" value=\"{{x}}\"></paper-slider><span>{{x}}</span><br>\n",
       "    <label>columns:</label><span>{{res.columns}}</span> <br/>\n",
       "    <label>index:</label><span>{{res.index}}</span> <br/>\n",
       "    <label>data:</label><span>{{res.data}}</span>\n",
       "</template>"
      ]
     },
     "execution_count": 23,
     "metadata": {},
     "output_type": "execute_result"
    }
   ],
   "source": [
    "%%html\n",
    "<template is=\"dom-bind\">\n",
    "<urth-core-function ref=\"dfFunc\" arg-x=\"{{x}}\" result='{{res}}' limit=\"10\" auto></urth-core-function>\n",
    "    <label>x:</label><paper-slider min=\"0\" max=\"20\" step=\"1\" value=\"{{x}}\"></paper-slider><span>{{x}}</span><br>\n",
    "    <label>columns:</label><span>{{res.columns}}</span> <br/>\n",
    "    <label>index:</label><span>{{res.index}}</span> <br/>\n",
    "    <label>data:</label><span>{{res.data}}</span>\n",
    "</template>"
   ]
  },
  {
   "cell_type": "markdown",
   "metadata": {},
   "source": [
    "### DataFrame widget"
   ]
  },
  {
   "cell_type": "code",
   "execution_count": 24,
   "metadata": {
    "collapsed": true
   },
   "outputs": [],
   "source": [
    "val seq = (0 until 10000).map(i => (i, i)).toSeq\n",
    "val largeDataFrame = sqlContext.createDataFrame(seq)"
   ]
  },
  {
   "cell_type": "code",
   "execution_count": 25,
   "metadata": {
    "collapsed": false
   },
   "outputs": [
    {
     "data": {
      "text/html": [
       "<template is=\"dom-bind\">\n",
       "    <urth-core-dataframe ref=\"largeDataFrame\" limit=\"10\" value=\"{{x}}\"></urth-core-dataframe>\n",
       "    <p>Columns: <span>{{x.columns}}</span></p>\n",
       "    <p>Index: <span>{{x.index}}</span></p>\n",
       "    <p>Data:</p>\n",
       "    <template is=\"dom-repeat\" items=\"{{x.data}}\">\n",
       "        <span>{{item}}</span><br/>\n",
       "    </template>\n",
       "</template>"
      ]
     },
     "execution_count": 25,
     "metadata": {},
     "output_type": "execute_result"
    }
   ],
   "source": [
    "%%html\n",
    "<template is=\"dom-bind\">\n",
    "    <urth-core-dataframe ref=\"largeDataFrame\" limit=\"10\" value=\"{{x}}\"></urth-core-dataframe>\n",
    "    <p>Columns: <span>{{x.columns}}</span></p>\n",
    "    <p>Index: <span>{{x.index}}</span></p>\n",
    "    <p>Data:</p>\n",
    "    <template is=\"dom-repeat\" items=\"{{x.data}}\">\n",
    "        <span>{{item}}</span><br/>\n",
    "    </template>\n",
    "</template>"
   ]
  },
  {
   "cell_type": "code",
   "execution_count": 26,
   "metadata": {
    "collapsed": true
   },
   "outputs": [],
   "source": [
    "case class Contact(firstname: String, lastname: String, title: String, email: String, phone: String, web: String)"
   ]
  },
  {
   "cell_type": "code",
   "execution_count": 27,
   "metadata": {
    "collapsed": true
   },
   "outputs": [],
   "source": [
    "val contacts = sqlContext.createDataFrame(Seq(\n",
    "    Contact(\"Jane\", \"Doe\",\"Scala Developer\", \"jane@ibm.com\", \"123-432-5431\", \"http://www.ibm.com/jane\"), \n",
    "    Contact(\"John\", \"Doe\",\"Spark Engineer\", \"john@ibm.com\", \"143-421-5411\", \"http://www.ibm.com/john\"),\n",
    "    Contact(\"Joe\", \"Smith\",\"Product Manager\", \"joe@ibm.com\", \"123-732-8421\", \"http://www.ibm.com/joe\")))"
   ]
  },
  {
   "cell_type": "code",
   "execution_count": 28,
   "metadata": {
    "collapsed": false
   },
   "outputs": [
    {
     "data": {
      "text/html": [
       "<template is=\"dom-bind\">\n",
       "    <urth-core-dataframe ref=\"contacts\" value=\"{{x}}\" auto></urth-core-dataframe>\n",
       "    \n",
       "    <template is=\"dom-repeat\" items=\"{{x.data}}\">\n",
       "      <div class=\"bcard\">\n",
       "        <div class=\"info\">\n",
       "            <div class=\"line full-name\"><span>{{item.0}}</span> <span>{{item.1}}</span></div>\n",
       "            <span class=\"line title\">{{item.2}}</span>\n",
       "            <span class=\"line phone-number\">{{item.3}}</span>\n",
       "            <span class=\"line email\">{{item.4}}</span>\n",
       "            <span class=\"line website\">{{item.5}}</span>\n",
       "        </div>\n",
       "        <div class=\"logo\"></div>\n",
       "      </div>\n",
       "    </template>\n",
       "</template>"
      ]
     },
     "execution_count": 28,
     "metadata": {},
     "output_type": "execute_result"
    }
   ],
   "source": [
    "%%html\n",
    "<template is=\"dom-bind\">\n",
    "    <urth-core-dataframe ref=\"contacts\" value=\"{{x}}\" auto></urth-core-dataframe>\n",
    "    \n",
    "    <template is=\"dom-repeat\" items=\"{{x.data}}\">\n",
    "      <div class=\"bcard\">\n",
    "        <div class=\"info\">\n",
    "            <div class=\"line full-name\"><span>{{item.0}}</span> <span>{{item.1}}</span></div>\n",
    "            <span class=\"line title\">{{item.2}}</span>\n",
    "            <span class=\"line phone-number\">{{item.3}}</span>\n",
    "            <span class=\"line email\">{{item.4}}</span>\n",
    "            <span class=\"line website\">{{item.5}}</span>\n",
    "        </div>\n",
    "        <div class=\"logo\"></div>\n",
    "      </div>\n",
    "    </template>\n",
    "</template>"
   ]
  },
  {
   "cell_type": "markdown",
   "metadata": {},
   "source": [
    "### Channels API\n",
    "\n",
    "Interact with `urth-core-bind` `channel` variables using the following API:"
   ]
  },
  {
   "cell_type": "markdown",
   "metadata": {},
   "source": [
    "#### Set Item"
   ]
  },
  {
   "cell_type": "code",
   "execution_count": 29,
   "metadata": {
    "collapsed": false
   },
   "outputs": [
    {
     "data": {
      "text/plain": [
       "declarativewidgets.WidgetChannels$@112c5694"
      ]
     },
     "execution_count": 29,
     "metadata": {},
     "output_type": "execute_result"
    }
   ],
   "source": [
    "declarativewidgets.WidgetChannels"
   ]
  },
  {
   "cell_type": "code",
   "execution_count": 30,
   "metadata": {
    "collapsed": false
   },
   "outputs": [
    {
     "data": {
      "text/html": [
       "<template is='urth-core-bind' channel='a'>\n",
       "    <div>Hello from <span>{{user}}</span></div>\n",
       "    Name: <input value='{{user::input}}'></input>\n",
       "</template>"
      ]
     },
     "execution_count": 30,
     "metadata": {},
     "output_type": "execute_result"
    }
   ],
   "source": [
    "%%html\n",
    "<template is='urth-core-bind' channel='a'>\n",
    "    <div>Hello from <span>{{user}}</span></div>\n",
    "    Name: <input value='{{user::input}}'></input>\n",
    "</template>"
   ]
  },
  {
   "cell_type": "code",
   "execution_count": 31,
   "metadata": {
    "collapsed": false
   },
   "outputs": [
    {
     "data": {
      "text/html": [
       "<template is='urth-core-bind' channel='a'>\n",
       "    <div>Hello again from <span>[[user]]</span></div>    \n",
       "</template>"
      ]
     },
     "execution_count": 31,
     "metadata": {},
     "output_type": "execute_result"
    }
   ],
   "source": [
    "%%html\n",
    "<template is='urth-core-bind' channel='a'>\n",
    "    <div>Hello again from <span>[[user]]</span></div>    \n",
    "</template>"
   ]
  },
  {
   "cell_type": "code",
   "execution_count": 32,
   "metadata": {
    "collapsed": true
   },
   "outputs": [],
   "source": [
    "import declarativewidgets.WidgetChannels.channel"
   ]
  },
  {
   "cell_type": "code",
   "execution_count": 33,
   "metadata": {
    "collapsed": false
   },
   "outputs": [
    {
     "data": {
      "text/plain": [
       "Channel(org.apache.toree.comm.KernelCommWriter@7df30012,a)"
      ]
     },
     "execution_count": 33,
     "metadata": {},
     "output_type": "execute_result"
    }
   ],
   "source": [
    "channel(\"a\")"
   ]
  },
  {
   "cell_type": "code",
   "execution_count": 34,
   "metadata": {
    "collapsed": false
   },
   "outputs": [],
   "source": [
    "channel(\"a\").set(\"user\", \"tst\")"
   ]
  },
  {
   "cell_type": "code",
   "execution_count": 35,
   "metadata": {
    "collapsed": false
   },
   "outputs": [
    {
     "data": {
      "text/html": [
       "<template is='urth-core-bind' channel='a'>\n",
       "    <div>Hello again from <span>{{user}}</span></div>    \n",
       "</template>"
      ]
     },
     "execution_count": 35,
     "metadata": {},
     "output_type": "execute_result"
    }
   ],
   "source": [
    "%%html\n",
    "<template is='urth-core-bind' channel='a'>\n",
    "    <div>Hello again from <span>{{user}}</span></div>    \n",
    "</template>"
   ]
  },
  {
   "cell_type": "markdown",
   "metadata": {},
   "source": [
    "#### Watch Item"
   ]
  },
  {
   "cell_type": "code",
   "execution_count": 23,
   "metadata": {
    "collapsed": false
   },
   "outputs": [
    {
     "data": {
      "text/html": [
       "<template is='urth-core-bind' channel='b'>\n",
       "    <p><span>{{x}}</span></p>\n",
       "    <span>{{y}}</span>\n",
       "</template>"
      ]
     },
     "execution_count": 23,
     "metadata": {},
     "output_type": "execute_result"
    }
   ],
   "source": [
    "%%html\n",
    "<template is='urth-core-bind' channel='b'>\n",
    "    <p><span>{{x}}</span></p>\n",
    "    <span>{{y}}</span>\n",
    "</template>"
   ]
  },
  {
   "cell_type": "code",
   "execution_count": 24,
   "metadata": {
    "collapsed": false
   },
   "outputs": [],
   "source": [
    "channel(\"b\").set(\"x\", \"mina\")"
   ]
  },
  {
   "cell_type": "markdown",
   "metadata": {},
   "source": [
    "Now we set up a watch handler for variable `x` on channel `b`. \n",
    "\n",
    "Note that the first argument is of type `Option`, since an `oldVal` may not be present."
   ]
  },
  {
   "cell_type": "code",
   "execution_count": 55,
   "metadata": {
    "collapsed": true
   },
   "outputs": [],
   "source": [
    "val handler = (oldVal: Option[String], newVal: String) => \n",
    "    channel(\"b\").set(\"y\", s\"Hello from the kernel! old: ${oldVal.getOrElse(\"\")}, new: $newVal\")"
   ]
  },
  {
   "cell_type": "code",
   "execution_count": 56,
   "metadata": {
    "collapsed": false
   },
   "outputs": [
    {
     "name": "stderr",
     "output_type": "stream",
     "text": [
      "The `urth` package name is deprecated. Will be removed in version 0.7.0. Use 'declarativewidgets' instead.\n"
     ]
    }
   ],
   "source": [
    "channel(\"b\").watch(\"x\", handler)"
   ]
  },
  {
   "cell_type": "code",
   "execution_count": 57,
   "metadata": {
    "collapsed": false
   },
   "outputs": [
    {
     "name": "stderr",
     "output_type": "stream",
     "text": [
      "The `urth` package name is deprecated. Will be removed in version 0.7.0. Use 'declarativewidgets' instead.\n"
     ]
    }
   ],
   "source": [
    "channel(\"b\").set(\"x\", \"dean\")"
   ]
  },
  {
   "cell_type": "markdown",
   "metadata": {},
   "source": [
    "Handlers can be typed. `Seq` corresponds to JavaScript arrays and `Map` corresponds to JavaScript object.\n",
    "\n",
    "This example shows a handler that uses `Seq`:"
   ]
  },
  {
   "cell_type": "code",
   "execution_count": 42,
   "metadata": {
    "collapsed": false
   },
   "outputs": [
    {
     "data": {
      "text/html": [
       "<template is='urth-core-bind' channel='c'>\n",
       "    <p><span>{{x}}</span></p>\n",
       "    <span>{{y}}</span>\n",
       "</template>"
      ]
     },
     "execution_count": 42,
     "metadata": {},
     "output_type": "execute_result"
    }
   ],
   "source": [
    "%%html\n",
    "<template is='urth-core-bind' channel='c'>\n",
    "    <p><span>{{x}}</span></p>\n",
    "    <span>{{y}}</span>\n",
    "</template>"
   ]
  },
  {
   "cell_type": "code",
   "execution_count": 43,
   "metadata": {
    "collapsed": false
   },
   "outputs": [
    {
     "name": "stderr",
     "output_type": "stream",
     "text": [
      "The `urth` package name is deprecated. Will be removed in version 0.7.0. Use 'declarativewidgets' instead.\n"
     ]
    }
   ],
   "source": [
    "channel(\"c\").set(\"x\", List(0))"
   ]
  },
  {
   "cell_type": "code",
   "execution_count": 44,
   "metadata": {
    "collapsed": true
   },
   "outputs": [],
   "source": [
    "val handler = (oldVal: Option[Seq[Int]], newVal: Seq[Int]) => \n",
    "    channel(\"c\").set(\"y\", s\"Hello from the kernel! old: ${oldVal.getOrElse(None)}, new: $newVal\")"
   ]
  },
  {
   "cell_type": "code",
   "execution_count": 45,
   "metadata": {
    "collapsed": false
   },
   "outputs": [
    {
     "name": "stderr",
     "output_type": "stream",
     "text": [
      "The `urth` package name is deprecated. Will be removed in version 0.7.0. Use 'declarativewidgets' instead.\n"
     ]
    }
   ],
   "source": [
    "channel(\"c\").watch(\"x\", handler)"
   ]
  },
  {
   "cell_type": "code",
   "execution_count": 46,
   "metadata": {
    "collapsed": false
   },
   "outputs": [
    {
     "name": "stderr",
     "output_type": "stream",
     "text": [
      "The `urth` package name is deprecated. Will be removed in version 0.7.0. Use 'declarativewidgets' instead.\n"
     ]
    }
   ],
   "source": [
    "channel(\"c\").set(\"x\", List(0, 1, 2))"
   ]
  },
  {
   "cell_type": "code",
   "execution_count": null,
   "metadata": {
    "collapsed": true
   },
   "outputs": [],
   "source": []
  }
 ],
 "metadata": {
  "kernelspec": {
   "display_name": "Apache Toree - Scala",
   "language": "scala",
   "name": "apache_toree_scala"
  },
  "language_info": {
   "name": "scala",
   "version": "2.10.4"
  },
  "widgets": {
   "state": {
    "4067BAAB67854D7F8CF367403B399684": {
     "views": []
    },
    "4D126114AFDF49A680B6E6418C6EC9C3": {
     "views": []
    },
    "5693FCBA3C5948E588242CDFCF2E43AE": {
     "views": []
    },
    "5AB275C80DAA445AACDA33126E4CD887": {
     "views": []
    },
    "92E62DB36701409585FCD1798495B9D5": {
     "views": []
    },
    "A85EC21463404E308B46E8988B5FFE79": {
     "views": []
    },
    "ADBBB44184E044428383555FC812CB61": {
     "views": []
    },
    "CD458FA6FB26461A86D5A33A73ABDE6B": {
     "views": []
    },
    "D1BAF639C7BF45CD8F45A8B2760D82E9": {
     "views": []
    },
    "DE907180061F4E049F25E35B94367DA8": {
     "views": []
    },
    "F3D1789FF6374EE28F7755DB5E520EF0": {
     "views": []
    }
   },
   "version": "1.1.2"
  }
 },
 "nbformat": 4,
 "nbformat_minor": 0
}
