{
 "cells": [
  {
   "cell_type": "markdown",
   "metadata": {},
   "source": [
    "#### Maven dependencies"
   ]
  },
  {
   "cell_type": "code",
   "execution_count": 1,
   "metadata": {
    "collapsed": false,
    "scrolled": true
   },
   "outputs": [
    {
     "name": "stdout",
     "output_type": "stream",
     "text": [
      "Marking org.apache.spark:spark-mllib_2.10:1.6.2 for download\n",
      "Preparing to fetch from:\n",
      "-> file:/var/folders/zz/zyxvpxvq6csfxvn_n0000000000000/T/toree_add_deps3032159913246247966/\n",
      "-> https://repo1.maven.org/maven2\n",
      "-> New file at /var/folders/zz/zyxvpxvq6csfxvn_n0000000000000/T/toree_add_deps3032159913246247966/https/repo1.maven.org/maven2/org/apache/spark/spark-mllib_2.10/1.6.2/spark-mllib_2.10-1.6.2.jar\n",
      "Marking com.github.haifengl:smile-core:1.1.0 for download\n",
      "Preparing to fetch from:\n",
      "-> file:/var/folders/zz/zyxvpxvq6csfxvn_n0000000000000/T/toree_add_deps3032159913246247966/\n",
      "-> https://repo1.maven.org/maven2\n",
      "-> New file at /var/folders/zz/zyxvpxvq6csfxvn_n0000000000000/T/toree_add_deps3032159913246247966/https/repo1.maven.org/maven2/com/github/haifengl/smile-graph/1.1.0/smile-graph-1.1.0.jar\n",
      "-> New file at /var/folders/zz/zyxvpxvq6csfxvn_n0000000000000/T/toree_add_deps3032159913246247966/https/repo1.maven.org/maven2/com/github/haifengl/smile-data/1.1.0/smile-data-1.1.0.jar\n",
      "-> New file at /var/folders/zz/zyxvpxvq6csfxvn_n0000000000000/T/toree_add_deps3032159913246247966/https/repo1.maven.org/maven2/com/github/haifengl/smile-core/1.1.0/smile-core-1.1.0.jar\n",
      "-> New file at /var/folders/zz/zyxvpxvq6csfxvn_n0000000000000/T/toree_add_deps3032159913246247966/https/repo1.maven.org/maven2/com/github/haifengl/smile-math/1.1.0/smile-math-1.1.0.jar\n",
      "Marking io.reactivex:rxscala_2.10:0.26.1 for download\n",
      "Preparing to fetch from:\n",
      "-> file:/var/folders/zz/zyxvpxvq6csfxvn_n0000000000000/T/toree_add_deps3032159913246247966/\n",
      "-> https://repo1.maven.org/maven2\n",
      "-> New file at /var/folders/zz/zyxvpxvq6csfxvn_n0000000000000/T/toree_add_deps3032159913246247966/https/repo1.maven.org/maven2/io/reactivex/rxscala_2.10/0.26.1/rxscala_2.10-0.26.1.jar\n",
      "-> New file at /var/folders/zz/zyxvpxvq6csfxvn_n0000000000000/T/toree_add_deps3032159913246247966/https/repo1.maven.org/maven2/io/reactivex/rxjava/1.1.1/rxjava-1.1.1.jar\n",
      "Marking com.chuusai:shapeless_2.10:2.3.0 for download\n",
      "Preparing to fetch from:\n",
      "-> file:/var/folders/zz/zyxvpxvq6csfxvn_n0000000000000/T/toree_add_deps3032159913246247966/\n",
      "-> https://oss.sonatype.org/content/repositories/releases/\n",
      "-> https://repo1.maven.org/maven2\n",
      "-> New file at /var/folders/zz/zyxvpxvq6csfxvn_n0000000000000/T/toree_add_deps3032159913246247966/https/oss.sonatype.org/content/repositories/releases/com/chuusai/shapeless_2.10/2.3.0/shapeless_2.10-2.3.0.jar\n",
      "Marking org.tmoerman:plongeur-spark_2.10:0.3.9 for download\n",
      "Preparing to fetch from:\n",
      "-> file:/var/folders/zz/zyxvpxvq6csfxvn_n0000000000000/T/toree_add_deps3032159913246247966/\n",
      "-> file:/Users/tmo/.m2/repository\n",
      "-> https://repo1.maven.org/maven2\n",
      "-> New file at /Users/tmo/.m2/repository/org/tmoerman/plongeur-spark_2.10/0.3.9/plongeur-spark_2.10-0.3.9.jar\n"
     ]
    }
   ],
   "source": [
    "%AddDeps org.apache.spark spark-mllib_2.10 1.6.2\n",
    "%AddDeps com.github.haifengl smile-core 1.1.0 --transitive\n",
    "%AddDeps io.reactivex rxscala_2.10 0.26.1 --transitive\n",
    "%AddDeps com.chuusai shapeless_2.10 2.3.0 --repository https://oss.sonatype.org/content/repositories/releases/\n",
    "%AddDeps org.tmoerman plongeur-spark_2.10 0.3.9 --repository file:/Users/tmo/.m2/repository"
   ]
  },
  {
   "cell_type": "code",
   "execution_count": 2,
   "metadata": {
    "collapsed": false
   },
   "outputs": [
    {
     "name": "stdout",
     "output_type": "stream",
     "text": [
      "Starting download from http://localhost:8888/nbextensions/declarativewidgets/urth-widgets.jar\n",
      "Finished download of urth-widgets.jar\n"
     ]
    }
   ],
   "source": [
    "%addjar http://localhost:8888/nbextensions/declarativewidgets/urth-widgets.jar"
   ]
  },
  {
   "cell_type": "markdown",
   "metadata": {
    "collapsed": false
   },
   "source": [
    "#### Import classes"
   ]
  },
  {
   "cell_type": "code",
   "execution_count": 3,
   "metadata": {
    "collapsed": false
   },
   "outputs": [],
   "source": [
    "import rx.lang.scala.{Observer, Subscription, Observable}\n",
    "import rx.lang.scala.subjects.PublishSubject\n",
    "import rx.lang.scala.subjects._\n",
    "\n",
    "import shapeless.HNil\n",
    "\n",
    "import org.tmoerman.plongeur.tda._\n",
    "import org.tmoerman.plongeur.tda.Model._\n",
    "import org.tmoerman.plongeur.tda.cluster.Clustering._\n",
    "import org.tmoerman.plongeur.tda.cluster.Scale._\n",
    "\n",
    "import declarativewidgets._\n",
    "initWidgets\n",
    "\n",
    "import declarativewidgets.WidgetChannels.channel"
   ]
  },
  {
   "cell_type": "markdown",
   "metadata": {},
   "source": [
    "#### Import polymer elements"
   ]
  },
  {
   "cell_type": "code",
   "execution_count": 4,
   "metadata": {
    "collapsed": false
   },
   "outputs": [
    {
     "data": {
      "text/html": [
       "<link rel='import' href='urth_components/paper-slider/paper-slider.html' \n",
       "        is='urth-core-import' package='PolymerElements/paper-slider'>"
      ]
     },
     "execution_count": 4,
     "metadata": {},
     "output_type": "execute_result"
    }
   ],
   "source": [
    "%%html\n",
    "<link rel='import' href='urth_components/paper-slider/paper-slider.html' \n",
    "        is='urth-core-import' package='PolymerElements/paper-slider'>"
   ]
  },
  {
   "cell_type": "markdown",
   "metadata": {},
   "source": [
    "#### Reactive TDA Machine"
   ]
  },
  {
   "cell_type": "markdown",
   "metadata": {},
   "source": [
    "Instantiate a `PublishSubject`. This stream of `TDAParams` instances represents the input of a `TDAMachine`. The `PublishSubject` listens to changes and sets these to the channel `\"ch_TDA_1\"` under the `\"params\"` key.\n",
    "\n",
    "*TODO: unsubscribe previous on re-evaluation*"
   ]
  },
  {
   "cell_type": "code",
   "execution_count": 5,
   "metadata": {
    "collapsed": false
   },
   "outputs": [],
   "source": [
    "val in = PublishSubject[TDAParams]\n",
    "\n",
    "val in_sub = in.subscribe(p => channel(\"ch_TDA_1\").set(\"params\", p.toString))"
   ]
  },
  {
   "cell_type": "markdown",
   "metadata": {},
   "source": [
    "Create an initial `TDAParams` instance. In the same cell, we submit the instance to the `PublishSubject`."
   ]
  },
  {
   "cell_type": "code",
   "execution_count": 25,
   "metadata": {
    "collapsed": false
   },
   "outputs": [],
   "source": [
    "val tdaParams =\n",
    "      TDAParams(\n",
    "        lens = TDALens(\n",
    "          Filter(\"feature\" :: 0 :: HNil, 10, 0.5),\n",
    "          Filter(\"feature\" :: 1 :: HNil, 13, 0.5)),\n",
    "        clusteringParams = ClusteringParams(),\n",
    "        scaleSelection = histogram(10))\n",
    "\n",
    "in.onNext(tdaParams)"
   ]
  },
  {
   "cell_type": "markdown",
   "metadata": {},
   "source": [
    "Specify alternative parameters."
   ]
  },
  {
   "cell_type": "code",
   "execution_count": 26,
   "metadata": {
    "collapsed": false
   },
   "outputs": [],
   "source": [
    "val tdaParams_ALT =\n",
    "      TDAParams(\n",
    "        lens = TDALens(\n",
    "          Filter(\"feature\" :: 0 :: HNil, 10, 0.5)),\n",
    "        clusteringParams = ClusteringParams(),\n",
    "        scaleSelection = histogram(10))\n",
    "\n",
    "in.onNext(tdaParams_ALT)"
   ]
  },
  {
   "cell_type": "markdown",
   "metadata": {},
   "source": [
    "For the sake of illustration, we create an html snippet that listens to changes on the `\"ch_TDA_1\"` channel and displays the value of the `\"params\"` key."
   ]
  },
  {
   "cell_type": "code",
   "execution_count": 8,
   "metadata": {
    "collapsed": false
   },
   "outputs": [
    {
     "data": {
      "text/html": [
       "<template is='urth-core-bind' channel='ch_TDA_1'>  \n",
       "    <div style='background: #FFB; padding: 10px;'>\n",
       "        <span style='font-family: \"Courier\"'>[[params]]</span>\n",
       "    </div>\n",
       "</template>"
      ]
     },
     "execution_count": 8,
     "metadata": {},
     "output_type": "execute_result"
    }
   ],
   "source": [
    "%%html\n",
    "<template is='urth-core-bind' channel='ch_TDA_1'>  \n",
    "    <div style='background: #FFB; padding: 10px;'>\n",
    "        <span style='font-family: \"Courier\"'>[[params]]</span>\n",
    "    </div>\n",
    "</template>"
   ]
  },
  {
   "cell_type": "markdown",
   "metadata": {},
   "source": [
    "Notice that when we evaluate the `TDAParams` instantiation cells, the output of the yellow box changes."
   ]
  },
  {
   "cell_type": "markdown",
   "metadata": {
    "collapsed": true
   },
   "source": [
    "#### Inititalize rdd"
   ]
  },
  {
   "cell_type": "code",
   "execution_count": 9,
   "metadata": {
    "collapsed": false
   },
   "outputs": [],
   "source": [
    "import org.apache.spark.rdd.RDD\n",
    "import org.apache.commons.lang.StringUtils.trim\n",
    "import org.apache.spark.mllib.linalg.Vectors.dense\n",
    "\n",
    "def readCircle(file: String) = \n",
    "    sc.\n",
    "        textFile(file).\n",
    "        map(_.split(\",\").map(trim)).\n",
    "        zipWithIndex.\n",
    "        map{ case (Array(x, y), idx) => dp(idx, dense(x.toDouble, y.toDouble))}         "
   ]
  },
  {
   "cell_type": "code",
   "execution_count": 10,
   "metadata": {
    "collapsed": false
   },
   "outputs": [],
   "source": [
    "val data_path = \"/Users/tmo/Work/batiskav/projects/plongeur/scala/plongeur-spark/src/test/resources/data/\"\n",
    "\n",
    "val circle_1k_path = data_path + \"circle.1k.csv\"\n",
    "\n",
    "val rdd = readCircle(circle_1k_path)"
   ]
  },
  {
   "cell_type": "code",
   "execution_count": 11,
   "metadata": {
    "collapsed": true
   },
   "outputs": [],
   "source": [
    "val ctx = TDAContext(sc, rdd)"
   ]
  },
  {
   "cell_type": "code",
   "execution_count": 12,
   "metadata": {
    "collapsed": false
   },
   "outputs": [],
   "source": [
    "val machine_out: Observable[(TDAParams, TDAResult)] = TDAMachine.run(ctx, in)"
   ]
  },
  {
   "cell_type": "code",
   "execution_count": 18,
   "metadata": {
    "collapsed": false
   },
   "outputs": [],
   "source": [
    "val out_sub = machine_out.subscribe(\n",
    "    onNext = (t) => t match {case (p, r) => channel(\"ch_TDA_1\").set(\"result\", r.clusters.mkString(\"\\n\")) },\n",
    "    onError = (e) => println(\"Error in TDA machine: \", e))"
   ]
  },
  {
   "cell_type": "code",
   "execution_count": 19,
   "metadata": {
    "collapsed": false
   },
   "outputs": [
    {
     "data": {
      "text/plain": [
       "Name: Syntax Error.\n",
       "Message: \n",
       "StackTrace: "
      ]
     },
     "execution_count": 19,
     "metadata": {},
     "output_type": "execute_result"
    }
   ],
   "source": [
    "// out_sub.unsubscribe()"
   ]
  },
  {
   "cell_type": "code",
   "execution_count": 20,
   "metadata": {
    "collapsed": false
   },
   "outputs": [
    {
     "data": {
      "text/html": [
       "<template is='urth-core-bind' channel='ch_TDA_1'>  \n",
       "    <div style='background: #FBF; padding: 10px;'>\n",
       "        <span style='font-family: \"Courier\"'>[[result]]</span>\n",
       "    </div>\n",
       "</template>"
      ]
     },
     "execution_count": 20,
     "metadata": {},
     "output_type": "execute_result"
    }
   ],
   "source": [
    "%%html\n",
    "<template is='urth-core-bind' channel='ch_TDA_1'>  \n",
    "    <div style='background: #FBF; padding: 10px;'>\n",
    "        <span style='font-family: \"Courier\"'>[[result]]</span>\n",
    "    </div>\n",
    "</template>"
   ]
  },
  {
   "cell_type": "code",
   "execution_count": null,
   "metadata": {
    "collapsed": true
   },
   "outputs": [],
   "source": []
  }
 ],
 "metadata": {
  "kernelspec": {
   "display_name": "Apache Toree - Scala",
   "language": "scala",
   "name": "apache_toree_scala"
  },
  "language_info": {
   "name": "scala",
   "version": "2.10.4"
  },
  "widgets": {
   "state": {
    "677B60814E904C09839F27F9652A61DC": {
     "views": []
    },
    "A4C14BC51F6A493385C952F77E33C336": {
     "views": []
    }
   },
   "version": "1.1.2"
  }
 },
 "nbformat": 4,
 "nbformat_minor": 0
}
