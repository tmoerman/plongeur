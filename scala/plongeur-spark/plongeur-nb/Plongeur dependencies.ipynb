{
 "cells": [
  {
   "cell_type": "markdown",
   "metadata": {},
   "source": [
    "#### Add dependencies"
   ]
  },
  {
   "cell_type": "code",
   "execution_count": 1,
   "metadata": {
    "collapsed": false,
    "scrolled": true
   },
   "outputs": [
    {
     "name": "stdout",
     "output_type": "stream",
     "text": [
      "Marking org.apache.spark:spark-mllib_2.10:1.6.2 for download\n",
      "Preparing to fetch from:\n",
      "-> file:/var/folders/zz/zyxvpxvq6csfxvn_n0000000000000/T/toree_add_deps830962751445828928/\n",
      "-> https://repo1.maven.org/maven2\n",
      "-> New file at /var/folders/zz/zyxvpxvq6csfxvn_n0000000000000/T/toree_add_deps830962751445828928/https/repo1.maven.org/maven2/org/apache/spark/spark-mllib_2.10/1.6.2/spark-mllib_2.10-1.6.2.jar\n",
      "Marking com.github.haifengl:smile-core:1.1.0 for download\n",
      "Preparing to fetch from:\n",
      "-> file:/var/folders/zz/zyxvpxvq6csfxvn_n0000000000000/T/toree_add_deps830962751445828928/\n",
      "-> https://repo1.maven.org/maven2\n",
      "-> New file at /var/folders/zz/zyxvpxvq6csfxvn_n0000000000000/T/toree_add_deps830962751445828928/https/repo1.maven.org/maven2/com/github/haifengl/smile-graph/1.1.0/smile-graph-1.1.0.jar\n",
      "-> New file at /var/folders/zz/zyxvpxvq6csfxvn_n0000000000000/T/toree_add_deps830962751445828928/https/repo1.maven.org/maven2/com/github/haifengl/smile-math/1.1.0/smile-math-1.1.0.jar\n",
      "-> New file at /var/folders/zz/zyxvpxvq6csfxvn_n0000000000000/T/toree_add_deps830962751445828928/https/repo1.maven.org/maven2/com/github/haifengl/smile-data/1.1.0/smile-data-1.1.0.jar\n",
      "-> New file at /var/folders/zz/zyxvpxvq6csfxvn_n0000000000000/T/toree_add_deps830962751445828928/https/repo1.maven.org/maven2/com/github/haifengl/smile-core/1.1.0/smile-core-1.1.0.jar\n",
      "Marking io.reactivex:rxscala_2.10:0.26.1 for download\n",
      "Preparing to fetch from:\n",
      "-> file:/var/folders/zz/zyxvpxvq6csfxvn_n0000000000000/T/toree_add_deps830962751445828928/\n",
      "-> https://repo1.maven.org/maven2\n",
      "-> New file at /var/folders/zz/zyxvpxvq6csfxvn_n0000000000000/T/toree_add_deps830962751445828928/https/repo1.maven.org/maven2/io/reactivex/rxscala_2.10/0.26.1/rxscala_2.10-0.26.1.jar\n",
      "-> New file at /var/folders/zz/zyxvpxvq6csfxvn_n0000000000000/T/toree_add_deps830962751445828928/https/repo1.maven.org/maven2/io/reactivex/rxjava/1.1.1/rxjava-1.1.1.jar\n",
      "Marking com.chuusai:shapeless_2.10:2.3.0 for download\n",
      "Preparing to fetch from:\n",
      "-> file:/var/folders/zz/zyxvpxvq6csfxvn_n0000000000000/T/toree_add_deps830962751445828928/\n",
      "-> https://oss.sonatype.org/content/repositories/releases/\n",
      "-> https://repo1.maven.org/maven2\n",
      "-> New file at /var/folders/zz/zyxvpxvq6csfxvn_n0000000000000/T/toree_add_deps830962751445828928/https/oss.sonatype.org/content/repositories/releases/com/chuusai/shapeless_2.10/2.3.0/shapeless_2.10-2.3.0.jar\n",
      "Marking org.tmoerman:plongeur-spark_2.10:0.3.8 for download\n",
      "Preparing to fetch from:\n",
      "-> file:/var/folders/zz/zyxvpxvq6csfxvn_n0000000000000/T/toree_add_deps830962751445828928/\n",
      "-> file:/Users/tmo/.m2/repository\n",
      "-> https://repo1.maven.org/maven2\n",
      "-> New file at /Users/tmo/.m2/repository/org/tmoerman/plongeur-spark_2.10/0.3.8/plongeur-spark_2.10-0.3.8.jar\n"
     ]
    }
   ],
   "source": [
    "%AddDeps org.apache.spark spark-mllib_2.10 1.6.2\n",
    "%AddDeps com.github.haifengl smile-core 1.1.0 --transitive\n",
    "%AddDeps io.reactivex rxscala_2.10 0.26.1 --transitive\n",
    "%AddDeps com.chuusai shapeless_2.10 2.3.0 --repository https://oss.sonatype.org/content/repositories/releases/\n",
    "%AddDeps org.tmoerman plongeur-spark_2.10 0.3.8 --repository file:/Users/tmo/.m2/repository"
   ]
  },
  {
   "cell_type": "code",
   "execution_count": 2,
   "metadata": {
    "collapsed": false
   },
   "outputs": [
    {
     "name": "stdout",
     "output_type": "stream",
     "text": [
      "Starting download from http://localhost:8888/nbextensions/declarativewidgets/urth-widgets.jar\n",
      "Finished download of urth-widgets.jar\n"
     ]
    }
   ],
   "source": [
    "%addjar http://localhost:8888/nbextensions/declarativewidgets/urth-widgets.jar"
   ]
  },
  {
   "cell_type": "code",
   "execution_count": 3,
   "metadata": {
    "collapsed": false
   },
   "outputs": [
    {
     "data": {
      "text/plain": [
       "1.8.0_74"
      ]
     },
     "execution_count": 3,
     "metadata": {},
     "output_type": "execute_result"
    }
   ],
   "source": [
    "System.getProperty(\"java.version\")"
   ]
  },
  {
   "cell_type": "markdown",
   "metadata": {
    "collapsed": false
   },
   "source": [
    "#### Import classes"
   ]
  },
  {
   "cell_type": "code",
   "execution_count": 4,
   "metadata": {
    "collapsed": false
   },
   "outputs": [
    {
     "data": {
      "application/javascript": [
       "\n",
       "      window.Urth = window.Urth || {};\n",
       "      Urth._initialized = Urth._initialized || $.Deferred();\n",
       "      Urth.whenReady = Urth.whenReady || function(cb) {\n",
       "        Urth._initialized.then(function() {\n",
       "          Urth.whenReady(cb);\n",
       "        });\n",
       "      };\n",
       "      Urth.whenReady(function() { console.log(\"Declarative widgets connected.\") });"
      ]
     },
     "metadata": {},
     "output_type": "display_data"
    }
   ],
   "source": [
    "import rx.lang.scala.{Observer, Subscription, Observable}\n",
    "import rx.lang.scala.subjects.PublishSubject\n",
    "import rx.lang.scala.subjects._\n",
    "\n",
    "import shapeless.HNil\n",
    "\n",
    "import org.tmoerman.plongeur.tda._\n",
    "import org.tmoerman.plongeur.tda.Model._\n",
    "import org.tmoerman.plongeur.tda.cluster.Clustering._\n",
    "import org.tmoerman.plongeur.tda.cluster.Scale._\n",
    "\n",
    "import declarativewidgets._\n",
    "initWidgets\n",
    "\n",
    "import declarativewidgets.WidgetChannels.channel"
   ]
  },
  {
   "cell_type": "markdown",
   "metadata": {},
   "source": [
    "#### Import polymer elements"
   ]
  },
  {
   "cell_type": "code",
   "execution_count": 5,
   "metadata": {
    "collapsed": false
   },
   "outputs": [
    {
     "data": {
      "text/html": [
       "<link rel='import' href='urth_components/paper-slider/paper-slider.html' \n",
       "        is='urth-core-import' package='PolymerElements/paper-slider'>"
      ]
     },
     "execution_count": 5,
     "metadata": {},
     "output_type": "execute_result"
    }
   ],
   "source": [
    "%%html\n",
    "<link rel='import' href='urth_components/paper-slider/paper-slider.html' \n",
    "        is='urth-core-import' package='PolymerElements/paper-slider'>"
   ]
  },
  {
   "cell_type": "markdown",
   "metadata": {},
   "source": [
    "#### TDA Machine"
   ]
  },
  {
   "cell_type": "markdown",
   "metadata": {},
   "source": [
    "Instantiate a `PublishSubject`. This stream of `TDAParams` instances represents the input of a `TDAMachine`. The `PublishSubject` listens to changes and sets these to the channel `\"ch_TDA_1\"` under the `\"params\"` key.\n",
    "\n",
    "*TODO: unsubscribe previous on re-evaluation*"
   ]
  },
  {
   "cell_type": "code",
   "execution_count": 6,
   "metadata": {
    "collapsed": false
   },
   "outputs": [],
   "source": [
    "val in = PublishSubject[TDAParams]\n",
    "\n",
    "val in_sub = in.subscribe(p => channel(\"ch_TDA_1\").set(\"params\", p.toString))"
   ]
  },
  {
   "cell_type": "markdown",
   "metadata": {},
   "source": [
    "Create an initial `TDAParams` instance. In the same cell, we submit the instance to the `PublishSubject`."
   ]
  },
  {
   "cell_type": "code",
   "execution_count": 15,
   "metadata": {
    "collapsed": false
   },
   "outputs": [
    {
     "name": "stdout",
     "output_type": "stream",
     "text": [
      "\r",
      "                                                                                \r",
      "Cluster(bedcde4d-ef48-48f2-b855-875d7a918be0)\n",
      "Cluster(fa5314d0-3b26-4939-ba01-756ee3c2a902)\n",
      "Cluster(cf186e57-a0d9-43f3-b1e6-8a0b84e8aab1)\n",
      "Cluster(15f92602-e048-4212-8209-c4ecd3e7d6a4)\n",
      "Cluster(cb1f8a80-1125-478f-ab6d-22fe0da2ae95)\n",
      "Cluster(95d01a35-1859-42f7-8b39-1c80833a783b)\n",
      "Cluster(6a5bf31f-7028-4a8b-b5bc-7ad12e60b3a7)\n",
      "Cluster(2d480938-b352-435a-9069-f118794eef00)\n",
      "Cluster(c91bcec2-825c-4024-a38e-8e66c605e7ae)\n",
      "Cluster(7dc01667-17c7-4edc-ac77-3e3b08e2b90d)\n",
      "Cluster(9a49209f-e856-45a9-91ff-f3e001bc054d)\n",
      "Cluster(d0414fdd-9d45-4a0f-9131-5aeb1275dda4)\n",
      "Cluster(d110e326-9beb-4d90-b55b-6d2a7a2c030e)\n",
      "Cluster(5b2016cd-d9d2-4e42-ac12-69cbf36673da)\n",
      "Cluster(bf988778-2697-478c-862c-9be9a4112657)\n",
      "Cluster(d29ee946-fa42-4d23-a75b-3b0f36b7be74)\n",
      "Cluster(36801a34-0f85-4ab3-8bef-1055281d0e90)\n",
      "Cluster(6f3453ce-64ff-4dc2-9067-44ba93d8cf32)\n",
      "Cluster(8b03281f-8025-4dad-8d18-419c98bde438)\n",
      "Cluster(a4f30b04-c038-4374-9c41-16ba43333410)\n",
      "Cluster(dfaec01f-475f-4cda-98a9-4c8d63842fdc)\n",
      "Cluster(6c032e28-43ea-4916-84f4-e9d39377b1d1)\n",
      "Cluster(989709c1-5ff4-4c44-9609-58aafd5616fb)\n",
      "Cluster(98cfb68c-26f2-4b79-9673-832779e55a05)\n",
      "Cluster(8c184d30-e7c7-4a27-9d9c-ef51c041b253)\n",
      "Cluster(697d130c-3e87-4cae-b850-97d9494e13d7)\n",
      "Cluster(f939c93d-6fe4-4bf6-bd1a-a9dcce4542d9)\n",
      "Cluster(f8c7b03e-2914-4c45-b0be-5adecb15efa9)\n",
      "Cluster(0f16362b-3394-46ae-aa88-f569e356d977)\n",
      "Cluster(e47f1835-992f-4409-afe9-a1da5cdd3692)\n",
      "Cluster(33da933b-5327-4ee1-98f4-bb67290698e0)\n",
      "Cluster(cce2773a-56a7-4e36-921a-bf98e427627d)\n",
      "Cluster(aefeee5e-ce9a-4a13-a963-901e20cccc07)\n",
      "Cluster(19a97b74-b0bf-495d-b583-5ad9ee744380)\n",
      "Cluster(1d43c2c3-83b3-4afd-a984-879a68c6c36c)\n",
      "Cluster(6805e598-098b-4f34-86f8-035db7eed534)\n",
      "Cluster(b313e162-e6e9-46e2-af2d-a031d7d4d5a1)\n",
      "Cluster(2a172856-d6e1-4fa5-b3bb-b8f13c10cab8)\n",
      "Cluster(633d7a37-e6fd-4902-a76d-0a9c4e28894a)\n",
      "Cluster(2fb18e64-41c5-432c-9547-becc3998f2e7)\n",
      "Cluster(561ea2cf-ee0a-4e06-badc-364a792e99d0)\n",
      "Cluster(911854d1-8e23-4656-91e6-bb18c21ff32b)\n",
      "Cluster(b1ea53b6-adb1-48ec-bbe6-b161207c2de2)\n",
      "Cluster(6592cfd7-2f43-4a00-9f18-45c258daa538)\n",
      "Cluster(fe2052e7-3a4a-49d9-8b82-f7152c244534)\n",
      "Cluster(b820cf9f-25f8-47b6-9493-2fe0b16f03a9)\n",
      "Cluster(244630b8-84e2-4e33-8ba5-b7b1142f286b)\n",
      "Cluster(54b41862-a8dd-4192-90ef-e60afa2c0276)\n",
      "Cluster(9858e2f9-336b-45f4-a4fc-46085fb1283f)\n",
      "Cluster(c5149560-a222-47dd-aa85-817d96bd1ec9)\n",
      "Cluster(620437b1-7f0e-41e9-a1f1-fee60f8fe71d)\n",
      "Cluster(b25b6261-db84-4dc9-b02c-32dc7ddf8da1)\n",
      "Cluster(191f3fe2-d6d5-41ee-b118-0401e1136afc)\n",
      "Cluster(addec0a3-c22c-4f13-bee9-6761571bf7b5)\n",
      "Cluster(e7655142-cd01-4fab-9a89-e9823fc1293f)\n",
      "Cluster(2d215421-0efb-4647-bf06-4fb770f6d090)\n",
      "Cluster(4b35a83c-96c8-40da-99a0-0c8db2e52a44)\n",
      "Cluster(5d83fd4a-16fa-4953-86db-b45526387d74)\n",
      "Cluster(42fd544c-dbdc-4de7-af4d-f713fc93e2a1)\n",
      "Cluster(7c5db888-d446-4857-b67a-34bea095e18d)\n",
      "Cluster(8e1c7e94-2374-4dc4-9c3a-25668befc353)\n",
      "Cluster(0800bfae-2328-48d3-8def-3efdb6fb40d8)\n",
      "Cluster(4bea6376-269c-48d3-9855-9999f03e1340)\n",
      "Cluster(7f0e1436-46c5-4cac-bfa4-888dcda6271c)\n",
      "Cluster(c553ac84-9e81-41cd-8412-124d9180dd4c)\n",
      "Cluster(0715f53a-fae0-42ef-87f6-9ac06d912958)\n",
      "Cluster(066efd9a-b1ea-4101-b064-9d13931d770d)\n",
      "Cluster(690580a1-127a-482b-af01-1d880231e915)\n",
      "Cluster(9feb6fb9-83b2-4f86-a778-e779d32a2077)\n",
      "Cluster(370af153-ad49-4df3-8c72-0ed9b2256e97)\n",
      "Cluster(1ebd3396-955b-4704-82a5-3f0229dc32f9)\n",
      "Cluster(3711092e-3606-4937-a23f-5ce03a1fe92d)\n",
      "Cluster(eb2b3198-f9a6-4c30-bd54-f0f47792ec3e)\n",
      "Cluster(8150b25d-b288-4318-a23a-21094a8352a6)\n",
      "Cluster(75c47593-fea2-498a-a9ac-50fc8e1a157e)\n",
      "Cluster(547dd399-220c-43d9-b965-1bbac61979a6)\n",
      "Cluster(0ad8a0c7-0a49-4552-916e-9f312817dfbf)\n",
      "Cluster(09560f02-8d77-4b2b-9c61-819ffad0955b)\n",
      "Cluster(5a0113aa-5e5e-4288-b095-12c68b6fafc3)\n",
      "Cluster(718f91c9-5e83-4afb-ad84-a33d173259e3)\n",
      "Cluster(1fa825e8-d359-4af5-a9f1-54abb80230b7)\n",
      "Cluster(bf2a5b2c-8e17-48e0-b87b-70196a2bcf55)\n",
      "Cluster(8a6fee05-6b96-42b5-9aaa-a192a4abcd32)\n",
      "Cluster(7289b3c5-737c-4550-ac45-416845aa6b9a)\n",
      "Cluster(23a3aa18-60a7-4196-aef3-a684ba94f6db)\n",
      "Cluster(a19dc22d-563d-4f9a-aeba-76f5fdab983a)\n",
      "Cluster(87c37dcb-f5bb-4d25-96f2-3e0cab488ebf)\n",
      "Cluster(763f18a9-ce06-47d2-b571-4e2b108d31bf)\n",
      "Cluster(067a4983-91d7-4f60-9285-e16c1f7863e5)\n",
      "Cluster(f13bb4ce-076a-4790-9420-746cd97c2bf6)\n",
      "Cluster(ae3c553c-6c27-4209-9584-8b5da8356df7)\n",
      "Cluster(e2a31a03-207c-4b73-b129-a06927bbf5b1)\n",
      "Cluster(d2c446c0-486a-470f-969d-fe649437fcb5)\n",
      "Cluster(9e6ef2d2-d0ba-46e8-9e5d-b639d5fcb3fe)\n",
      "Cluster(25349db1-104f-470d-9bba-19f896ded8fa)\n",
      "Cluster(a289f744-3f58-4d07-8f96-63b4d980e06e)\n",
      "Cluster(3c9156b9-67aa-4d99-9015-e353fbbaec0f)\n",
      "Cluster(25b9d199-1620-4ccf-a3a9-3a8f606d410c)\n",
      "Cluster(dc71eb6a-ecbe-4946-9cd0-f2794735186d)\n",
      "Cluster(c06273e7-042c-4eba-a7c1-1aa02ad65e63)\n",
      "Cluster(2cc28852-47d3-4944-8286-6e79916a2039)\n",
      "Cluster(2830f8a1-7d9f-46f1-946d-e1ee8a636234)\n",
      "Cluster(f439c64d-f737-4460-87ac-c1593d8a8d50)\n",
      "Cluster(561172bb-12cd-4cac-aecf-8c98215bd827)\n",
      "Cluster(81d1d050-3928-46b6-b11e-f0ab7703f7fa)\n",
      "Cluster(7831794e-f678-4342-a180-47908ed5c45e)\n",
      "Cluster(a3c4335c-7559-46fd-a815-f2cd5f2cbb57)\n",
      "Cluster(da7c43f2-07a0-4f0e-9df7-d97b57619984)\n",
      "Cluster(d44cce81-dd29-42f1-9d32-c735fbf15ab1)\n",
      "Cluster(1f85ca78-9f2d-4abd-b76f-596ff479b5ab)\n",
      "Cluster(edc51b73-5d22-4d97-8830-0d136b6cfd00)\n",
      "Cluster(746a2a49-c592-4dda-99b3-e13b17426e6e)\n",
      "Cluster(026da9fa-9dd9-4598-95c8-7e84917b6266)\n",
      "Cluster(7dff006f-d5b3-49d0-8b51-525518a6f785)\n",
      "Cluster(e8da3532-b5a3-4b00-ae9f-3a1d8c1b160b)\n",
      "Cluster(d442ef3f-de9e-4930-92f2-5aeaeb015148)\n",
      "Cluster(d40bbf3a-7831-4fee-b60f-1db699fcc94c)\n",
      "Cluster(771694c8-7c4b-4498-baf8-26eafe3a4563)\n",
      "Cluster(2e84074f-eb50-444d-9ae8-5fa6e3951dc0)\n",
      "Cluster(9e4e9456-1ad2-4759-ab73-38eb8eeff56b)\n",
      "Cluster(19de7f45-0186-49d8-85e9-028d415022f8)\n",
      "Cluster(a51f3197-f5c7-452f-9aa4-86481999ef94)\n",
      "Cluster(d41354d1-2229-4109-81b1-18172c546cde)\n",
      "Cluster(e111b79a-6dec-489a-b7c1-83fd08a8ee79)\n",
      "Cluster(402b8748-ebd0-42ca-824f-62e8f9f034ae)\n",
      "Cluster(d54455ad-ae8e-4110-b6ca-ff39a5717c54)\n",
      "Cluster(42dd4a44-1dab-48ab-aa4b-316bfecacba9)\n",
      "Cluster(ec8bfd4f-4c47-4892-a05d-69bab3038cda)\n",
      "Cluster(0df791d5-e961-4f87-be5f-6e9f52324a00)\n",
      "Cluster(b13a346c-25e9-45b5-9367-6faeb57c06c5)\n",
      "Cluster(84474e94-e09e-48b4-bb1c-4947ff9af8cd)\n",
      "Cluster(fd0c5cb5-690a-430f-9c2b-8c4b2b0746dd)\n",
      "Cluster(2ee21320-8732-4c31-8290-72e2935195cb)\n",
      "Cluster(8b3e068d-ce04-441f-a004-a7705c06c166)\n",
      "Cluster(ce1293bc-1d9a-42a4-92b2-756cd740345b)\n",
      "Cluster(fdff26d5-a2ad-4e80-8698-9e3eda7d03f0)\n",
      "Cluster(c18c1894-b840-4a1a-baa4-962429a0e995)\n",
      "Cluster(0f1d7621-0d7f-418e-8035-ab1295a09611)\n",
      "Cluster(729f5695-9bb6-4bd7-bce1-2c40673d675d)\n",
      "Cluster(6781d234-5812-4f8a-a684-35bdaaa32703)\n",
      "Cluster(72bc41d7-48d3-486b-992e-f122901d64f1)\n",
      "Cluster(3929d6cf-4eb3-4825-b822-69652acb0228)\n",
      "Cluster(86756bce-a304-43be-bf94-acda9f028b62)\n",
      "Cluster(13b67b6b-b0f6-4394-96a3-555f0a30a17b)\n",
      "Cluster(dfe05d25-55ff-4374-b7ff-0548c33eec8e)\n",
      "Cluster(07a88a9d-2173-46b7-95ec-13ae159de7ac)\n",
      "Cluster(41ca6354-51fb-43f6-87ca-4d94d961756f)\n",
      "Cluster(aef7cac7-9086-445d-b431-285687c085a6)\n",
      "Cluster(c06ef1ec-7715-4470-b7a2-5469f642cbb4)\n",
      "Cluster(4eccf7a8-230f-4f11-9831-c97de0f658d7)\n",
      "Cluster(db745113-a7bd-4e08-b443-eb2b9ac12b77)\n",
      "Cluster(e2c7d75b-d6e9-44bf-93a7-3bb380dc5724)\n",
      "Cluster(c52458c4-1db7-4b3f-8d3e-05a3e7f87394)\n",
      "Cluster(cfab8f62-671f-48be-8679-30c9d628c3d9)\n",
      "Cluster(68eb2109-e73e-400a-b16c-c8f80f100cfb)\n",
      "Cluster(f19aad2e-8609-4a5d-abdd-c3aa0dfeb037)\n",
      "Cluster(45b556bb-2229-46cc-b13c-a862ff389eb8)\n",
      "Cluster(ae781fba-98ac-4d21-94ad-41485d5fbe1b)\n",
      "Cluster(3620caa6-a812-49a3-987c-f1272c0993d7)\n",
      "Cluster(325f9e4d-ee2c-407e-a022-239279290a58)\n",
      "Cluster(f9da4cb9-4882-4c10-b6ce-a3e34aaf7e13)\n",
      "Cluster(ba4b12b6-e44a-4eb5-8224-8da1739f0c3a)\n",
      "Cluster(48517f78-406c-45bb-bc11-07994a7a98ff)\n",
      "Cluster(39a22c02-ad48-4eed-9362-fe8696c9269f)\n",
      "Cluster(00b7ff35-912c-4102-a7f8-2b9e02291dbc)\n",
      "Cluster(e42b8d7c-1df6-439f-a94c-54ac8dbfea6c)\n",
      "Cluster(caaf5489-56e1-4024-9d8d-6675a645e792)\n",
      "Cluster(8b982eb8-5043-4a17-ac85-31bb64bbb1ad)\n",
      "Cluster(bde0a3b9-af2f-4a13-88dd-99659a81c0b9)\n",
      "Cluster(a2afae05-f256-46ef-ac8b-cc48e03e532c)\n",
      "Cluster(0819b48f-8673-451a-a449-4f65d23fe4ee)\n",
      "Cluster(d10a4a2b-7197-4813-8a27-68025ba62ca2)\n"
     ]
    }
   ],
   "source": [
    "val tdaParams =\n",
    "      TDAParams(\n",
    "        lens = TDALens(\n",
    "          Filter(\"feature\" :: 0 :: HNil, 10, 0.5),\n",
    "          Filter(\"feature\" :: 1 :: HNil, 13, 0.5)),\n",
    "        clusteringParams = ClusteringParams(),\n",
    "        scaleSelection = histogram(10))\n",
    "\n",
    "in.onNext(tdaParams)"
   ]
  },
  {
   "cell_type": "markdown",
   "metadata": {},
   "source": [
    "Specify alternative parameters."
   ]
  },
  {
   "cell_type": "code",
   "execution_count": 16,
   "metadata": {
    "collapsed": false
   },
   "outputs": [
    {
     "name": "stdout",
     "output_type": "stream",
     "text": [
      "Cluster(0bffe3ee-306d-4f8f-b2b3-03c1e62ad7cb)\n",
      "Cluster(24f4ddfd-4113-4de0-b97a-156210e0fe5e)\n",
      "Cluster(113062af-8d82-4e26-8bc0-99956e0763db)\n",
      "Cluster(1ac6001d-36c5-4d54-895f-60555ae43b80)\n",
      "Cluster(5ea6515e-fd96-4d20-9e25-fcc97f138927)\n",
      "Cluster(127030c8-6666-4ef0-9348-2d52f1e02edc)\n",
      "Cluster(d4cd7cbf-1604-45fb-95df-a0c7a60ac069)\n",
      "Cluster(a8cddab7-f7ee-42c2-b7c7-85a5efedca6f)\n",
      "Cluster(090aa2a2-2277-40bf-a0c6-fa13eeecef28)\n",
      "Cluster(b5254a6e-4a8f-407e-af3f-03c388fe70cf)\n",
      "Cluster(be8cb3e6-32e7-41ea-b362-e2e1db0738b0)\n",
      "Cluster(8b442f11-567f-48a4-892a-633e73fa1e3c)\n",
      "Cluster(b226fdc5-5a37-40e9-9da6-4abc237d1243)\n",
      "Cluster(80a71f2a-aa3b-4f25-acdb-0d71f6b6190a)\n",
      "Cluster(cca16ae4-ee30-44ad-a008-9a399efa5999)\n",
      "Cluster(8c09f0c9-f6b8-40d8-9826-7ab76209140e)\n",
      "Cluster(7bc8c624-4b29-4a1b-a5b7-0fc14e6e0301)\n"
     ]
    }
   ],
   "source": [
    "val tdaParams_ALT =\n",
    "      TDAParams(\n",
    "        lens = TDALens(\n",
    "          Filter(\"feature\" :: 0 :: HNil, 10, 0.5)),\n",
    "        clusteringParams = ClusteringParams(),\n",
    "        scaleSelection = histogram(10))\n",
    "\n",
    "in.onNext(tdaParams_ALT)"
   ]
  },
  {
   "cell_type": "markdown",
   "metadata": {},
   "source": [
    "For the sake of illustration, we create an html snippet that listens to changes on the `\"ch_TDA_1\"` channel and displays the value of the `\"params\"` key."
   ]
  },
  {
   "cell_type": "code",
   "execution_count": 9,
   "metadata": {
    "collapsed": false
   },
   "outputs": [
    {
     "data": {
      "text/html": [
       "<template is='urth-core-bind' channel='ch_TDA_1'>  \n",
       "    <div style='background: #FFB; padding: 10px;'>\n",
       "        <span style='font-family: \"Courier\"'>[[params]]</span>\n",
       "    </div>\n",
       "</template>"
      ]
     },
     "execution_count": 9,
     "metadata": {},
     "output_type": "execute_result"
    }
   ],
   "source": [
    "%%html\n",
    "<template is='urth-core-bind' channel='ch_TDA_1'>  \n",
    "    <div style='background: #FFB; padding: 10px;'>\n",
    "        <span style='font-family: \"Courier\"'>[[params]]</span>\n",
    "    </div>\n",
    "</template>"
   ]
  },
  {
   "cell_type": "markdown",
   "metadata": {},
   "source": [
    "Notice that when we evaluate the `TDAParams` instantiation cells, the output of the yellow box changes."
   ]
  },
  {
   "cell_type": "markdown",
   "metadata": {
    "collapsed": true
   },
   "source": [
    "#### Inititalize rdd"
   ]
  },
  {
   "cell_type": "code",
   "execution_count": 10,
   "metadata": {
    "collapsed": false
   },
   "outputs": [],
   "source": [
    "import org.apache.spark.rdd.RDD\n",
    "import org.apache.commons.lang.StringUtils.trim\n",
    "import org.apache.spark.mllib.linalg.Vectors.dense\n",
    "\n",
    "def readCircle(file: String) = \n",
    "    sc.\n",
    "        textFile(file).\n",
    "        map(_.split(\",\").map(trim)).\n",
    "        zipWithIndex.\n",
    "        map{ case (Array(x, y), idx) => dp(idx, dense(x.toDouble, y.toDouble))}         "
   ]
  },
  {
   "cell_type": "code",
   "execution_count": 11,
   "metadata": {
    "collapsed": false
   },
   "outputs": [],
   "source": [
    "val data_path = \"/Users/tmo/Work/batiskav/projects/plongeur/scala/plongeur-spark/src/test/resources/data/\"\n",
    "\n",
    "val circle_1k_path = data_path + \"circle.1k.csv\"\n",
    "\n",
    "val rdd = readCircle(circle_1k_path)"
   ]
  },
  {
   "cell_type": "code",
   "execution_count": 12,
   "metadata": {
    "collapsed": true
   },
   "outputs": [],
   "source": [
    "val ctx = TDAContext(sc, rdd)"
   ]
  },
  {
   "cell_type": "code",
   "execution_count": 13,
   "metadata": {
    "collapsed": false
   },
   "outputs": [],
   "source": [
    "val machine_out: Observable[(TDAParams, TDAResult)] = TDAMachine.run(ctx, in)"
   ]
  },
  {
   "cell_type": "code",
   "execution_count": 14,
   "metadata": {
    "collapsed": false
   },
   "outputs": [],
   "source": [
    "val out_sub = machine_out.subscribe(\n",
    "    onNext = (t) => t match {case (p, r) => println(r.clusters.mkString(\"\\n\"))},\n",
    "    onError = (e) => println(\"Error in TDA machine: \", e))"
   ]
  },
  {
   "cell_type": "code",
   "execution_count": 33,
   "metadata": {
    "collapsed": true
   },
   "outputs": [],
   "source": [
    "out_sub.unsubscribe()"
   ]
  },
  {
   "cell_type": "code",
   "execution_count": null,
   "metadata": {
    "collapsed": true
   },
   "outputs": [],
   "source": []
  }
 ],
 "metadata": {
  "kernelspec": {
   "display_name": "Apache Toree - Scala",
   "language": "scala",
   "name": "apache_toree_scala"
  },
  "language_info": {
   "name": "scala",
   "version": "2.10.4"
  },
  "widgets": {
   "state": {
    "E5D45D582A654E2C87C28BCE41DD8283": {
     "views": []
    }
   },
   "version": "1.1.2"
  }
 },
 "nbformat": 4,
 "nbformat_minor": 0
}
