{
 "cells": [
  {
   "cell_type": "markdown",
   "metadata": {},
   "source": [
    "# Plongeur\n",
    "\n",
    "A *topological data analysis* library.\n",
    "\n",
    "> Core algorithm written in [Scala](http://www.scala-lang.org/), using Apache [Spark](http://spark.apache.org/).\n",
    "> \n",
    "> Executed in a [Jupyter](http://jupyter.org/) notebook, using the Apache [Toree](https://github.com/apache/incubator-toree) kernel and [declarative widgets](http://jupyter-incubator.github.io/declarativewidgets/docs.html).\n",
    ">\n",
    "> Graphs rendered with [Sigma](http://sigmajs.org/)/[Linkurious](https://github.com/Linkurious/linkurious.js), wrapped in a [Polymer](https://www.polymer-project.org/1.0/) component.\n",
    "> \n",
    "> Reactive machinery powered by [Rx](http://reactivex.io/) [RxScala](https://github.com/ReactiveX/RxScala).\n"
   ]
  },
  {
   "cell_type": "markdown",
   "metadata": {
    "nbpresent": {
     "id": "f5ac5e2a-9a1a-46ab-8882-2a492fbebc19"
    }
   },
   "source": [
    "#### Maven dependencies"
   ]
  },
  {
   "cell_type": "code",
   "execution_count": 1,
   "metadata": {
    "collapsed": false,
    "nbpresent": {
     "id": "c3144ed8-e62e-4316-917e-26b8904edc72"
    },
    "scrolled": true
   },
   "outputs": [
    {
     "name": "stdout",
     "output_type": "stream",
     "text": [
      "Marking org.apache.spark:spark-mllib_2.10:1.6.2 for download\n",
      "Preparing to fetch from:\n",
      "-> file:/var/folders/zz/zyxvpxvq6csfxvn_n0000000000000/T/toree_add_deps9111157238150301946/\n",
      "-> file:/Users/tmo/.m2/repository\n",
      "-> https://repo1.maven.org/maven2\n",
      "-> New file at /var/folders/zz/zyxvpxvq6csfxvn_n0000000000000/T/toree_add_deps9111157238150301946/https/repo1.maven.org/maven2/org/apache/spark/spark-mllib_2.10/1.6.2/spark-mllib_2.10-1.6.2.jar\n",
      "Marking org.scalanlp:breeze_2.10:0.11.2 for download\n",
      "Preparing to fetch from:\n",
      "-> file:/var/folders/zz/zyxvpxvq6csfxvn_n0000000000000/T/toree_add_deps9111157238150301946/\n",
      "-> https://repo1.maven.org/maven2\n",
      "-> New file at /var/folders/zz/zyxvpxvq6csfxvn_n0000000000000/T/toree_add_deps9111157238150301946/https/repo1.maven.org/maven2/org/spire-math/spire-macros_2.10/0.7.4/spire-macros_2.10-0.7.4.jar\n",
      "-> New file at /var/folders/zz/zyxvpxvq6csfxvn_n0000000000000/T/toree_add_deps9111157238150301946/https/repo1.maven.org/maven2/junit/junit/4.8.2/junit-4.8.2.jar\n",
      "-> New file at /var/folders/zz/zyxvpxvq6csfxvn_n0000000000000/T/toree_add_deps9111157238150301946/https/repo1.maven.org/maven2/org/scalanlp/breeze-macros_2.10/0.11.2/breeze-macros_2.10-0.11.2.jar\n",
      "-> New file at /var/folders/zz/zyxvpxvq6csfxvn_n0000000000000/T/toree_add_deps9111157238150301946/https/repo1.maven.org/maven2/net/sf/opencsv/opencsv/2.3/opencsv-2.3.jar\n",
      "-> New file at /var/folders/zz/zyxvpxvq6csfxvn_n0000000000000/T/toree_add_deps9111157238150301946/https/repo1.maven.org/maven2/com/github/fommil/netlib/core/1.1.2/core-1.1.2.jar\n",
      "-> New file at /var/folders/zz/zyxvpxvq6csfxvn_n0000000000000/T/toree_add_deps9111157238150301946/https/repo1.maven.org/maven2/com/github/rwl/jtransforms/2.4.0/jtransforms-2.4.0.jar\n",
      "-> New file at /var/folders/zz/zyxvpxvq6csfxvn_n0000000000000/T/toree_add_deps9111157238150301946/https/repo1.maven.org/maven2/net/sourceforge/f2j/arpack_combined_all/0.1/arpack_combined_all-0.1.jar\n",
      "-> New file at /var/folders/zz/zyxvpxvq6csfxvn_n0000000000000/T/toree_add_deps9111157238150301946/https/repo1.maven.org/maven2/org/apache/commons/commons-math3/3.2/commons-math3-3.2.jar\n",
      "-> New file at /var/folders/zz/zyxvpxvq6csfxvn_n0000000000000/T/toree_add_deps9111157238150301946/https/repo1.maven.org/maven2/org/spire-math/spire_2.10/0.7.4/spire_2.10-0.7.4.jar\n",
      "-> New file at /var/folders/zz/zyxvpxvq6csfxvn_n0000000000000/T/toree_add_deps9111157238150301946/https/repo1.maven.org/maven2/org/scalanlp/breeze_2.10/0.11.2/breeze_2.10-0.11.2.jar\n",
      "Marking org.scalanlp:breeze-natives_2.10:0.11.2 for download\n",
      "Preparing to fetch from:\n",
      "-> file:/var/folders/zz/zyxvpxvq6csfxvn_n0000000000000/T/toree_add_deps9111157238150301946/\n",
      "-> https://repo1.maven.org/maven2\n",
      "-> New file at /var/folders/zz/zyxvpxvq6csfxvn_n0000000000000/T/toree_add_deps9111157238150301946/https/repo1.maven.org/maven2/org/scalanlp/breeze-natives_2.10/0.11.2/breeze-natives_2.10-0.11.2.jar\n",
      "Marking org.scalanlp:breeze-macros_2.10:0.11.2 for download\n",
      "Preparing to fetch from:\n",
      "-> file:/var/folders/zz/zyxvpxvq6csfxvn_n0000000000000/T/toree_add_deps9111157238150301946/\n",
      "-> https://repo1.maven.org/maven2\n",
      "-> New file at /var/folders/zz/zyxvpxvq6csfxvn_n0000000000000/T/toree_add_deps9111157238150301946/https/repo1.maven.org/maven2/org/scalanlp/breeze-macros_2.10/0.11.2/breeze-macros_2.10-0.11.2.jar\n",
      "Marking com.github.haifengl:smile-core:1.2.0 for download\n",
      "Preparing to fetch from:\n",
      "-> file:/var/folders/zz/zyxvpxvq6csfxvn_n0000000000000/T/toree_add_deps9111157238150301946/\n",
      "-> https://repo1.maven.org/maven2\n",
      "-> New file at /var/folders/zz/zyxvpxvq6csfxvn_n0000000000000/T/toree_add_deps9111157238150301946/https/repo1.maven.org/maven2/com/github/haifengl/smile-data/1.2.0/smile-data-1.2.0.jar\n",
      "-> New file at /var/folders/zz/zyxvpxvq6csfxvn_n0000000000000/T/toree_add_deps9111157238150301946/https/repo1.maven.org/maven2/com/github/haifengl/smile-math/1.2.0/smile-math-1.2.0.jar\n",
      "-> New file at /var/folders/zz/zyxvpxvq6csfxvn_n0000000000000/T/toree_add_deps9111157238150301946/https/repo1.maven.org/maven2/com/github/haifengl/smile-graph/1.2.0/smile-graph-1.2.0.jar\n",
      "-> New file at /var/folders/zz/zyxvpxvq6csfxvn_n0000000000000/T/toree_add_deps9111157238150301946/https/repo1.maven.org/maven2/com/github/haifengl/smile-core/1.2.0/smile-core-1.2.0.jar\n",
      "Marking com.github.karlhigley:spark-neighbors_2.10:0.3.6-FORK for download\n",
      "Preparing to fetch from:\n",
      "-> file:/var/folders/zz/zyxvpxvq6csfxvn_n0000000000000/T/toree_add_deps9111157238150301946/\n",
      "-> file:/Users/tmo/.m2/repository\n",
      "-> https://repo1.maven.org/maven2\n",
      "-> New file at /Users/tmo/.m2/repository/com/github/karlhigley/spark-neighbors_2.10/0.3.6-FORK/spark-neighbors_2.10-0.3.6-FORK.jar\n",
      "Marking io.reactivex:rxscala_2.10:0.26.1 for download\n",
      "Preparing to fetch from:\n",
      "-> file:/var/folders/zz/zyxvpxvq6csfxvn_n0000000000000/T/toree_add_deps9111157238150301946/\n",
      "-> file:/Users/tmo/.m2/repository\n",
      "-> https://repo1.maven.org/maven2\n",
      "-> New file at /Users/tmo/.m2/repository/io/reactivex/rxscala_2.10/0.26.1/rxscala_2.10-0.26.1.jar\n",
      "-> New file at /Users/tmo/.m2/repository/io/reactivex/rxjava/1.1.1/rxjava-1.1.1.jar\n",
      "Marking com.softwaremill.quicklens:quicklens_2.10:1.4.4 for download\n",
      "Preparing to fetch from:\n",
      "-> file:/var/folders/zz/zyxvpxvq6csfxvn_n0000000000000/T/toree_add_deps9111157238150301946/\n",
      "-> file:/Users/tmo/.m2/repository\n",
      "-> https://repo1.maven.org/maven2\n",
      "-> New file at /var/folders/zz/zyxvpxvq6csfxvn_n0000000000000/T/toree_add_deps9111157238150301946/https/repo1.maven.org/maven2/com/softwaremill/quicklens/quicklens_2.10/1.4.4/quicklens_2.10-1.4.4.jar\n",
      "Marking org.tmoerman:plongeur-spark_2.10:0.3.51 for download\n",
      "Preparing to fetch from:\n",
      "-> file:/var/folders/zz/zyxvpxvq6csfxvn_n0000000000000/T/toree_add_deps9111157238150301946/\n",
      "-> file:/Users/tmo/.m2/repository\n",
      "-> https://repo1.maven.org/maven2\n",
      "-> New file at /Users/tmo/.m2/repository/org/tmoerman/plongeur-spark_2.10/0.3.51/plongeur-spark_2.10-0.3.51.jar\n"
     ]
    }
   ],
   "source": [
    "%AddDeps org.apache.spark spark-mllib_2.10 1.6.2 --repository file:/Users/tmo/.m2/repository\n",
    "%AddDeps org.scalanlp breeze_2.10 0.11.2 --transitive\n",
    "%AddDeps org.scalanlp breeze-natives_2.10 0.11.2\n",
    "%AddDeps org.scalanlp breeze-macros_2.10 0.11.2\n",
    "%AddDeps com.github.haifengl smile-core 1.2.0 --transitive\n",
    "%AddDeps com.github.karlhigley spark-neighbors_2.10 0.3.6-FORK --repository file:/Users/tmo/.m2/repository\n",
    "%AddDeps io.reactivex rxscala_2.10 0.26.1 --transitive --repository file:/Users/tmo/.m2/repository \n",
    "%AddDeps com.softwaremill.quicklens quicklens_2.10 1.4.4 --repository file:/Users/tmo/.m2/repository\n",
    "%AddDeps org.tmoerman plongeur-spark_2.10 0.3.51 --repository file:/Users/tmo/.m2/repository"
   ]
  },
  {
   "cell_type": "code",
   "execution_count": 2,
   "metadata": {
    "collapsed": false,
    "nbpresent": {
     "id": "70465288-c658-4f45-a709-4e6dd0f9a390"
    }
   },
   "outputs": [
    {
     "name": "stdout",
     "output_type": "stream",
     "text": [
      "Starting download from http://localhost:8888/nbextensions/declarativewidgets/declarativewidgets.jar\n",
      "Finished download of declarativewidgets.jar\n"
     ]
    }
   ],
   "source": [
    "%addjar http://localhost:8888/nbextensions/declarativewidgets/declarativewidgets.jar"
   ]
  },
  {
   "cell_type": "markdown",
   "metadata": {
    "collapsed": false,
    "nbpresent": {
     "id": "ff4512c4-eb02-43ff-8911-26c511ea96b4"
    }
   },
   "source": [
    "#### Import classes"
   ]
  },
  {
   "cell_type": "code",
   "execution_count": 3,
   "metadata": {
    "collapsed": false,
    "nbpresent": {
     "id": "800b012e-aa8e-4989-a156-a0b1f1e34391"
    }
   },
   "outputs": [],
   "source": [
    "import rx.lang.scala.{Observer, Subscription, Observable}\n",
    "import rx.lang.scala.subjects.PublishSubject\n",
    "import rx.lang.scala.subjects._\n",
    "\n",
    "import org.apache.commons.lang.StringUtils.trim\n",
    "import org.apache.spark.SparkContext\n",
    "import org.apache.spark.mllib.linalg.Vectors.dense\n",
    "import org.apache.spark.rdd.RDD\n",
    "import org.joda.time.DateTime\n",
    "import org.tmoerman.plongeur.tda.TDAMachine\n",
    "import org.tmoerman.plongeur.tda.Distances._\n",
    "import org.tmoerman.plongeur.tda.Model._\n",
    "import org.tmoerman.plongeur.tda.Filters._\n",
    "import org.tmoerman.plongeur.tda.cluster.Clustering._\n",
    "import org.tmoerman.plongeur.tda.cluster.Scale._\n",
    "import org.tmoerman.plongeur.tda.Colour._\n",
    "import org.tmoerman.plongeur.tda.Brewer\n",
    "import org.tmoerman.plongeur.tda.LSH.LSHParams\n",
    "import org.tmoerman.plongeur.tda.Model.{DataPoint, TDAContext, dp}\n",
    "import org.tmoerman.plongeur.tda.knn.FastKNN.FastKNNParams\n",
    "import org.tmoerman.plongeur.tda.knn.SampledKNN.SampledKNNParams\n",
    "import org.tmoerman.plongeur.tda.knn.{FastKNN, SampledKNN, _}\n",
    "import org.tmoerman.plongeur.util.RDDFunctions._\n",
    "import org.tmoerman.plongeur.util.TimeUtils.time\n",
    "import org.tmoerman.plongeur.tda.geometry.Laplacian._\n",
    "import breeze.stats.distributions._\n",
    "import org.apache.spark.mllib.linalg.SparseMatrix"
   ]
  },
  {
   "cell_type": "code",
   "execution_count": 4,
   "metadata": {
    "collapsed": false
   },
   "outputs": [
    {
     "data": {
      "application/javascript": [
       "\n",
       "      window.Urth = window.Urth || {};\n",
       "      Urth._initialized = Urth._initialized || $.Deferred();\n",
       "      Urth.whenReady = Urth.whenReady || function(cb) {\n",
       "        Urth._initialized.then(function() {\n",
       "          Urth.whenReady(cb);\n",
       "        });\n",
       "      };\n",
       "      Urth.whenReady(function() { console.log(\"Declarative widgets connected.\") });"
      ]
     },
     "metadata": {},
     "output_type": "display_data"
    }
   ],
   "source": [
    "import declarativewidgets._\n",
    "initWidgets\n",
    "\n",
    "import declarativewidgets.WidgetChannels.channel"
   ]
  },
  {
   "cell_type": "code",
   "execution_count": 5,
   "metadata": {
    "collapsed": false
   },
   "outputs": [],
   "source": [
    "import java.util.concurrent.atomic.AtomicReference\n",
    "\n",
    "case class SubRef(val ref: AtomicReference[Option[Subscription]] = new AtomicReference[Option[Subscription]](None)) extends Serializable {\n",
    "\n",
    "    def update(sub: Subscription): Unit = ref.getAndSet(Option(sub)).foreach(old => old.unsubscribe())\n",
    "\n",
    "    def reset(): Unit = update(null)\n",
    "\n",
    "}"
   ]
  },
  {
   "cell_type": "markdown",
   "metadata": {
    "nbpresent": {
     "id": "17926a43-50f9-444a-97a5-84eaf41caa6a"
    }
   },
   "source": [
    "#### Import polymer elements\n",
    "\n",
    "These cells triggers Bower installations of the specified web components. \n",
    "\n",
    "If it doesn't work, check whether Bower has sufficient permissions to install in the jupyter `/nbextensions` folder."
   ]
  },
  {
   "cell_type": "code",
   "execution_count": 6,
   "metadata": {
    "collapsed": false,
    "nbpresent": {
     "id": "282de503-679a-43a3-af20-3002bd068851"
    }
   },
   "outputs": [
    {
     "data": {
      "text/html": [
       "<link rel='import' href='urth_components/paper-slider/paper-slider.html' \n",
       "        is='urth-core-import' package='PolymerElements/paper-slider'>\n",
       "<link rel='import' href='urth_components/paper-button/paper-button.html' \n",
       "        is='urth-core-import' package='PolymerElements/paper-button'>\n",
       "<link rel='import' href='urth_components/plongeur-graph/plongeur-graph.html' \n",
       "        is='urth-core-import' package='tmoerman/plongeur-graph'>\n",
       "<link rel='import' href='urth_components/urth-viz-scatter/urth-viz-scatter.html' is='urth-core-import'>"
      ]
     },
     "execution_count": 6,
     "metadata": {},
     "output_type": "execute_result"
    }
   ],
   "source": [
    "%%html\n",
    "<link rel='import' href='urth_components/paper-slider/paper-slider.html' \n",
    "        is='urth-core-import' package='PolymerElements/paper-slider'>\n",
    "<link rel='import' href='urth_components/paper-button/paper-button.html' \n",
    "        is='urth-core-import' package='PolymerElements/paper-button'>\n",
    "<link rel='import' href='urth_components/plongeur-graph/plongeur-graph.html' \n",
    "        is='urth-core-import' package='tmoerman/plongeur-graph'>\n",
    "<link rel='import' href='urth_components/urth-viz-scatter/urth-viz-scatter.html' is='urth-core-import'>"
   ]
  },
  {
   "cell_type": "markdown",
   "metadata": {
    "nbpresent": {
     "id": "3ee8048e-d1e3-4c46-99cc-5a3bc5c7f865"
    }
   },
   "source": [
    "#### Reactive TDA Machine"
   ]
  },
  {
   "cell_type": "markdown",
   "metadata": {},
   "source": [
    "Keep references to Rx subscriptions apart."
   ]
  },
  {
   "cell_type": "code",
   "execution_count": 7,
   "metadata": {
    "collapsed": true
   },
   "outputs": [],
   "source": [
    "val in$_subRef = SubRef()"
   ]
  },
  {
   "cell_type": "markdown",
   "metadata": {
    "nbpresent": {
     "id": "40c9258a-bbab-40d7-95ca-84b622b5951e"
    }
   },
   "source": [
    "Instantiate a `PublishSubject`. This stream of `TDAParams` instances represents the input of a `TDAMachine`. The `PublishSubject` listens to changes and sets these to the channel `\"ch_TDA_1\"` under the `\"params\"` key.\n",
    "\n",
    "*TODO: unsubscribe previous on re-evaluation*"
   ]
  },
  {
   "cell_type": "code",
   "execution_count": 8,
   "metadata": {
    "collapsed": false,
    "nbpresent": {
     "id": "53be8369-a4fb-4105-8e5b-808067019bb2"
    }
   },
   "outputs": [],
   "source": [
    "val in$ = PublishSubject[TDAParams]\n",
    "\n",
    "in$_subRef.update(in$.subscribe(p => channel(\"ch_TDA_1\").set(\"params\", p.toString)))"
   ]
  },
  {
   "cell_type": "markdown",
   "metadata": {
    "nbpresent": {
     "id": "0a444806-7064-47e9-89f3-ed1313a47c74"
    }
   },
   "source": [
    "Create an initial `TDAParams` instance. In the same cell, we submit the instance to the `PublishSubject`."
   ]
  },
  {
   "cell_type": "markdown",
   "metadata": {
    "nbpresent": {
     "id": "d23779c0-a7e1-4dbf-865b-2609f499a45f"
    }
   },
   "source": [
    "For the sake of illustration, we create an html snippet that listens to changes on the `\"ch_TDA_1\"` channel and displays the value of the `\"params\"` key."
   ]
  },
  {
   "cell_type": "code",
   "execution_count": 9,
   "metadata": {
    "collapsed": false,
    "nbpresent": {
     "id": "6c896ce2-45c9-44fb-896e-d2144d14e08e"
    }
   },
   "outputs": [
    {
     "data": {
      "text/html": [
       "<template is='urth-core-bind' channel='ch_TDA_1'>  \n",
       "    <div style='background: #FFB; padding: 10px;'>\n",
       "        <span style='font-family: \"Courier\"'>[[params]]</span>\n",
       "    </div>\n",
       "</template>"
      ]
     },
     "execution_count": 9,
     "metadata": {},
     "output_type": "execute_result"
    }
   ],
   "source": [
    "%%html\n",
    "<template is='urth-core-bind' channel='ch_TDA_1'>  \n",
    "    <div style='background: #FFB; padding: 10px;'>\n",
    "        <span style='font-family: \"Courier\"'>[[params]]</span>\n",
    "    </div>\n",
    "</template>"
   ]
  },
  {
   "cell_type": "markdown",
   "metadata": {
    "nbpresent": {
     "id": "b58f5933-8e2b-445c-92f6-27589989e0ee"
    }
   },
   "source": [
    "Notice that when we evaluate the `TDAParams` instantiation cells, the output of the yellow box changes."
   ]
  },
  {
   "cell_type": "markdown",
   "metadata": {
    "collapsed": true,
    "nbpresent": {
     "id": "407e489d-0988-457e-a68b-5b13abe99c0d"
    }
   },
   "source": [
    "#### Inititalize rdd\n",
    "\n",
    "In this example, we are using a synthetic torus-shaped 2D data set."
   ]
  },
  {
   "cell_type": "code",
   "execution_count": 10,
   "metadata": {
    "collapsed": false,
    "nbpresent": {
     "id": "f95081ee-5623-4d18-ac6f-24ee227e225e"
    }
   },
   "outputs": [],
   "source": [
    "import org.apache.spark.rdd.RDD\n",
    "import org.apache.commons.lang.StringUtils.trim\n",
    "import org.apache.spark.mllib.linalg.Vectors.dense\n",
    "\n",
    "def readMixture(file: String): RDD[DataPoint] = {\n",
    "  sc\n",
    "    .textFile(file)\n",
    "    .zipWithIndex\n",
    "    .map{ case (line, idx) =>\n",
    "      val columns = line.split(\",\").map(trim)\n",
    "      val category = columns.head\n",
    "      val features = columns.tail.map(_.toDouble)\n",
    "\n",
    "      dp(idx, dense(features), Map(\"cat\" -> category)) }\n",
    "}"
   ]
  },
  {
   "cell_type": "code",
   "execution_count": 11,
   "metadata": {
    "collapsed": false,
    "nbpresent": {
     "id": "44093436-255d-4f4e-8a87-eef04e88a076"
    }
   },
   "outputs": [],
   "source": [
    "val data_path = \"/Users/tmo/Work/batiskav/projects/plongeur/scala/plongeur-spark/src/test/resources/data/\"\n",
    "\n",
    "val mixture_path = data_path + \"mixture.1000.2.csv\"\n",
    "\n",
    "val rdd = readMixture(mixture_path).cache\n",
    "\n",
    "val ctx = TDAContext(sc, rdd)"
   ]
  },
  {
   "cell_type": "code",
   "execution_count": 12,
   "metadata": {
    "collapsed": false
   },
   "outputs": [
    {
     "data": {
      "text/plain": [
       "1250"
      ]
     },
     "execution_count": 12,
     "metadata": {},
     "output_type": "execute_result"
    }
   ],
   "source": [
    "rdd.count"
   ]
  },
  {
   "cell_type": "markdown",
   "metadata": {
    "nbpresent": {
     "id": "5f060023-6ac5-4d84-9e36-8bcf7e8a4710"
    }
   },
   "source": [
    "Turn a TDAResult into a data structure."
   ]
  },
  {
   "cell_type": "code",
   "execution_count": 13,
   "metadata": {
    "collapsed": false,
    "nbpresent": {
     "id": "4ee5b503-b74a-47c4-8f48-452d1f42e746"
    }
   },
   "outputs": [],
   "source": [
    "val r = scala.util.Random\n",
    "\n",
    "def format(result: TDAResult) = Map(\n",
    "    \"nodes\" -> result.clusters.map(c =>\n",
    "      Map(\n",
    "        \"id\"     -> c.id.toString,\n",
    "        \"size\"   -> c.dataPoints.size,\n",
    "        \"color\"  -> c.colours.headOption.getOrElse(\"#000000\"),\n",
    "        \"x\"      -> r.nextInt(100),\n",
    "        \"y\"      -> r.nextInt(100))),\n",
    "    \"edges\" -> result.edges.map(e => {\n",
    "      val (from, to) = e.toArray match {case Array(f, t) => (f, t)}\n",
    "\n",
    "      Map(\n",
    "        \"id\"     -> s\"$from--$to\",\n",
    "        \"source\" -> from.toString,\n",
    "        \"target\" -> to.toString)}))"
   ]
  },
  {
   "cell_type": "markdown",
   "metadata": {},
   "source": [
    "Run the machine, obtaining an `Observable` of `TDAResult` instances"
   ]
  },
  {
   "cell_type": "code",
   "execution_count": 14,
   "metadata": {
    "collapsed": false,
    "nbpresent": {
     "id": "b59014a4-e289-4011-b1ab-8667dd1c893f"
    }
   },
   "outputs": [],
   "source": [
    "val out$: Observable[TDAResult] = TDAMachine.run(ctx, in$)"
   ]
  },
  {
   "cell_type": "code",
   "execution_count": 15,
   "metadata": {
    "collapsed": true
   },
   "outputs": [],
   "source": [
    "val out$_subRef = SubRef()"
   ]
  },
  {
   "cell_type": "code",
   "execution_count": 16,
   "metadata": {
    "collapsed": false,
    "nbpresent": {
     "id": "8b43b0a5-55ee-4fdb-bcfc-4cca3df27a04"
    }
   },
   "outputs": [],
   "source": [
    "out$_subRef.update(\n",
    "    out$.subscribe(\n",
    "        onNext = (r) => channel(\"ch_TDA_1\").set(\"result\", format(r)),\n",
    "        onError = (e) => println(\"Error in TDA machine: \", e)))"
   ]
  },
  {
   "cell_type": "markdown",
   "metadata": {
    "collapsed": true,
    "nbpresent": {
     "id": "f329dd44-6902-4dc9-8a6a-77b00475a612"
    }
   },
   "source": [
    "#### Reactive inputs\n",
    "\n",
    "First, we set up a stream of updates to BASE TDAParams instance."
   ]
  },
  {
   "cell_type": "code",
   "execution_count": 17,
   "metadata": {
    "collapsed": true
   },
   "outputs": [],
   "source": [
    "val pipe$_subRef = SubRef()"
   ]
  },
  {
   "cell_type": "code",
   "execution_count": 18,
   "metadata": {
    "collapsed": false
   },
   "outputs": [
    {
     "data": {
      "text/html": [
       "<style>\n",
       "table.clean th {\n",
       "    border-style: hidden;\n",
       "    white-space: nowrap;\n",
       "}\n",
       "table.clean td {\n",
       "    border-style: hidden;\n",
       "}\n",
       "tr.title {\n",
       "    text-align: center;\n",
       "    background-color: beige;\n",
       "}\n",
       "td.wide {\n",
       "    width: 500px;\n",
       "}\n",
       "td.wide paper-slider {\n",
       "   width: 100%;\n",
       "}\n",
       "th.code {\n",
       "   font-family: courier new,monospace;\n",
       "}\n",
       "    </style>"
      ]
     },
     "execution_count": 18,
     "metadata": {},
     "output_type": "execute_result"
    }
   ],
   "source": [
    "import org.tmoerman.plongeur.ui.Controls._\n",
    "kernel.magics.html(controlsCSS)"
   ]
  },
  {
   "cell_type": "code",
   "execution_count": 40,
   "metadata": {
    "collapsed": false
   },
   "outputs": [],
   "source": [
    "import TDAParams._\n",
    "\n",
    "val den = Filter(Density(sigma=1.0), 30, 0.30)\n",
    "\n",
    "val pc0 = Filter(Feature(0), 20, 0.3)\n",
    "val pc1 = Filter(Feature(1), 20, 0.3)\n",
    "\n",
    "val selector = (d: DataPoint) => d.meta.get(\"cat\")\n",
    "val maxFq = ClusterMaxFrequency(Array(\"#F00\", \"#00F\", \"#999\"), selector)\n",
    "val avgFilterValue = AverageFilterValue(Brewer.palettes(\"PuOr\")(9), den)\n",
    "\n",
    "val BASE = \n",
    "    TDAParams(\n",
    "        lens = TDALens(pc0, pc1),\n",
    "        clusteringParams = ClusteringParams(),\n",
    "        scaleSelection = firstGap(5),\n",
    "        collapseDuplicateClusters = false,\n",
    "        colouring = Nop())\n",
    "\n",
    "in$.onNext(BASE)"
   ]
  },
  {
   "cell_type": "code",
   "execution_count": 34,
   "metadata": {
    "collapsed": false
   },
   "outputs": [
    {
     "data": {
      "text/html": [
       "<template is='urth-core-bind' channel='ch_TDA_1'>    \n",
       "    <plongeur-graph height=\"600\" data=\"{{result}}\"></plongeur-graph>\n",
       "</template>"
      ]
     },
     "execution_count": 34,
     "metadata": {},
     "output_type": "execute_result"
    }
   ],
   "source": [
    "%%html\n",
    "<template is='urth-core-bind' channel='ch_TDA_1'>    \n",
    "    <plongeur-graph height=\"600\" data=\"{{result}}\"></plongeur-graph>\n",
    "</template>"
   ]
  },
  {
   "cell_type": "code",
   "execution_count": 36,
   "metadata": {
    "collapsed": false
   },
   "outputs": [
    {
     "data": {
      "text/html": [
       "<template is=\"urth-core-bind\" channel=\"ch_TDA_1\">\n",
       "      <table class=\"clean\"> <tr class=\"title\">\n",
       "            <th>Filter</th>\n",
       "            <th colspan=\"2\" class=\"code\">Feature(0)</th>\n",
       "          </tr><tr>\n",
       "            <th>Nr of cover bins</th>\n",
       "            <td class=\"wide\"><paper-slider min=\"0\" max=\"100\" step=\"1\" value=\"{{filter-0-nrBins}}\"/></td>\n",
       "            <td>[[filter-0-nrBins]]</td>\n",
       "          </tr><tr>\n",
       "            <th>Cover overlap</th>\n",
       "            <td class=\"wide\"><paper-slider min=\"0\" max=\"75\" step=\"1\" value=\"{{filter-0-overlap}}\"/></td>\n",
       "            <td>[[filter-0-overlap]]%</td>\n",
       "          </tr><tr class=\"title\">\n",
       "            <th>Filter</th>\n",
       "            <th colspan=\"2\" class=\"code\">Feature(1)</th>\n",
       "          </tr><tr>\n",
       "            <th>Nr of cover bins</th>\n",
       "            <td class=\"wide\"><paper-slider min=\"0\" max=\"100\" step=\"1\" value=\"{{filter-1-nrBins}}\"/></td>\n",
       "            <td>[[filter-1-nrBins]]</td>\n",
       "          </tr><tr>\n",
       "            <th>Cover overlap</th>\n",
       "            <td class=\"wide\"><paper-slider min=\"0\" max=\"75\" step=\"1\" value=\"{{filter-1-overlap}}\"/></td>\n",
       "            <td>[[filter-1-overlap]]%</td>\n",
       "          </tr>\n",
       "        <tr class=\"title\">\n",
       "          <th></th>\n",
       "          <th colspan=\"2\" class=\"code\">General</th>\n",
       "        </tr>\n",
       "        <tr>\n",
       "          <th>Nr of scale bins</th>\n",
       "          <td class=\"wide\"><paper-slider min=\"0\" max=\"150\" step=\"1\" value=\"{{scaleBins}}\"/></td>\n",
       "          <td>[[scaleBins]]</td>\n",
       "        </tr>\n",
       "        <tr>\n",
       "          <th>Collapse duplicates</th>\n",
       "          <td colspan=\"2\"><paper-toggle-button checked=\"{{collapse}}\"/></td>\n",
       "        </tr>\n",
       "      </table>\n",
       "    </template>"
      ]
     },
     "execution_count": 36,
     "metadata": {},
     "output_type": "execute_result"
    }
   ],
   "source": [
    "val (sub, html) = BASE.makeControls(channel(\"ch_TDA_1\"), in$)\n",
    "pipe$_subRef.update(sub)\n",
    "kernel.magics.html(html)"
   ]
  },
  {
   "cell_type": "code",
   "execution_count": 27,
   "metadata": {
    "collapsed": false
   },
   "outputs": [
    {
     "data": {
      "text/plain": [
       "List(List(0.0, 0.0, 0.0, 0.0, 0.0, 0.0, 0.0, 0.0, 1.45157042641657, -0.254897771679638, -0.117268763277652, 0.484539839250765, -1.18693811390646, -0.593712755643318, -0.904161427869958, -0.0680593488088087, 0.301802668750097, -0.594621872021638, 1.03938840029754, -1.3667295355169))"
      ]
     },
     "execution_count": 27,
     "metadata": {},
     "output_type": "execute_result"
    }
   ],
   "source": [
    "val rawData = rdd.\n",
    "    map(dp => dp.features.toArray.toList).collect.toList\n",
    "\n",
    "rawData.take(1)"
   ]
  },
  {
   "cell_type": "code",
   "execution_count": 28,
   "metadata": {
    "collapsed": true
   },
   "outputs": [],
   "source": [
    "channel(\"data\").set(\"raw\", rawData)"
   ]
  },
  {
   "cell_type": "code",
   "execution_count": 29,
   "metadata": {
    "collapsed": false
   },
   "outputs": [
    {
     "data": {
      "text/html": [
       "<template is='urth-core-bind' channel='data'>    \n",
       "    <urth-viz-scatter\n",
       "        datarows='[[raw]]'\n",
       "        primary='0'\n",
       "        secondary='1'        \n",
       "        />\n",
       "</template>"
      ]
     },
     "execution_count": 29,
     "metadata": {},
     "output_type": "execute_result"
    }
   ],
   "source": [
    "%%html\n",
    "<template is='urth-core-bind' channel='data'>    \n",
    "    <urth-viz-scatter\n",
    "        datarows='[[raw]]'\n",
    "        primary='0'\n",
    "        secondary='1'        \n",
    "        />\n",
    "</template>"
   ]
  },
  {
   "cell_type": "code",
   "execution_count": null,
   "metadata": {
    "collapsed": true
   },
   "outputs": [],
   "source": []
  }
 ],
 "metadata": {
  "anaconda-cloud": {},
  "celltoolbar": "Raw Cell Format",
  "kernelspec": {
   "display_name": "Apache Toree - Scala",
   "language": "scala",
   "name": "apache_toree_scala"
  },
  "language_info": {
   "name": "scala",
   "version": "2.10.4"
  },
  "widgets": {
   "state": {
    "A348E90F24E343F68CDFCAAB38E8D8B4": {
     "views": []
    }
   },
   "version": "1.1.2"
  }
 },
 "nbformat": 4,
 "nbformat_minor": 0
}
